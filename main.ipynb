{
 "cells": [
  {
   "cell_type": "code",
   "execution_count": 1,
   "metadata": {
    "tags": []
   },
   "outputs": [
    {
     "name": "stderr",
     "output_type": "stream",
     "text": [
      "2024-01-11 12:20:12.567016: I tensorflow/core/platform/cpu_feature_guard.cc:182] This TensorFlow binary is optimized to use available CPU instructions in performance-critical operations.\n",
      "To enable the following instructions: AVX2 FMA, in other operations, rebuild TensorFlow with the appropriate compiler flags.\n",
      "2024-01-11 12:20:13.312466: W tensorflow/compiler/tf2tensorrt/utils/py_utils.cc:38] TF-TRT Warning: Could not find TensorRT\n"
     ]
    }
   ],
   "source": [
    "import os\n",
    "import monai\n",
    "import torch\n",
    "import torch.nn as nn\n",
    "import torch.optim as optim\n",
    "from monai.networks.nets import UNet, AttentionUnet\n",
    "from monai.data import DataLoader, CacheDataset, ImageDataset, Dataset, image_reader\n",
    "from monai.data.utils import pad_list_data_collate\n",
    "from monai.transforms import Compose, ScaleIntensity, ToTensor,LoadImaged, ScaleIntensityd, ToTensord,EnsureChannelFirstd\n",
    "import SimpleITK as sitk\n",
    "from monai.data.image_reader import ITKReader\n",
    "from monai.losses import DiceLoss, DiceCELoss, DiceFocalLoss, FocalLoss, GeneralizedDiceLoss\n",
    "\n",
    "from monai.metrics import MSEMetric\n",
    "\n",
    "import dataset\n",
    "# import dataset_low_resolution\n",
    "\n",
    "from dataset import PelvisDataset\n",
    "import dataset_old\n",
    "import numpy as np\n",
    "import sklearn\n",
    "from monai.metrics import compute_hausdorff_distance\n",
    "from UNETR import UNETR\n",
    "import ipywidgets as widgets\n",
    "from IPython.display import display\n",
    "import matplotlib.pyplot as plt\n",
    "import time"
   ]
  },
  {
   "cell_type": "markdown",
   "metadata": {},
   "source": [
    "# DATASET"
   ]
  },
  {
   "cell_type": "markdown",
   "metadata": {},
   "source": [
    "Train dataset and dataloader"
   ]
  },
  {
   "cell_type": "code",
   "execution_count": 2,
   "metadata": {
    "tags": []
   },
   "outputs": [],
   "source": [
    "# train\n",
    "root_dir =\"/home/paulagmtz/TFM_PAULA_24/DATA_TFM/train_files\"\n",
    "input_dim = (194,148,105)\n",
    "n_labels= 6\n",
    "train_dataset = PelvisDataset(root_dir,input_dim, n_labels, transform=None)\n",
    "\n",
    "train_dataloader = DataLoader(train_dataset, collate_fn=pad_list_data_collate,batch_size =2)"
   ]
  },
  {
   "cell_type": "code",
   "execution_count": 3,
   "metadata": {},
   "outputs": [],
   "source": [
    "# root_dir =\"/home/paulagmtz/TFM_PAULA_24/DATA_TFM/train_files\"\n",
    "# # input_dim = (176,128,240)\n",
    "# input_dim = (194,148,105)\n",
    "\n",
    "# n_labels= 2\n",
    "\n",
    "# train_dataset = dataset_low_resolution.PelvisDataset(root_dir,input_dim, n_labels,transform=None)\n",
    "\n",
    "# train_dataloader = DataLoader(train_dataset, batch_size =1)"
   ]
  },
  {
   "cell_type": "markdown",
   "metadata": {},
   "source": [
    "validation dataloader"
   ]
  },
  {
   "cell_type": "code",
   "execution_count": 3,
   "metadata": {
    "tags": []
   },
   "outputs": [],
   "source": [
    "root_dir =\"/home/paulagmtz/TFM_PAULA_24/DATA_TFM/val_files\"\n",
    "input_dim =(194,148,105)\n",
    "n_labels= 6\n",
    "val_dataset = PelvisDataset(root_dir,input_dim, n_labels, transform=None)\n",
    "\n",
    "val_dataloader = DataLoader(val_dataset, batch_size =1)"
   ]
  },
  {
   "cell_type": "code",
   "execution_count": 5,
   "metadata": {},
   "outputs": [],
   "source": [
    "# root_dir =\"/home/paulagmtz/TFM_PAULA_24/DATA_TFM/val_files\"\n",
    "# input_dim =(194,148,105)\n",
    "# n_labels= 2\n",
    "\n",
    "# val_dataset = dataset_low_resolution.PelvisDataset(root_dir,input_dim, n_labels,transform=None)\n",
    "\n",
    "# val_dataloader = DataLoader(val_dataset, batch_size =2)"
   ]
  },
  {
   "cell_type": "markdown",
   "metadata": {},
   "source": [
    "test dataloader"
   ]
  },
  {
   "cell_type": "code",
   "execution_count": 4,
   "metadata": {
    "tags": []
   },
   "outputs": [],
   "source": [
    "root_dir =\"/home/paulagmtz/TFM_PAULA_24/DATA_TFM/test_files\"\n",
    "input_dim =(194,148,105)\n",
    "n_labels= 6\n",
    "test_dataset = PelvisDataset(root_dir,input_dim, n_labels, transform=None)\n",
    "\n",
    "test_dataloader = DataLoader(test_dataset, batch_size =1)"
   ]
  },
  {
   "cell_type": "markdown",
   "metadata": {},
   "source": [
    "# PLOT FUNCTIONS"
   ]
  },
  {
   "cell_type": "code",
   "execution_count": 5,
   "metadata": {},
   "outputs": [],
   "source": [
    "def plot_loss_evolution(loss_evolution):\n",
    "    plt.figure(figsize=(10,5))\n",
    "    plt.plot(loss_evolution)\n",
    "    plt.title('Loss Evolution')\n",
    "    plt.xlabel('Epochs')\n",
    "    plt.ylabel('Loss')\n",
    "    plt.show()"
   ]
  },
  {
   "cell_type": "code",
   "execution_count": 6,
   "metadata": {},
   "outputs": [],
   "source": [
    "def plot_results(inputs, targets, outputs):\n",
    "    depth_slice = inputs[:, :, :, :, :]\n",
    "    depth_slice_target = targets[:, :, :, :, :]\n",
    "    depth_slice_outputs = outputs[:, :, :, :, :]\n",
    "\n",
    "    def plot_image(i):\n",
    "        fig, axes = plt.subplots(1, 3, figsize=(10, 5))\n",
    "\n",
    "        image_array = depth_slice[0, :, i, :, :].cpu().detach().numpy()\n",
    "        image_array_target = depth_slice_target[0, :, i, :, :].cpu().detach().numpy()\n",
    "        image_array_outputs = depth_slice_outputs[0, :, i, :, :].cpu().detach().numpy()\n",
    "\n",
    "        axes[0].imshow(image_array[0, :, :], cmap=\"gray\")\n",
    "        axes[0].set_title(\"inputs\")\n",
    "        axes[0].axis('off')\n",
    "\n",
    "        axes[1].imshow(image_array_target[0, :, :], cmap=\"gray\")\n",
    "        axes[1].set_title(\"target\")\n",
    "        axes[1].axis('off')\n",
    "\n",
    "        axes[2].imshow(image_array_outputs[0, :, :], cmap=\"gray\")\n",
    "        axes[2].set_title(\"output\")\n",
    "        axes[2].axis('off')\n",
    "\n",
    "        plt.show()\n",
    "\n",
    "    widgets.interact(plot_image, i=widgets.IntSlider(min=0, max=depth_slice.shape[2]-1, step=1, value=22))\n"
   ]
  },
  {
   "cell_type": "code",
   "execution_count": 7,
   "metadata": {},
   "outputs": [],
   "source": [
    "def plot_targets(targets):\n",
    "            depth_slice = targets[:, :, :, :]\n",
    "\n",
    "            def plot_images(slice_index):\n",
    "                fig, axes = plt.subplots(1, 7, figsize=(20, 10))\n",
    "\n",
    "                for i in range(7):\n",
    "                    image_array = depth_slice[i, slice_index, :, :].cpu().detach().numpy()\n",
    "                    axes[i].imshow(image_array, cmap=\"gray\")\n",
    "                    axes[i].set_title(\"Channel {}\".format(i))\n",
    "                    axes[i].axis('off')\n",
    "\n",
    "                plt.show()\n",
    "\n",
    "            interact(plot_images, slice_index=widgets.IntSlider(min=0, max=depth_slice.shape[1] - 1, step=1, value=22))\n"
   ]
  },
  {
   "cell_type": "code",
   "execution_count": 8,
   "metadata": {},
   "outputs": [],
   "source": [
    "# Función para mostrar imágenes de inputs, targets y outputs\n",
    "def plot_multilabel_results(inputs, targets, outputs):\n",
    "    depth_slice = inputs[:, :, :, :, :]\n",
    "    depth_slice_target = targets[:, :, :, :, :]\n",
    "    depth_slice_outputs = outputs[:, :, :, :, :]\n",
    "\n",
    "    def plot_image(i):\n",
    "        \n",
    "        fig, axes = plt.subplots(7, 3, figsize=(20, 15))\n",
    "        \n",
    "        for c in range(7):\n",
    "            image_array = depth_slice[0, :, i, :, :].cpu().detach().numpy()\n",
    "            image_array_target = depth_slice_target[0,c, i, :, :].cpu().detach().numpy()\n",
    "            image_array_outputs = depth_slice_outputs[0, c, i, :, :].cpu().detach().numpy()\n",
    "\n",
    "            axes[c,0].imshow(image_array[0, :, :], cmap=\"gray\")\n",
    "            axes[c,0].set_title(\"inputs\")\n",
    "            axes[c,0].axis('off')\n",
    "\n",
    "            axes[c,1].imshow(image_array_target, cmap=\"gray\")\n",
    "            axes[c,1].set_title(\"target\")\n",
    "            axes[c,1].axis('off')\n",
    "\n",
    "            axes[c,2].imshow(image_array_outputs, cmap=\"gray\")\n",
    "            axes[c,2].set_title(\"output\")\n",
    "            axes[c,2].axis('off')\n",
    "\n",
    "        plt.show()\n",
    "\n",
    "    widgets.interact(plot_image, i=widgets.IntSlider(min=0, max=depth_slice.shape[2]-1, step=1, value=22))\n"
   ]
  },
  {
   "cell_type": "markdown",
   "metadata": {
    "tags": []
   },
   "source": [
    "# UNET\n"
   ]
  },
  {
   "cell_type": "code",
   "execution_count": 26,
   "metadata": {},
   "outputs": [],
   "source": [
    "import torch\n",
    "torch.cuda.empty_cache()"
   ]
  },
  {
   "cell_type": "code",
   "execution_count": 27,
   "metadata": {},
   "outputs": [],
   "source": [
    "device = torch.device(\"cuda:1\" if torch.cuda.is_available() else \"cpu\")\n",
    "model = UNet(\n",
    "    spatial_dims=3 ,\n",
    "    in_channels=1,\n",
    "    out_channels=7,\n",
    "    channels=(64,128,256,512), \n",
    "    strides=(2,2,2),\n",
    "    # num_res_units=2,\n",
    "    # norm=Norm.BATCH,    \n",
    ").to(device)\n"
   ]
  },
  {
   "cell_type": "code",
   "execution_count": 12,
   "metadata": {},
   "outputs": [
    {
     "name": "stdout",
     "output_type": "stream",
     "text": [
      "Estás conectado a una GPU: NVIDIA GeForce RTX 3090\n"
     ]
    }
   ],
   "source": [
    "import torch\n",
    "device = torch.device(\"cuda:1\" if torch.cuda.is_available() else \"cpu\")\n",
    "\n",
    "if torch.cuda.is_available():\n",
    "    print(f\"Estás conectado a una GPU: {torch.cuda.get_device_name(0)}\")\n",
    "else:\n",
    "    print(\"No estás conectado a una GPU.\")"
   ]
  },
  {
   "cell_type": "markdown",
   "metadata": {},
   "source": [
    "defino dice y cross entropy loss function"
   ]
  },
  {
   "cell_type": "code",
   "execution_count": 28,
   "metadata": {},
   "outputs": [],
   "source": [
    "# loss_function = nn.BCELoss()\n",
    "#\n",
    "dice_loss_function = DiceLoss(sigmoid=True, squared_pred=True) \n",
    "diceCE_loss_function = DiceCELoss(sigmoid=True)\n",
    "dicefocall_loss_function = DiceFocalLoss(sigmoid=True)\n",
    "generalizedDice_loss_function = GeneralizedDiceLoss(sigmoid=True)\n",
    "\n",
    "\n",
    "optimizer = optim.Adam(model.parameters(), lr=1e-3)\n"
   ]
  },
  {
   "cell_type": "markdown",
   "metadata": {},
   "source": [
    "Train model"
   ]
  },
  {
   "cell_type": "code",
   "execution_count": 15,
   "metadata": {},
   "outputs": [
    {
     "name": "stdout",
     "output_type": "stream",
     "text": [
      "Epoch [1/200] - Loss: 1.0001572370529175\n",
      "Epoch [2/200] - Loss: 1.0000648498535156\n",
      "Epoch [3/200] - Loss: 0.9999899864196777\n",
      "Epoch [4/200] - Loss: 0.9999440908432007\n",
      "Epoch [5/200] - Loss: 0.999886691570282\n",
      "Epoch [6/200] - Loss: 0.9997041821479797\n",
      "Epoch [7/200] - Loss: 0.998566210269928\n",
      "Epoch [8/200] - Loss: 0.9973514676094055\n",
      "Epoch [9/200] - Loss: 0.9689012169837952\n",
      "Epoch [10/200] - Loss: 0.9603275060653687\n",
      "Epoch [11/200] - Loss: 0.9265539050102234\n",
      "Epoch [12/200] - Loss: 0.8414891958236694\n",
      "Epoch [13/200] - Loss: 0.8260199427604675\n",
      "Epoch [14/200] - Loss: 0.7746447920799255\n",
      "Epoch [15/200] - Loss: 0.7501657605171204\n",
      "Epoch [16/200] - Loss: 0.7113004922866821\n"
     ]
    },
    {
     "ename": "KeyboardInterrupt",
     "evalue": "",
     "output_type": "error",
     "traceback": [
      "\u001b[0;31m---------------------------------------------------------------------------\u001b[0m",
      "\u001b[0;31mKeyboardInterrupt\u001b[0m                         Traceback (most recent call last)",
      "Cell \u001b[0;32mIn[15], line 8\u001b[0m\n\u001b[1;32m      5\u001b[0m \u001b[38;5;28;01mfor\u001b[39;00m epoch \u001b[38;5;129;01min\u001b[39;00m \u001b[38;5;28mrange\u001b[39m(num_epochs):\n\u001b[1;32m      7\u001b[0m     model\u001b[38;5;241m.\u001b[39mtrain()\n\u001b[0;32m----> 8\u001b[0m     \u001b[38;5;28;01mfor\u001b[39;00m batch \u001b[38;5;129;01min\u001b[39;00m train_dataloader:\n\u001b[1;32m      9\u001b[0m         inputs, targets \u001b[38;5;241m=\u001b[39m batch[\u001b[38;5;241m0\u001b[39m]\u001b[38;5;241m.\u001b[39mto(device), batch[\u001b[38;5;241m1\u001b[39m]\u001b[38;5;241m.\u001b[39mto(device)\n\u001b[1;32m     10\u001b[0m         optimizer\u001b[38;5;241m.\u001b[39mzero_grad()\n",
      "File \u001b[0;32m~/.local/lib/python3.8/site-packages/torch/utils/data/dataloader.py:633\u001b[0m, in \u001b[0;36m_BaseDataLoaderIter.__next__\u001b[0;34m(self)\u001b[0m\n\u001b[1;32m    630\u001b[0m \u001b[38;5;28;01mif\u001b[39;00m \u001b[38;5;28mself\u001b[39m\u001b[38;5;241m.\u001b[39m_sampler_iter \u001b[38;5;129;01mis\u001b[39;00m \u001b[38;5;28;01mNone\u001b[39;00m:\n\u001b[1;32m    631\u001b[0m     \u001b[38;5;66;03m# TODO(https://github.com/pytorch/pytorch/issues/76750)\u001b[39;00m\n\u001b[1;32m    632\u001b[0m     \u001b[38;5;28mself\u001b[39m\u001b[38;5;241m.\u001b[39m_reset()  \u001b[38;5;66;03m# type: ignore[call-arg]\u001b[39;00m\n\u001b[0;32m--> 633\u001b[0m data \u001b[38;5;241m=\u001b[39m \u001b[38;5;28;43mself\u001b[39;49m\u001b[38;5;241;43m.\u001b[39;49m\u001b[43m_next_data\u001b[49m\u001b[43m(\u001b[49m\u001b[43m)\u001b[49m\n\u001b[1;32m    634\u001b[0m \u001b[38;5;28mself\u001b[39m\u001b[38;5;241m.\u001b[39m_num_yielded \u001b[38;5;241m+\u001b[39m\u001b[38;5;241m=\u001b[39m \u001b[38;5;241m1\u001b[39m\n\u001b[1;32m    635\u001b[0m \u001b[38;5;28;01mif\u001b[39;00m \u001b[38;5;28mself\u001b[39m\u001b[38;5;241m.\u001b[39m_dataset_kind \u001b[38;5;241m==\u001b[39m _DatasetKind\u001b[38;5;241m.\u001b[39mIterable \u001b[38;5;129;01mand\u001b[39;00m \\\n\u001b[1;32m    636\u001b[0m         \u001b[38;5;28mself\u001b[39m\u001b[38;5;241m.\u001b[39m_IterableDataset_len_called \u001b[38;5;129;01mis\u001b[39;00m \u001b[38;5;129;01mnot\u001b[39;00m \u001b[38;5;28;01mNone\u001b[39;00m \u001b[38;5;129;01mand\u001b[39;00m \\\n\u001b[1;32m    637\u001b[0m         \u001b[38;5;28mself\u001b[39m\u001b[38;5;241m.\u001b[39m_num_yielded \u001b[38;5;241m>\u001b[39m \u001b[38;5;28mself\u001b[39m\u001b[38;5;241m.\u001b[39m_IterableDataset_len_called:\n",
      "File \u001b[0;32m~/.local/lib/python3.8/site-packages/torch/utils/data/dataloader.py:677\u001b[0m, in \u001b[0;36m_SingleProcessDataLoaderIter._next_data\u001b[0;34m(self)\u001b[0m\n\u001b[1;32m    675\u001b[0m \u001b[38;5;28;01mdef\u001b[39;00m \u001b[38;5;21m_next_data\u001b[39m(\u001b[38;5;28mself\u001b[39m):\n\u001b[1;32m    676\u001b[0m     index \u001b[38;5;241m=\u001b[39m \u001b[38;5;28mself\u001b[39m\u001b[38;5;241m.\u001b[39m_next_index()  \u001b[38;5;66;03m# may raise StopIteration\u001b[39;00m\n\u001b[0;32m--> 677\u001b[0m     data \u001b[38;5;241m=\u001b[39m \u001b[38;5;28;43mself\u001b[39;49m\u001b[38;5;241;43m.\u001b[39;49m\u001b[43m_dataset_fetcher\u001b[49m\u001b[38;5;241;43m.\u001b[39;49m\u001b[43mfetch\u001b[49m\u001b[43m(\u001b[49m\u001b[43mindex\u001b[49m\u001b[43m)\u001b[49m  \u001b[38;5;66;03m# may raise StopIteration\u001b[39;00m\n\u001b[1;32m    678\u001b[0m     \u001b[38;5;28;01mif\u001b[39;00m \u001b[38;5;28mself\u001b[39m\u001b[38;5;241m.\u001b[39m_pin_memory:\n\u001b[1;32m    679\u001b[0m         data \u001b[38;5;241m=\u001b[39m _utils\u001b[38;5;241m.\u001b[39mpin_memory\u001b[38;5;241m.\u001b[39mpin_memory(data, \u001b[38;5;28mself\u001b[39m\u001b[38;5;241m.\u001b[39m_pin_memory_device)\n",
      "File \u001b[0;32m~/.local/lib/python3.8/site-packages/torch/utils/data/_utils/fetch.py:51\u001b[0m, in \u001b[0;36m_MapDatasetFetcher.fetch\u001b[0;34m(self, possibly_batched_index)\u001b[0m\n\u001b[1;32m     49\u001b[0m         data \u001b[38;5;241m=\u001b[39m \u001b[38;5;28mself\u001b[39m\u001b[38;5;241m.\u001b[39mdataset\u001b[38;5;241m.\u001b[39m__getitems__(possibly_batched_index)\n\u001b[1;32m     50\u001b[0m     \u001b[38;5;28;01melse\u001b[39;00m:\n\u001b[0;32m---> 51\u001b[0m         data \u001b[38;5;241m=\u001b[39m [\u001b[38;5;28mself\u001b[39m\u001b[38;5;241m.\u001b[39mdataset[idx] \u001b[38;5;28;01mfor\u001b[39;00m idx \u001b[38;5;129;01min\u001b[39;00m possibly_batched_index]\n\u001b[1;32m     52\u001b[0m \u001b[38;5;28;01melse\u001b[39;00m:\n\u001b[1;32m     53\u001b[0m     data \u001b[38;5;241m=\u001b[39m \u001b[38;5;28mself\u001b[39m\u001b[38;5;241m.\u001b[39mdataset[possibly_batched_index]\n",
      "File \u001b[0;32m~/.local/lib/python3.8/site-packages/torch/utils/data/_utils/fetch.py:51\u001b[0m, in \u001b[0;36m<listcomp>\u001b[0;34m(.0)\u001b[0m\n\u001b[1;32m     49\u001b[0m         data \u001b[38;5;241m=\u001b[39m \u001b[38;5;28mself\u001b[39m\u001b[38;5;241m.\u001b[39mdataset\u001b[38;5;241m.\u001b[39m__getitems__(possibly_batched_index)\n\u001b[1;32m     50\u001b[0m     \u001b[38;5;28;01melse\u001b[39;00m:\n\u001b[0;32m---> 51\u001b[0m         data \u001b[38;5;241m=\u001b[39m [\u001b[38;5;28;43mself\u001b[39;49m\u001b[38;5;241;43m.\u001b[39;49m\u001b[43mdataset\u001b[49m\u001b[43m[\u001b[49m\u001b[43midx\u001b[49m\u001b[43m]\u001b[49m \u001b[38;5;28;01mfor\u001b[39;00m idx \u001b[38;5;129;01min\u001b[39;00m possibly_batched_index]\n\u001b[1;32m     52\u001b[0m \u001b[38;5;28;01melse\u001b[39;00m:\n\u001b[1;32m     53\u001b[0m     data \u001b[38;5;241m=\u001b[39m \u001b[38;5;28mself\u001b[39m\u001b[38;5;241m.\u001b[39mdataset[possibly_batched_index]\n",
      "File \u001b[0;32m~/TFM_PAULA_24/MONAI-UNET/dataset.py:55\u001b[0m, in \u001b[0;36mPelvisDataset.__getitem__\u001b[0;34m(self, idx)\u001b[0m\n\u001b[1;32m     50\u001b[0m image \u001b[38;5;241m=\u001b[39m sitk\u001b[38;5;241m.\u001b[39mGetArrayFromImage(image)\n\u001b[1;32m     51\u001b[0m labels \u001b[38;5;241m=\u001b[39m sitk\u001b[38;5;241m.\u001b[39mGetArrayFromImage(label)\n\u001b[0;32m---> 55\u001b[0m label_img \u001b[38;5;241m=\u001b[39m \u001b[43mnp\u001b[49m\u001b[38;5;241;43m.\u001b[39;49m\u001b[43mcopy\u001b[49m\u001b[43m(\u001b[49m\u001b[43mlabel\u001b[49m\u001b[43m)\u001b[49m\n\u001b[1;32m     58\u001b[0m \u001b[38;5;66;03m# Establecer todos los valores distintos de 0 a 1\u001b[39;00m\n\u001b[1;32m     59\u001b[0m \n\u001b[1;32m     60\u001b[0m \u001b[38;5;66;03m# label_img[abs(label_img) > 1e-3] = 1\u001b[39;00m\n\u001b[0;32m   (...)\u001b[0m\n\u001b[1;32m     67\u001b[0m \n\u001b[1;32m     68\u001b[0m \u001b[38;5;66;03m# Generar un tensor de 7 canales para el background y los 6 labels:\u001b[39;00m\n\u001b[1;32m     69\u001b[0m n_labels \u001b[38;5;241m=\u001b[39m \u001b[38;5;28mint\u001b[39m(labels\u001b[38;5;241m.\u001b[39mmax()) \n",
      "File \u001b[0;32m<__array_function__ internals>:180\u001b[0m, in \u001b[0;36mcopy\u001b[0;34m(*args, **kwargs)\u001b[0m\n",
      "File \u001b[0;32m~/.local/lib/python3.8/site-packages/numpy/lib/function_base.py:959\u001b[0m, in \u001b[0;36mcopy\u001b[0;34m(a, order, subok)\u001b[0m\n\u001b[1;32m    870\u001b[0m \u001b[38;5;129m@array_function_dispatch\u001b[39m(_copy_dispatcher)\n\u001b[1;32m    871\u001b[0m \u001b[38;5;28;01mdef\u001b[39;00m \u001b[38;5;21mcopy\u001b[39m(a, order\u001b[38;5;241m=\u001b[39m\u001b[38;5;124m'\u001b[39m\u001b[38;5;124mK\u001b[39m\u001b[38;5;124m'\u001b[39m, subok\u001b[38;5;241m=\u001b[39m\u001b[38;5;28;01mFalse\u001b[39;00m):\n\u001b[1;32m    872\u001b[0m \u001b[38;5;250m    \u001b[39m\u001b[38;5;124;03m\"\"\"\u001b[39;00m\n\u001b[1;32m    873\u001b[0m \u001b[38;5;124;03m    Return an array copy of the given object.\u001b[39;00m\n\u001b[1;32m    874\u001b[0m \n\u001b[0;32m   (...)\u001b[0m\n\u001b[1;32m    957\u001b[0m \n\u001b[1;32m    958\u001b[0m \u001b[38;5;124;03m    \"\"\"\u001b[39;00m\n\u001b[0;32m--> 959\u001b[0m     \u001b[38;5;28;01mreturn\u001b[39;00m \u001b[43marray\u001b[49m\u001b[43m(\u001b[49m\u001b[43ma\u001b[49m\u001b[43m,\u001b[49m\u001b[43m \u001b[49m\u001b[43morder\u001b[49m\u001b[38;5;241;43m=\u001b[39;49m\u001b[43morder\u001b[49m\u001b[43m,\u001b[49m\u001b[43m \u001b[49m\u001b[43msubok\u001b[49m\u001b[38;5;241;43m=\u001b[39;49m\u001b[43msubok\u001b[49m\u001b[43m,\u001b[49m\u001b[43m \u001b[49m\u001b[43mcopy\u001b[49m\u001b[38;5;241;43m=\u001b[39;49m\u001b[38;5;28;43;01mTrue\u001b[39;49;00m\u001b[43m)\u001b[49m\n",
      "File \u001b[0;32m/usr/local/lib/python3.8/dist-packages/SimpleITK/SimpleITK.py:4131\u001b[0m, in \u001b[0;36mImage.__iter__\u001b[0;34m(self)\u001b[0m\n\u001b[1;32m   4127\u001b[0m     idx \u001b[38;5;241m=\u001b[39m [\u001b[38;5;241m0\u001b[39m] \u001b[38;5;241m*\u001b[39m dim\n\u001b[1;32m   4129\u001b[0m     \u001b[38;5;28;01mwhile\u001b[39;00m idx[dim\u001b[38;5;241m-\u001b[39m\u001b[38;5;241m1\u001b[39m] \u001b[38;5;241m<\u001b[39m size[dim\u001b[38;5;241m-\u001b[39m\u001b[38;5;241m1\u001b[39m]:\n\u001b[0;32m-> 4131\u001b[0m       \u001b[38;5;28;01myield\u001b[39;00m \u001b[38;5;28;43mself\u001b[39;49m\u001b[43m[\u001b[49m\u001b[43m \u001b[49m\u001b[43midx\u001b[49m\u001b[43m \u001b[49m\u001b[43m]\u001b[49m\n\u001b[1;32m   4133\u001b[0m \u001b[38;5;66;03m# increment the idx\u001b[39;00m\n\u001b[1;32m   4134\u001b[0m       \u001b[38;5;28;01mfor\u001b[39;00m d \u001b[38;5;129;01min\u001b[39;00m \u001b[38;5;28mrange\u001b[39m( \u001b[38;5;241m0\u001b[39m, dim ):\n",
      "File \u001b[0;32m/usr/local/lib/python3.8/dist-packages/SimpleITK/SimpleITK.py:4261\u001b[0m, in \u001b[0;36mImage.__getitem__\u001b[0;34m(self, idx)\u001b[0m\n\u001b[1;32m   4258\u001b[0m     idx \u001b[38;5;241m=\u001b[39m \u001b[38;5;28mself\u001b[39m\u001b[38;5;241m.\u001b[39m_expand_ellipsis(idx)\n\u001b[1;32m   4260\u001b[0m \u001b[38;5;66;03m# All the indices are integers just return GetPixel value\u001b[39;00m\n\u001b[0;32m-> 4261\u001b[0m     \u001b[38;5;28;01mif\u001b[39;00m \u001b[38;5;28;43mall\u001b[39;49m\u001b[43m(\u001b[49m\u001b[43m \u001b[49m\u001b[43misint\u001b[49m\u001b[43m(\u001b[49m\u001b[43mi\u001b[49m\u001b[43m)\u001b[49m\u001b[43m \u001b[49m\u001b[38;5;28;43;01mfor\u001b[39;49;00m\u001b[43m \u001b[49m\u001b[43mi\u001b[49m\u001b[43m \u001b[49m\u001b[38;5;129;43;01min\u001b[39;49;00m\u001b[43m \u001b[49m\u001b[43midx\u001b[49m\u001b[43m \u001b[49m\u001b[43m)\u001b[49m:\n\u001b[1;32m   4262\u001b[0m \u001b[38;5;66;03m# if any of the arguments are negative integers subract them for the size\u001b[39;00m\n\u001b[1;32m   4263\u001b[0m       idx \u001b[38;5;241m=\u001b[39m [idx[i] \u001b[38;5;28;01mif\u001b[39;00m idx[i] \u001b[38;5;241m>\u001b[39m\u001b[38;5;241m=\u001b[39m \u001b[38;5;241m0\u001b[39m \u001b[38;5;28;01melse\u001b[39;00m (size[i] \u001b[38;5;241m+\u001b[39m idx[i]) \u001b[38;5;28;01mfor\u001b[39;00m i \u001b[38;5;129;01min\u001b[39;00m \u001b[38;5;28mrange\u001b[39m(\u001b[38;5;28mlen\u001b[39m(idx))]\n\u001b[1;32m   4265\u001b[0m       \u001b[38;5;28;01mfor\u001b[39;00m i \u001b[38;5;129;01min\u001b[39;00m \u001b[38;5;28mrange\u001b[39m(\u001b[38;5;28mlen\u001b[39m(idx)):\n",
      "File \u001b[0;32m/usr/local/lib/python3.8/dist-packages/SimpleITK/SimpleITK.py:4261\u001b[0m, in \u001b[0;36m<genexpr>\u001b[0;34m(.0)\u001b[0m\n\u001b[1;32m   4258\u001b[0m     idx \u001b[38;5;241m=\u001b[39m \u001b[38;5;28mself\u001b[39m\u001b[38;5;241m.\u001b[39m_expand_ellipsis(idx)\n\u001b[1;32m   4260\u001b[0m \u001b[38;5;66;03m# All the indices are integers just return GetPixel value\u001b[39;00m\n\u001b[0;32m-> 4261\u001b[0m     \u001b[38;5;28;01mif\u001b[39;00m \u001b[38;5;28mall\u001b[39m( isint(i) \u001b[38;5;28;01mfor\u001b[39;00m i \u001b[38;5;129;01min\u001b[39;00m idx ):\n\u001b[1;32m   4262\u001b[0m \u001b[38;5;66;03m# if any of the arguments are negative integers subract them for the size\u001b[39;00m\n\u001b[1;32m   4263\u001b[0m       idx \u001b[38;5;241m=\u001b[39m [idx[i] \u001b[38;5;28;01mif\u001b[39;00m idx[i] \u001b[38;5;241m>\u001b[39m\u001b[38;5;241m=\u001b[39m \u001b[38;5;241m0\u001b[39m \u001b[38;5;28;01melse\u001b[39;00m (size[i] \u001b[38;5;241m+\u001b[39m idx[i]) \u001b[38;5;28;01mfor\u001b[39;00m i \u001b[38;5;129;01min\u001b[39;00m \u001b[38;5;28mrange\u001b[39m(\u001b[38;5;28mlen\u001b[39m(idx))]\n\u001b[1;32m   4265\u001b[0m       \u001b[38;5;28;01mfor\u001b[39;00m i \u001b[38;5;129;01min\u001b[39;00m \u001b[38;5;28mrange\u001b[39m(\u001b[38;5;28mlen\u001b[39m(idx)):\n",
      "\u001b[0;31mKeyboardInterrupt\u001b[0m: "
     ]
    }
   ],
   "source": [
    "num_epochs = 200\n",
    "loss_evolution_train = []\n",
    "count = 0\n",
    "inicio = time.time()\n",
    "for epoch in range(num_epochs):\n",
    "    \n",
    "    model.train()\n",
    "    for batch in train_dataloader:\n",
    "        inputs, targets = batch[0].to(device), batch[1].to(device)\n",
    "        optimizer.zero_grad()\n",
    "        outputs = model(inputs)\n",
    "        # print(targets.size)\n",
    "        \n",
    "        out =  nn.functional.sigmoid(outputs)\n",
    "        # out = nn.functional.softmax(outputs, dim = 0)\n",
    "        \n",
    "        loss = diceCE_loss_function(outputs, targets)\n",
    "        loss.backward()\n",
    "        \n",
    "        optimizer.step()\n",
    "        # plot_multilabel_results(inputs, targets, outputs)\n",
    "        \n",
    "        # plot_results(inputs,targets,outputs)\n",
    "    loss_evolution_train.append(loss)\n",
    "    if count == 25:\n",
    "        plot_multilabel_results(inputs, targets, outputs)\n",
    "        count = 0\n",
    "    print(f\"Epoch [{epoch + 1}/{num_epochs}] - Loss: {loss.item()}\")\n",
    "        \n",
    "    count = count + 1\n",
    "    \n",
    "\n",
    "print(\"Training complete.\")\n",
    "plot_multilabel_results(inputs, targets, outputs)\n",
    "fin = time.time()\n",
    "\n",
    "# Calcula la diferencia\n",
    "tiempo_total = fin - inicio\n",
    "\n",
    "print(f\"Tiempo de ejecución: {tiempo_total} segundos\")"
   ]
  },
  {
   "cell_type": "code",
   "execution_count": null,
   "metadata": {},
   "outputs": [
    {
     "name": "stdout",
     "output_type": "stream",
     "text": [
      "Layer 1: Convolution(\n",
      "  (conv): Conv3d(1, 64, kernel_size=(3, 3, 3), stride=(2, 2, 2), padding=(1, 1, 1))\n",
      "  (adn): ADN(\n",
      "    (N): InstanceNorm3d(64, eps=1e-05, momentum=0.1, affine=False, track_running_stats=False)\n",
      "    (D): Dropout(p=0.0, inplace=False)\n",
      "    (A): PReLU(num_parameters=1)\n",
      "  )\n",
      ")\n",
      "Layer 1 output shape: torch.Size([64, 56, 80, 104])\n",
      "Layer 2: SkipConnection(\n",
      "  (submodule): Sequential(\n",
      "    (0): Convolution(\n",
      "      (conv): Conv3d(64, 128, kernel_size=(3, 3, 3), stride=(2, 2, 2), padding=(1, 1, 1))\n",
      "      (adn): ADN(\n",
      "        (N): InstanceNorm3d(128, eps=1e-05, momentum=0.1, affine=False, track_running_stats=False)\n",
      "        (D): Dropout(p=0.0, inplace=False)\n",
      "        (A): PReLU(num_parameters=1)\n",
      "      )\n",
      "    )\n",
      "    (1): SkipConnection(\n",
      "      (submodule): Sequential(\n",
      "        (0): Convolution(\n",
      "          (conv): Conv3d(128, 256, kernel_size=(3, 3, 3), stride=(2, 2, 2), padding=(1, 1, 1))\n",
      "          (adn): ADN(\n",
      "            (N): InstanceNorm3d(256, eps=1e-05, momentum=0.1, affine=False, track_running_stats=False)\n",
      "            (D): Dropout(p=0.0, inplace=False)\n",
      "            (A): PReLU(num_parameters=1)\n",
      "          )\n",
      "        )\n",
      "        (1): SkipConnection(\n",
      "          (submodule): Convolution(\n",
      "            (conv): Conv3d(256, 512, kernel_size=(3, 3, 3), stride=(1, 1, 1), padding=(1, 1, 1))\n",
      "            (adn): ADN(\n",
      "              (N): InstanceNorm3d(512, eps=1e-05, momentum=0.1, affine=False, track_running_stats=False)\n",
      "              (D): Dropout(p=0.0, inplace=False)\n",
      "              (A): PReLU(num_parameters=1)\n",
      "            )\n",
      "          )\n",
      "        )\n",
      "        (2): Convolution(\n",
      "          (conv): ConvTranspose3d(768, 128, kernel_size=(3, 3, 3), stride=(2, 2, 2), padding=(1, 1, 1), output_padding=(1, 1, 1))\n",
      "          (adn): ADN(\n",
      "            (N): InstanceNorm3d(128, eps=1e-05, momentum=0.1, affine=False, track_running_stats=False)\n",
      "            (D): Dropout(p=0.0, inplace=False)\n",
      "            (A): PReLU(num_parameters=1)\n",
      "          )\n",
      "        )\n",
      "      )\n",
      "    )\n",
      "    (2): Convolution(\n",
      "      (conv): ConvTranspose3d(256, 64, kernel_size=(3, 3, 3), stride=(2, 2, 2), padding=(1, 1, 1), output_padding=(1, 1, 1))\n",
      "      (adn): ADN(\n",
      "        (N): InstanceNorm3d(64, eps=1e-05, momentum=0.1, affine=False, track_running_stats=False)\n",
      "        (D): Dropout(p=0.0, inplace=False)\n",
      "        (A): PReLU(num_parameters=1)\n",
      "      )\n",
      "    )\n",
      "  )\n",
      ")\n"
     ]
    },
    {
     "ename": "RuntimeError",
     "evalue": "Sizes of tensors must match except in dimension 1. Expected size 256 but got size 512 for tensor number 1 in the list.",
     "output_type": "error",
     "traceback": [
      "\u001b[0;31m---------------------------------------------------------------------------\u001b[0m",
      "\u001b[0;31mRuntimeError\u001b[0m                              Traceback (most recent call last)",
      "\u001b[1;32m/home/paulagmtz/TFM_PAULA_24/MONAI-UNET/main.ipynb Cell 20\u001b[0m line \u001b[0;36m1\n\u001b[1;32m     <a href='vscode-notebook-cell://ssh-remote%2B10.117.178.23/home/paulagmtz/TFM_PAULA_24/MONAI-UNET/main.ipynb#X30sdnNjb2RlLXJlbW90ZQ%3D%3D?line=11'>12</a>\u001b[0m \u001b[39mfor\u001b[39;00m i, layer \u001b[39min\u001b[39;00m \u001b[39menumerate\u001b[39m(model\u001b[39m.\u001b[39mmodel\u001b[39m.\u001b[39mchildren()):  \u001b[39m# `model.model` accede a la U-Net interna en MONAI\u001b[39;00m\n\u001b[1;32m     <a href='vscode-notebook-cell://ssh-remote%2B10.117.178.23/home/paulagmtz/TFM_PAULA_24/MONAI-UNET/main.ipynb#X30sdnNjb2RlLXJlbW90ZQ%3D%3D?line=12'>13</a>\u001b[0m     \u001b[39mprint\u001b[39m(\u001b[39mf\u001b[39m\u001b[39m\"\u001b[39m\u001b[39mLayer \u001b[39m\u001b[39m{\u001b[39;00mi\u001b[39m \u001b[39m\u001b[39m+\u001b[39m\u001b[39m \u001b[39m\u001b[39m1\u001b[39m\u001b[39m}\u001b[39;00m\u001b[39m:\u001b[39m\u001b[39m\"\u001b[39m, layer)\n\u001b[0;32m---> <a href='vscode-notebook-cell://ssh-remote%2B10.117.178.23/home/paulagmtz/TFM_PAULA_24/MONAI-UNET/main.ipynb#X30sdnNjb2RlLXJlbW90ZQ%3D%3D?line=13'>14</a>\u001b[0m     inputs \u001b[39m=\u001b[39m layer(inputs)\n\u001b[1;32m     <a href='vscode-notebook-cell://ssh-remote%2B10.117.178.23/home/paulagmtz/TFM_PAULA_24/MONAI-UNET/main.ipynb#X30sdnNjb2RlLXJlbW90ZQ%3D%3D?line=14'>15</a>\u001b[0m     \u001b[39mif\u001b[39;00m \u001b[39misinstance\u001b[39m(layer, monai\u001b[39m.\u001b[39mnetworks\u001b[39m.\u001b[39mlayers\u001b[39m.\u001b[39msimplelayers\u001b[39m.\u001b[39mSkipConnection):\n\u001b[1;32m     <a href='vscode-notebook-cell://ssh-remote%2B10.117.178.23/home/paulagmtz/TFM_PAULA_24/MONAI-UNET/main.ipynb#X30sdnNjb2RlLXJlbW90ZQ%3D%3D?line=15'>16</a>\u001b[0m         x, y \u001b[39m=\u001b[39m inputs  \u001b[39m# Desempaqueta los tensores x e y\u001b[39;00m\n",
      "File \u001b[0;32m~/.local/lib/python3.8/site-packages/torch/nn/modules/module.py:1501\u001b[0m, in \u001b[0;36mModule._call_impl\u001b[0;34m(self, *args, **kwargs)\u001b[0m\n\u001b[1;32m   1496\u001b[0m \u001b[39m# If we don't have any hooks, we want to skip the rest of the logic in\u001b[39;00m\n\u001b[1;32m   1497\u001b[0m \u001b[39m# this function, and just call forward.\u001b[39;00m\n\u001b[1;32m   1498\u001b[0m \u001b[39mif\u001b[39;00m \u001b[39mnot\u001b[39;00m (\u001b[39mself\u001b[39m\u001b[39m.\u001b[39m_backward_hooks \u001b[39mor\u001b[39;00m \u001b[39mself\u001b[39m\u001b[39m.\u001b[39m_backward_pre_hooks \u001b[39mor\u001b[39;00m \u001b[39mself\u001b[39m\u001b[39m.\u001b[39m_forward_hooks \u001b[39mor\u001b[39;00m \u001b[39mself\u001b[39m\u001b[39m.\u001b[39m_forward_pre_hooks\n\u001b[1;32m   1499\u001b[0m         \u001b[39mor\u001b[39;00m _global_backward_pre_hooks \u001b[39mor\u001b[39;00m _global_backward_hooks\n\u001b[1;32m   1500\u001b[0m         \u001b[39mor\u001b[39;00m _global_forward_hooks \u001b[39mor\u001b[39;00m _global_forward_pre_hooks):\n\u001b[0;32m-> 1501\u001b[0m     \u001b[39mreturn\u001b[39;00m forward_call(\u001b[39m*\u001b[39;49margs, \u001b[39m*\u001b[39;49m\u001b[39m*\u001b[39;49mkwargs)\n\u001b[1;32m   1502\u001b[0m \u001b[39m# Do not call functions when jit is used\u001b[39;00m\n\u001b[1;32m   1503\u001b[0m full_backward_hooks, non_full_backward_hooks \u001b[39m=\u001b[39m [], []\n",
      "File \u001b[0;32m~/.local/lib/python3.8/site-packages/monai/networks/layers/simplelayers.py:129\u001b[0m, in \u001b[0;36mSkipConnection.forward\u001b[0;34m(self, x)\u001b[0m\n\u001b[1;32m    128\u001b[0m \u001b[39mdef\u001b[39;00m \u001b[39mforward\u001b[39m(\u001b[39mself\u001b[39m, x: torch\u001b[39m.\u001b[39mTensor) \u001b[39m-\u001b[39m\u001b[39m>\u001b[39m torch\u001b[39m.\u001b[39mTensor:\n\u001b[0;32m--> 129\u001b[0m     y \u001b[39m=\u001b[39m \u001b[39mself\u001b[39;49m\u001b[39m.\u001b[39;49msubmodule(x)\n\u001b[1;32m    131\u001b[0m     \u001b[39mif\u001b[39;00m \u001b[39mself\u001b[39m\u001b[39m.\u001b[39mmode \u001b[39m==\u001b[39m \u001b[39m\"\u001b[39m\u001b[39mcat\u001b[39m\u001b[39m\"\u001b[39m:\n\u001b[1;32m    132\u001b[0m         \u001b[39mreturn\u001b[39;00m torch\u001b[39m.\u001b[39mcat([x, y], dim\u001b[39m=\u001b[39m\u001b[39mself\u001b[39m\u001b[39m.\u001b[39mdim)\n",
      "File \u001b[0;32m~/.local/lib/python3.8/site-packages/torch/nn/modules/module.py:1501\u001b[0m, in \u001b[0;36mModule._call_impl\u001b[0;34m(self, *args, **kwargs)\u001b[0m\n\u001b[1;32m   1496\u001b[0m \u001b[39m# If we don't have any hooks, we want to skip the rest of the logic in\u001b[39;00m\n\u001b[1;32m   1497\u001b[0m \u001b[39m# this function, and just call forward.\u001b[39;00m\n\u001b[1;32m   1498\u001b[0m \u001b[39mif\u001b[39;00m \u001b[39mnot\u001b[39;00m (\u001b[39mself\u001b[39m\u001b[39m.\u001b[39m_backward_hooks \u001b[39mor\u001b[39;00m \u001b[39mself\u001b[39m\u001b[39m.\u001b[39m_backward_pre_hooks \u001b[39mor\u001b[39;00m \u001b[39mself\u001b[39m\u001b[39m.\u001b[39m_forward_hooks \u001b[39mor\u001b[39;00m \u001b[39mself\u001b[39m\u001b[39m.\u001b[39m_forward_pre_hooks\n\u001b[1;32m   1499\u001b[0m         \u001b[39mor\u001b[39;00m _global_backward_pre_hooks \u001b[39mor\u001b[39;00m _global_backward_hooks\n\u001b[1;32m   1500\u001b[0m         \u001b[39mor\u001b[39;00m _global_forward_hooks \u001b[39mor\u001b[39;00m _global_forward_pre_hooks):\n\u001b[0;32m-> 1501\u001b[0m     \u001b[39mreturn\u001b[39;00m forward_call(\u001b[39m*\u001b[39;49margs, \u001b[39m*\u001b[39;49m\u001b[39m*\u001b[39;49mkwargs)\n\u001b[1;32m   1502\u001b[0m \u001b[39m# Do not call functions when jit is used\u001b[39;00m\n\u001b[1;32m   1503\u001b[0m full_backward_hooks, non_full_backward_hooks \u001b[39m=\u001b[39m [], []\n",
      "File \u001b[0;32m~/.local/lib/python3.8/site-packages/torch/nn/modules/container.py:217\u001b[0m, in \u001b[0;36mSequential.forward\u001b[0;34m(self, input)\u001b[0m\n\u001b[1;32m    215\u001b[0m \u001b[39mdef\u001b[39;00m \u001b[39mforward\u001b[39m(\u001b[39mself\u001b[39m, \u001b[39minput\u001b[39m):\n\u001b[1;32m    216\u001b[0m     \u001b[39mfor\u001b[39;00m module \u001b[39min\u001b[39;00m \u001b[39mself\u001b[39m:\n\u001b[0;32m--> 217\u001b[0m         \u001b[39minput\u001b[39m \u001b[39m=\u001b[39m module(\u001b[39minput\u001b[39;49m)\n\u001b[1;32m    218\u001b[0m     \u001b[39mreturn\u001b[39;00m \u001b[39minput\u001b[39m\n",
      "File \u001b[0;32m~/.local/lib/python3.8/site-packages/torch/nn/modules/module.py:1501\u001b[0m, in \u001b[0;36mModule._call_impl\u001b[0;34m(self, *args, **kwargs)\u001b[0m\n\u001b[1;32m   1496\u001b[0m \u001b[39m# If we don't have any hooks, we want to skip the rest of the logic in\u001b[39;00m\n\u001b[1;32m   1497\u001b[0m \u001b[39m# this function, and just call forward.\u001b[39;00m\n\u001b[1;32m   1498\u001b[0m \u001b[39mif\u001b[39;00m \u001b[39mnot\u001b[39;00m (\u001b[39mself\u001b[39m\u001b[39m.\u001b[39m_backward_hooks \u001b[39mor\u001b[39;00m \u001b[39mself\u001b[39m\u001b[39m.\u001b[39m_backward_pre_hooks \u001b[39mor\u001b[39;00m \u001b[39mself\u001b[39m\u001b[39m.\u001b[39m_forward_hooks \u001b[39mor\u001b[39;00m \u001b[39mself\u001b[39m\u001b[39m.\u001b[39m_forward_pre_hooks\n\u001b[1;32m   1499\u001b[0m         \u001b[39mor\u001b[39;00m _global_backward_pre_hooks \u001b[39mor\u001b[39;00m _global_backward_hooks\n\u001b[1;32m   1500\u001b[0m         \u001b[39mor\u001b[39;00m _global_forward_hooks \u001b[39mor\u001b[39;00m _global_forward_pre_hooks):\n\u001b[0;32m-> 1501\u001b[0m     \u001b[39mreturn\u001b[39;00m forward_call(\u001b[39m*\u001b[39;49margs, \u001b[39m*\u001b[39;49m\u001b[39m*\u001b[39;49mkwargs)\n\u001b[1;32m   1502\u001b[0m \u001b[39m# Do not call functions when jit is used\u001b[39;00m\n\u001b[1;32m   1503\u001b[0m full_backward_hooks, non_full_backward_hooks \u001b[39m=\u001b[39m [], []\n",
      "File \u001b[0;32m~/.local/lib/python3.8/site-packages/monai/networks/layers/simplelayers.py:129\u001b[0m, in \u001b[0;36mSkipConnection.forward\u001b[0;34m(self, x)\u001b[0m\n\u001b[1;32m    128\u001b[0m \u001b[39mdef\u001b[39;00m \u001b[39mforward\u001b[39m(\u001b[39mself\u001b[39m, x: torch\u001b[39m.\u001b[39mTensor) \u001b[39m-\u001b[39m\u001b[39m>\u001b[39m torch\u001b[39m.\u001b[39mTensor:\n\u001b[0;32m--> 129\u001b[0m     y \u001b[39m=\u001b[39m \u001b[39mself\u001b[39;49m\u001b[39m.\u001b[39;49msubmodule(x)\n\u001b[1;32m    131\u001b[0m     \u001b[39mif\u001b[39;00m \u001b[39mself\u001b[39m\u001b[39m.\u001b[39mmode \u001b[39m==\u001b[39m \u001b[39m\"\u001b[39m\u001b[39mcat\u001b[39m\u001b[39m\"\u001b[39m:\n\u001b[1;32m    132\u001b[0m         \u001b[39mreturn\u001b[39;00m torch\u001b[39m.\u001b[39mcat([x, y], dim\u001b[39m=\u001b[39m\u001b[39mself\u001b[39m\u001b[39m.\u001b[39mdim)\n",
      "File \u001b[0;32m~/.local/lib/python3.8/site-packages/torch/nn/modules/module.py:1501\u001b[0m, in \u001b[0;36mModule._call_impl\u001b[0;34m(self, *args, **kwargs)\u001b[0m\n\u001b[1;32m   1496\u001b[0m \u001b[39m# If we don't have any hooks, we want to skip the rest of the logic in\u001b[39;00m\n\u001b[1;32m   1497\u001b[0m \u001b[39m# this function, and just call forward.\u001b[39;00m\n\u001b[1;32m   1498\u001b[0m \u001b[39mif\u001b[39;00m \u001b[39mnot\u001b[39;00m (\u001b[39mself\u001b[39m\u001b[39m.\u001b[39m_backward_hooks \u001b[39mor\u001b[39;00m \u001b[39mself\u001b[39m\u001b[39m.\u001b[39m_backward_pre_hooks \u001b[39mor\u001b[39;00m \u001b[39mself\u001b[39m\u001b[39m.\u001b[39m_forward_hooks \u001b[39mor\u001b[39;00m \u001b[39mself\u001b[39m\u001b[39m.\u001b[39m_forward_pre_hooks\n\u001b[1;32m   1499\u001b[0m         \u001b[39mor\u001b[39;00m _global_backward_pre_hooks \u001b[39mor\u001b[39;00m _global_backward_hooks\n\u001b[1;32m   1500\u001b[0m         \u001b[39mor\u001b[39;00m _global_forward_hooks \u001b[39mor\u001b[39;00m _global_forward_pre_hooks):\n\u001b[0;32m-> 1501\u001b[0m     \u001b[39mreturn\u001b[39;00m forward_call(\u001b[39m*\u001b[39;49margs, \u001b[39m*\u001b[39;49m\u001b[39m*\u001b[39;49mkwargs)\n\u001b[1;32m   1502\u001b[0m \u001b[39m# Do not call functions when jit is used\u001b[39;00m\n\u001b[1;32m   1503\u001b[0m full_backward_hooks, non_full_backward_hooks \u001b[39m=\u001b[39m [], []\n",
      "File \u001b[0;32m~/.local/lib/python3.8/site-packages/torch/nn/modules/container.py:217\u001b[0m, in \u001b[0;36mSequential.forward\u001b[0;34m(self, input)\u001b[0m\n\u001b[1;32m    215\u001b[0m \u001b[39mdef\u001b[39;00m \u001b[39mforward\u001b[39m(\u001b[39mself\u001b[39m, \u001b[39minput\u001b[39m):\n\u001b[1;32m    216\u001b[0m     \u001b[39mfor\u001b[39;00m module \u001b[39min\u001b[39;00m \u001b[39mself\u001b[39m:\n\u001b[0;32m--> 217\u001b[0m         \u001b[39minput\u001b[39m \u001b[39m=\u001b[39m module(\u001b[39minput\u001b[39;49m)\n\u001b[1;32m    218\u001b[0m     \u001b[39mreturn\u001b[39;00m \u001b[39minput\u001b[39m\n",
      "File \u001b[0;32m~/.local/lib/python3.8/site-packages/torch/nn/modules/module.py:1501\u001b[0m, in \u001b[0;36mModule._call_impl\u001b[0;34m(self, *args, **kwargs)\u001b[0m\n\u001b[1;32m   1496\u001b[0m \u001b[39m# If we don't have any hooks, we want to skip the rest of the logic in\u001b[39;00m\n\u001b[1;32m   1497\u001b[0m \u001b[39m# this function, and just call forward.\u001b[39;00m\n\u001b[1;32m   1498\u001b[0m \u001b[39mif\u001b[39;00m \u001b[39mnot\u001b[39;00m (\u001b[39mself\u001b[39m\u001b[39m.\u001b[39m_backward_hooks \u001b[39mor\u001b[39;00m \u001b[39mself\u001b[39m\u001b[39m.\u001b[39m_backward_pre_hooks \u001b[39mor\u001b[39;00m \u001b[39mself\u001b[39m\u001b[39m.\u001b[39m_forward_hooks \u001b[39mor\u001b[39;00m \u001b[39mself\u001b[39m\u001b[39m.\u001b[39m_forward_pre_hooks\n\u001b[1;32m   1499\u001b[0m         \u001b[39mor\u001b[39;00m _global_backward_pre_hooks \u001b[39mor\u001b[39;00m _global_backward_hooks\n\u001b[1;32m   1500\u001b[0m         \u001b[39mor\u001b[39;00m _global_forward_hooks \u001b[39mor\u001b[39;00m _global_forward_pre_hooks):\n\u001b[0;32m-> 1501\u001b[0m     \u001b[39mreturn\u001b[39;00m forward_call(\u001b[39m*\u001b[39;49margs, \u001b[39m*\u001b[39;49m\u001b[39m*\u001b[39;49mkwargs)\n\u001b[1;32m   1502\u001b[0m \u001b[39m# Do not call functions when jit is used\u001b[39;00m\n\u001b[1;32m   1503\u001b[0m full_backward_hooks, non_full_backward_hooks \u001b[39m=\u001b[39m [], []\n",
      "File \u001b[0;32m~/.local/lib/python3.8/site-packages/monai/networks/layers/simplelayers.py:132\u001b[0m, in \u001b[0;36mSkipConnection.forward\u001b[0;34m(self, x)\u001b[0m\n\u001b[1;32m    129\u001b[0m y \u001b[39m=\u001b[39m \u001b[39mself\u001b[39m\u001b[39m.\u001b[39msubmodule(x)\n\u001b[1;32m    131\u001b[0m \u001b[39mif\u001b[39;00m \u001b[39mself\u001b[39m\u001b[39m.\u001b[39mmode \u001b[39m==\u001b[39m \u001b[39m\"\u001b[39m\u001b[39mcat\u001b[39m\u001b[39m\"\u001b[39m:\n\u001b[0;32m--> 132\u001b[0m     \u001b[39mreturn\u001b[39;00m torch\u001b[39m.\u001b[39;49mcat([x, y], dim\u001b[39m=\u001b[39;49m\u001b[39mself\u001b[39;49m\u001b[39m.\u001b[39;49mdim)\n\u001b[1;32m    133\u001b[0m \u001b[39mif\u001b[39;00m \u001b[39mself\u001b[39m\u001b[39m.\u001b[39mmode \u001b[39m==\u001b[39m \u001b[39m\"\u001b[39m\u001b[39madd\u001b[39m\u001b[39m\"\u001b[39m:\n\u001b[1;32m    134\u001b[0m     \u001b[39mreturn\u001b[39;00m torch\u001b[39m.\u001b[39madd(x, y)\n",
      "\u001b[0;31mRuntimeError\u001b[0m: Sizes of tensors must match except in dimension 1. Expected size 256 but got size 512 for tensor number 1 in the list."
     ]
    }
   ],
   "source": [
    "# num_epochs = 200\n",
    "# loss_evolution = []\n",
    "\n",
    "# for epoch in range(num_epochs):\n",
    "    \n",
    "#     model.train()\n",
    "#     # for batch in train_dataloader:\n",
    "#     for batch in next(iter(train_dataloader)):\n",
    "#         inputs, targets = batch[0].to(device), batch[1].to(device)\n",
    "        \n",
    "#             # Imprime las formas de las salidas intermedias\n",
    "#         for i, layer in enumerate(model.model.children()):  # `model.model` accede a la U-Net interna en MONAI\n",
    "#             print(f\"Layer {i + 1}:\", layer)\n",
    "#             inputs = layer(inputs)\n",
    "#             if isinstance(layer, monai.networks.layers.simplelayers.SkipConnection):\n",
    "#                 x, y = inputs  # Desempaqueta los tensores x e y\n",
    "#                 print(f\"Layer {i + 1} - x shape:\", x.shape)\n",
    "#                 print(f\"Layer {i + 1} - y shape:\", y.shape)\n",
    "#             else:\n",
    "#                 print(f\"Layer {i + 1} output shape:\", inputs.shape)\n",
    "#         optimizer.zero_grad()\n",
    "#         outputs = model(inputs)\n",
    "#         # out = nn.functional.softmax(outputs, dim = 0)\n",
    "        \n",
    "#         loss = loss_function(outputs, targets)\n",
    "#         loss.backward()\n",
    "        \n",
    "#         optimizer.step()\n",
    "        \n",
    "#         plot_results(inputs,targets,outputs)\n",
    "#     loss_evolution.append(loss)\n",
    "#     plot_results(inputs,targets,outputs)\n",
    "#     print(f\"Epoch [{epoch + 1}/{num_epochs}] - Loss: {loss.item()}\")\n",
    "\n",
    "# print(\"Training complete.\")\n"
   ]
  },
  {
   "cell_type": "markdown",
   "metadata": {},
   "source": [
    "Loss evolution"
   ]
  },
  {
   "cell_type": "code",
   "execution_count": null,
   "metadata": {},
   "outputs": [
    {
     "data": {
      "image/png": "[encoded data removed]",
      "text/plain": [
       "<Figure size 1000x500 with 1 Axes>"
      ]
     },
     "metadata": {},
     "output_type": "display_data"
    }
   ],
   "source": [
    "    \n",
    "loss_evolution_cpu = [tensor.cpu() for tensor in loss_evolution_train]  # Mover cada tensor a la CPU\n",
    "loss_evolution_numpy = [tensor.detach().numpy() for tensor in loss_evolution_cpu]  # Convertir cada tensor a un array de NumPy\n",
    "\n",
    "plot_loss_evolution(loss_evolution_numpy)"
   ]
  },
  {
   "cell_type": "code",
   "execution_count": null,
   "metadata": {},
   "outputs": [],
   "source": []
  },
  {
   "cell_type": "markdown",
   "metadata": {},
   "source": [
    "Save model"
   ]
  },
  {
   "cell_type": "code",
   "execution_count": null,
   "metadata": {},
   "outputs": [],
   "source": [
    "# Save the model's state_dict to a file\n",
    "# 'model.pth'\n",
    "torch.save(model.state_dict(), \"/home/paulagmtz/TFM_PAULA_24/DATA_TFM/models_result/UNET_model_SIGMA2_200_sp_dicefocalllosss.pth\")\n"
   ]
  },
  {
   "cell_type": "markdown",
   "metadata": {},
   "source": [
    "# Load model"
   ]
  },
  {
   "cell_type": "code",
   "execution_count": 9,
   "metadata": {},
   "outputs": [
    {
     "data": {
      "text/plain": [
       "UNet(\n",
       "  (model): Sequential(\n",
       "    (0): Convolution(\n",
       "      (conv): Conv3d(1, 64, kernel_size=(3, 3, 3), stride=(2, 2, 2), padding=(1, 1, 1))\n",
       "      (adn): ADN(\n",
       "        (N): InstanceNorm3d(64, eps=1e-05, momentum=0.1, affine=False, track_running_stats=False)\n",
       "        (D): Dropout(p=0.0, inplace=False)\n",
       "        (A): PReLU(num_parameters=1)\n",
       "      )\n",
       "    )\n",
       "    (1): SkipConnection(\n",
       "      (submodule): Sequential(\n",
       "        (0): Convolution(\n",
       "          (conv): Conv3d(64, 128, kernel_size=(3, 3, 3), stride=(2, 2, 2), padding=(1, 1, 1))\n",
       "          (adn): ADN(\n",
       "            (N): InstanceNorm3d(128, eps=1e-05, momentum=0.1, affine=False, track_running_stats=False)\n",
       "            (D): Dropout(p=0.0, inplace=False)\n",
       "            (A): PReLU(num_parameters=1)\n",
       "          )\n",
       "        )\n",
       "        (1): SkipConnection(\n",
       "          (submodule): Sequential(\n",
       "            (0): Convolution(\n",
       "              (conv): Conv3d(128, 256, kernel_size=(3, 3, 3), stride=(2, 2, 2), padding=(1, 1, 1))\n",
       "              (adn): ADN(\n",
       "                (N): InstanceNorm3d(256, eps=1e-05, momentum=0.1, affine=False, track_running_stats=False)\n",
       "                (D): Dropout(p=0.0, inplace=False)\n",
       "                (A): PReLU(num_parameters=1)\n",
       "              )\n",
       "            )\n",
       "            (1): SkipConnection(\n",
       "              (submodule): Convolution(\n",
       "                (conv): Conv3d(256, 512, kernel_size=(3, 3, 3), stride=(1, 1, 1), padding=(1, 1, 1))\n",
       "                (adn): ADN(\n",
       "                  (N): InstanceNorm3d(512, eps=1e-05, momentum=0.1, affine=False, track_running_stats=False)\n",
       "                  (D): Dropout(p=0.0, inplace=False)\n",
       "                  (A): PReLU(num_parameters=1)\n",
       "                )\n",
       "              )\n",
       "            )\n",
       "            (2): Convolution(\n",
       "              (conv): ConvTranspose3d(768, 128, kernel_size=(3, 3, 3), stride=(2, 2, 2), padding=(1, 1, 1), output_padding=(1, 1, 1))\n",
       "              (adn): ADN(\n",
       "                (N): InstanceNorm3d(128, eps=1e-05, momentum=0.1, affine=False, track_running_stats=False)\n",
       "                (D): Dropout(p=0.0, inplace=False)\n",
       "                (A): PReLU(num_parameters=1)\n",
       "              )\n",
       "            )\n",
       "          )\n",
       "        )\n",
       "        (2): Convolution(\n",
       "          (conv): ConvTranspose3d(256, 64, kernel_size=(3, 3, 3), stride=(2, 2, 2), padding=(1, 1, 1), output_padding=(1, 1, 1))\n",
       "          (adn): ADN(\n",
       "            (N): InstanceNorm3d(64, eps=1e-05, momentum=0.1, affine=False, track_running_stats=False)\n",
       "            (D): Dropout(p=0.0, inplace=False)\n",
       "            (A): PReLU(num_parameters=1)\n",
       "          )\n",
       "        )\n",
       "      )\n",
       "    )\n",
       "    (2): Convolution(\n",
       "      (conv): ConvTranspose3d(128, 7, kernel_size=(3, 3, 3), stride=(2, 2, 2), padding=(1, 1, 1), output_padding=(1, 1, 1))\n",
       "    )\n",
       "  )\n",
       ")"
      ]
     },
     "execution_count": 9,
     "metadata": {},
     "output_type": "execute_result"
    }
   ],
   "source": [
    "# from monai.model import Unet\n",
    "# # Create an instance of your model (ensure that it has the same architecture)\n",
    "device = torch.device(\"cuda:1\" if torch.cuda.is_available() else \"cpu\")\n",
    "\n",
    "model = UNet(\n",
    "    spatial_dims=3 ,\n",
    "    in_channels=1,\n",
    "    out_channels=7,\n",
    "    channels=(64,128,256,512), \n",
    "    strides=(2,2,2),\n",
    "    # num_res_units=2,\n",
    "    # norm=Norm.BATCH,    \n",
    ").to(device)\n",
    "# Load the saved model parameters\n",
    "model.load_state_dict(torch.load(\"/home/paulagmtz/TFM_PAULA_24/DATA_TFM/models_result/UNET_TRUE_MULTILABEL_1_7_model_200.pth\"))\n",
    "\n",
    "# Set the model to evaluation mode\n",
    "model.eval()\n"
   ]
  },
  {
   "cell_type": "markdown",
   "metadata": {},
   "source": [
    "# UNETR\n"
   ]
  },
  {
   "cell_type": "code",
   "execution_count": null,
   "metadata": {},
   "outputs": [
    {
     "data": {
      "text/plain": [
       "UNETR(\n",
       "  (vit): ViT(\n",
       "    (patch_embedding): PatchEmbeddingBlock(\n",
       "      (patch_embeddings): Conv3d(1, 768, kernel_size=(16, 16, 16), stride=(16, 16, 16))\n",
       "      (dropout): Dropout(p=0.0, inplace=False)\n",
       "    )\n",
       "    (blocks): ModuleList(\n",
       "      (0-11): 12 x TransformerBlock(\n",
       "        (mlp): MLPBlock(\n",
       "          (linear1): Linear(in_features=768, out_features=3072, bias=True)\n",
       "          (linear2): Linear(in_features=3072, out_features=768, bias=True)\n",
       "          (fn): GELU(approximate='none')\n",
       "          (drop1): Dropout(p=0.0, inplace=False)\n",
       "          (drop2): Dropout(p=0.0, inplace=False)\n",
       "        )\n",
       "        (norm1): LayerNorm((768,), eps=1e-05, elementwise_affine=True)\n",
       "        (attn): SABlock(\n",
       "          (out_proj): Linear(in_features=768, out_features=768, bias=True)\n",
       "          (qkv): Linear(in_features=768, out_features=2304, bias=False)\n",
       "          (input_rearrange): Rearrange('b h (qkv l d) -> qkv b l h d', qkv=3, l=12)\n",
       "          (out_rearrange): Rearrange('b h l d -> b l (h d)')\n",
       "          (drop_output): Dropout(p=0.0, inplace=False)\n",
       "          (drop_weights): Dropout(p=0.0, inplace=False)\n",
       "        )\n",
       "        (norm2): LayerNorm((768,), eps=1e-05, elementwise_affine=True)\n",
       "      )\n",
       "    )\n",
       "    (norm): LayerNorm((768,), eps=1e-05, elementwise_affine=True)\n",
       "  )\n",
       "  (encoder1): UnetrBasicBlock(\n",
       "    (layer): UnetResBlock(\n",
       "      (conv1): Convolution(\n",
       "        (conv): Conv3d(1, 32, kernel_size=(3, 3, 3), stride=(1, 1, 1), padding=(1, 1, 1), bias=False)\n",
       "      )\n",
       "      (conv2): Convolution(\n",
       "        (conv): Conv3d(32, 32, kernel_size=(3, 3, 3), stride=(1, 1, 1), padding=(1, 1, 1), bias=False)\n",
       "      )\n",
       "      (lrelu): LeakyReLU(negative_slope=0.01, inplace=True)\n",
       "      (norm1): BatchNorm3d(32, eps=1e-05, momentum=0.1, affine=True, track_running_stats=True)\n",
       "      (norm2): BatchNorm3d(32, eps=1e-05, momentum=0.1, affine=True, track_running_stats=True)\n",
       "      (conv3): Convolution(\n",
       "        (conv): Conv3d(1, 32, kernel_size=(1, 1, 1), stride=(1, 1, 1), bias=False)\n",
       "      )\n",
       "      (norm3): BatchNorm3d(32, eps=1e-05, momentum=0.1, affine=True, track_running_stats=True)\n",
       "    )\n",
       "  )\n",
       "  (encoder2): UnetrPrUpBlock(\n",
       "    (transp_conv_init): Convolution(\n",
       "      (conv): ConvTranspose3d(768, 64, kernel_size=(2, 2, 2), stride=(2, 2, 2), bias=False)\n",
       "    )\n",
       "    (blocks): ModuleList(\n",
       "      (0-1): 2 x Sequential(\n",
       "        (0): Convolution(\n",
       "          (conv): ConvTranspose3d(64, 64, kernel_size=(2, 2, 2), stride=(2, 2, 2), bias=False)\n",
       "        )\n",
       "        (1): UnetResBlock(\n",
       "          (conv1): Convolution(\n",
       "            (conv): Conv3d(64, 64, kernel_size=(3, 3, 3), stride=(1, 1, 1), padding=(1, 1, 1), bias=False)\n",
       "          )\n",
       "          (conv2): Convolution(\n",
       "            (conv): Conv3d(64, 64, kernel_size=(3, 3, 3), stride=(1, 1, 1), padding=(1, 1, 1), bias=False)\n",
       "          )\n",
       "          (lrelu): LeakyReLU(negative_slope=0.01, inplace=True)\n",
       "          (norm1): BatchNorm3d(64, eps=1e-05, momentum=0.1, affine=True, track_running_stats=True)\n",
       "          (norm2): BatchNorm3d(64, eps=1e-05, momentum=0.1, affine=True, track_running_stats=True)\n",
       "        )\n",
       "      )\n",
       "    )\n",
       "  )\n",
       "  (encoder3): UnetrPrUpBlock(\n",
       "    (transp_conv_init): Convolution(\n",
       "      (conv): ConvTranspose3d(768, 128, kernel_size=(2, 2, 2), stride=(2, 2, 2), bias=False)\n",
       "    )\n",
       "    (blocks): ModuleList(\n",
       "      (0): Sequential(\n",
       "        (0): Convolution(\n",
       "          (conv): ConvTranspose3d(128, 128, kernel_size=(2, 2, 2), stride=(2, 2, 2), bias=False)\n",
       "        )\n",
       "        (1): UnetResBlock(\n",
       "          (conv1): Convolution(\n",
       "            (conv): Conv3d(128, 128, kernel_size=(3, 3, 3), stride=(1, 1, 1), padding=(1, 1, 1), bias=False)\n",
       "          )\n",
       "          (conv2): Convolution(\n",
       "            (conv): Conv3d(128, 128, kernel_size=(3, 3, 3), stride=(1, 1, 1), padding=(1, 1, 1), bias=False)\n",
       "          )\n",
       "          (lrelu): LeakyReLU(negative_slope=0.01, inplace=True)\n",
       "          (norm1): BatchNorm3d(128, eps=1e-05, momentum=0.1, affine=True, track_running_stats=True)\n",
       "          (norm2): BatchNorm3d(128, eps=1e-05, momentum=0.1, affine=True, track_running_stats=True)\n",
       "        )\n",
       "      )\n",
       "    )\n",
       "  )\n",
       "  (encoder4): UnetrPrUpBlock(\n",
       "    (transp_conv_init): Convolution(\n",
       "      (conv): ConvTranspose3d(768, 256, kernel_size=(2, 2, 2), stride=(2, 2, 2), bias=False)\n",
       "    )\n",
       "    (blocks): ModuleList()\n",
       "  )\n",
       "  (decoder5): UnetrUpBlock(\n",
       "    (transp_conv): Convolution(\n",
       "      (conv): ConvTranspose3d(768, 256, kernel_size=(2, 2, 2), stride=(2, 2, 2), bias=False)\n",
       "    )\n",
       "    (conv_block): UnetResBlock(\n",
       "      (conv1): Convolution(\n",
       "        (conv): Conv3d(512, 256, kernel_size=(3, 3, 3), stride=(1, 1, 1), padding=(1, 1, 1), bias=False)\n",
       "      )\n",
       "      (conv2): Convolution(\n",
       "        (conv): Conv3d(256, 256, kernel_size=(3, 3, 3), stride=(1, 1, 1), padding=(1, 1, 1), bias=False)\n",
       "      )\n",
       "      (lrelu): LeakyReLU(negative_slope=0.01, inplace=True)\n",
       "      (norm1): BatchNorm3d(256, eps=1e-05, momentum=0.1, affine=True, track_running_stats=True)\n",
       "      (norm2): BatchNorm3d(256, eps=1e-05, momentum=0.1, affine=True, track_running_stats=True)\n",
       "      (conv3): Convolution(\n",
       "        (conv): Conv3d(512, 256, kernel_size=(1, 1, 1), stride=(1, 1, 1), bias=False)\n",
       "      )\n",
       "      (norm3): BatchNorm3d(256, eps=1e-05, momentum=0.1, affine=True, track_running_stats=True)\n",
       "    )\n",
       "  )\n",
       "  (decoder4): UnetrUpBlock(\n",
       "    (transp_conv): Convolution(\n",
       "      (conv): ConvTranspose3d(256, 128, kernel_size=(2, 2, 2), stride=(2, 2, 2), bias=False)\n",
       "    )\n",
       "    (conv_block): UnetResBlock(\n",
       "      (conv1): Convolution(\n",
       "        (conv): Conv3d(256, 128, kernel_size=(3, 3, 3), stride=(1, 1, 1), padding=(1, 1, 1), bias=False)\n",
       "      )\n",
       "      (conv2): Convolution(\n",
       "        (conv): Conv3d(128, 128, kernel_size=(3, 3, 3), stride=(1, 1, 1), padding=(1, 1, 1), bias=False)\n",
       "      )\n",
       "      (lrelu): LeakyReLU(negative_slope=0.01, inplace=True)\n",
       "      (norm1): BatchNorm3d(128, eps=1e-05, momentum=0.1, affine=True, track_running_stats=True)\n",
       "      (norm2): BatchNorm3d(128, eps=1e-05, momentum=0.1, affine=True, track_running_stats=True)\n",
       "      (conv3): Convolution(\n",
       "        (conv): Conv3d(256, 128, kernel_size=(1, 1, 1), stride=(1, 1, 1), bias=False)\n",
       "      )\n",
       "      (norm3): BatchNorm3d(128, eps=1e-05, momentum=0.1, affine=True, track_running_stats=True)\n",
       "    )\n",
       "  )\n",
       "  (decoder3): UnetrUpBlock(\n",
       "    (transp_conv): Convolution(\n",
       "      (conv): ConvTranspose3d(128, 64, kernel_size=(2, 2, 2), stride=(2, 2, 2), bias=False)\n",
       "    )\n",
       "    (conv_block): UnetResBlock(\n",
       "      (conv1): Convolution(\n",
       "        (conv): Conv3d(128, 64, kernel_size=(3, 3, 3), stride=(1, 1, 1), padding=(1, 1, 1), bias=False)\n",
       "      )\n",
       "      (conv2): Convolution(\n",
       "        (conv): Conv3d(64, 64, kernel_size=(3, 3, 3), stride=(1, 1, 1), padding=(1, 1, 1), bias=False)\n",
       "      )\n",
       "      (lrelu): LeakyReLU(negative_slope=0.01, inplace=True)\n",
       "      (norm1): BatchNorm3d(64, eps=1e-05, momentum=0.1, affine=True, track_running_stats=True)\n",
       "      (norm2): BatchNorm3d(64, eps=1e-05, momentum=0.1, affine=True, track_running_stats=True)\n",
       "      (conv3): Convolution(\n",
       "        (conv): Conv3d(128, 64, kernel_size=(1, 1, 1), stride=(1, 1, 1), bias=False)\n",
       "      )\n",
       "      (norm3): BatchNorm3d(64, eps=1e-05, momentum=0.1, affine=True, track_running_stats=True)\n",
       "    )\n",
       "  )\n",
       "  (decoder2): UnetrUpBlock(\n",
       "    (transp_conv): Convolution(\n",
       "      (conv): ConvTranspose3d(64, 32, kernel_size=(2, 2, 2), stride=(2, 2, 2), bias=False)\n",
       "    )\n",
       "    (conv_block): UnetResBlock(\n",
       "      (conv1): Convolution(\n",
       "        (conv): Conv3d(64, 32, kernel_size=(3, 3, 3), stride=(1, 1, 1), padding=(1, 1, 1), bias=False)\n",
       "      )\n",
       "      (conv2): Convolution(\n",
       "        (conv): Conv3d(32, 32, kernel_size=(3, 3, 3), stride=(1, 1, 1), padding=(1, 1, 1), bias=False)\n",
       "      )\n",
       "      (lrelu): LeakyReLU(negative_slope=0.01, inplace=True)\n",
       "      (norm1): BatchNorm3d(32, eps=1e-05, momentum=0.1, affine=True, track_running_stats=True)\n",
       "      (norm2): BatchNorm3d(32, eps=1e-05, momentum=0.1, affine=True, track_running_stats=True)\n",
       "      (conv3): Convolution(\n",
       "        (conv): Conv3d(64, 32, kernel_size=(1, 1, 1), stride=(1, 1, 1), bias=False)\n",
       "      )\n",
       "      (norm3): BatchNorm3d(32, eps=1e-05, momentum=0.1, affine=True, track_running_stats=True)\n",
       "    )\n",
       "  )\n",
       "  (out): UnetOutBlock(\n",
       "    (conv): Convolution(\n",
       "      (conv): Conv3d(32, 1, kernel_size=(1, 1, 1), stride=(1, 1, 1))\n",
       "    )\n",
       "  )\n",
       ")"
      ]
     },
     "execution_count": 6,
     "metadata": {},
     "output_type": "execute_result"
    }
   ],
   "source": [
    "device = torch.device(\"cuda:0\" if torch.cuda.is_available() else \"cpu\")\n",
    "\n",
    "model = UNETR(in_channels=1, out_channels=1, img_size=(167, 120, 232), feature_size=32, norm_name='batch')\n",
    "model.to(device)"
   ]
  },
  {
   "cell_type": "code",
   "execution_count": null,
   "metadata": {},
   "outputs": [
    {
     "data": {
      "text/plain": [
       "UNETR(\n",
       "  (vit): ViT(\n",
       "    (patch_embedding): PatchEmbeddingBlock(\n",
       "      (patch_embeddings): Conv3d(1, 768, kernel_size=(16, 16, 16), stride=(16, 16, 16))\n",
       "      (dropout): Dropout(p=0.0, inplace=False)\n",
       "    )\n",
       "    (blocks): ModuleList(\n",
       "      (0-11): 12 x TransformerBlock(\n",
       "        (mlp): MLPBlock(\n",
       "          (linear1): Linear(in_features=768, out_features=3072, bias=True)\n",
       "          (linear2): Linear(in_features=3072, out_features=768, bias=True)\n",
       "          (fn): GELU(approximate='none')\n",
       "          (drop1): Dropout(p=0.0, inplace=False)\n",
       "          (drop2): Dropout(p=0.0, inplace=False)\n",
       "        )\n",
       "        (norm1): LayerNorm((768,), eps=1e-05, elementwise_affine=True)\n",
       "        (attn): SABlock(\n",
       "          (out_proj): Linear(in_features=768, out_features=768, bias=True)\n",
       "          (qkv): Linear(in_features=768, out_features=2304, bias=False)\n",
       "          (input_rearrange): Rearrange('b h (qkv l d) -> qkv b l h d', qkv=3, l=12)\n",
       "          (out_rearrange): Rearrange('b h l d -> b l (h d)')\n",
       "          (drop_output): Dropout(p=0.0, inplace=False)\n",
       "          (drop_weights): Dropout(p=0.0, inplace=False)\n",
       "        )\n",
       "        (norm2): LayerNorm((768,), eps=1e-05, elementwise_affine=True)\n",
       "      )\n",
       "    )\n",
       "    (norm): LayerNorm((768,), eps=1e-05, elementwise_affine=True)\n",
       "  )\n",
       "  (encoder1): UnetrBasicBlock(\n",
       "    (layer): UnetResBlock(\n",
       "      (conv1): Convolution(\n",
       "        (conv): Conv3d(1, 32, kernel_size=(3, 3, 3), stride=(1, 1, 1), padding=(1, 1, 1), bias=False)\n",
       "      )\n",
       "      (conv2): Convolution(\n",
       "        (conv): Conv3d(32, 32, kernel_size=(3, 3, 3), stride=(1, 1, 1), padding=(1, 1, 1), bias=False)\n",
       "      )\n",
       "      (lrelu): LeakyReLU(negative_slope=0.01, inplace=True)\n",
       "      (norm1): BatchNorm3d(32, eps=1e-05, momentum=0.1, affine=True, track_running_stats=True)\n",
       "      (norm2): BatchNorm3d(32, eps=1e-05, momentum=0.1, affine=True, track_running_stats=True)\n",
       "      (conv3): Convolution(\n",
       "        (conv): Conv3d(1, 32, kernel_size=(1, 1, 1), stride=(1, 1, 1), bias=False)\n",
       "      )\n",
       "      (norm3): BatchNorm3d(32, eps=1e-05, momentum=0.1, affine=True, track_running_stats=True)\n",
       "    )\n",
       "  )\n",
       "  (encoder2): UnetrPrUpBlock(\n",
       "    (transp_conv_init): Convolution(\n",
       "      (conv): ConvTranspose3d(768, 64, kernel_size=(2, 2, 2), stride=(2, 2, 2), bias=False)\n",
       "    )\n",
       "    (blocks): ModuleList(\n",
       "      (0-1): 2 x Sequential(\n",
       "        (0): Convolution(\n",
       "          (conv): ConvTranspose3d(64, 64, kernel_size=(2, 2, 2), stride=(2, 2, 2), bias=False)\n",
       "        )\n",
       "        (1): UnetResBlock(\n",
       "          (conv1): Convolution(\n",
       "            (conv): Conv3d(64, 64, kernel_size=(3, 3, 3), stride=(1, 1, 1), padding=(1, 1, 1), bias=False)\n",
       "          )\n",
       "          (conv2): Convolution(\n",
       "            (conv): Conv3d(64, 64, kernel_size=(3, 3, 3), stride=(1, 1, 1), padding=(1, 1, 1), bias=False)\n",
       "          )\n",
       "          (lrelu): LeakyReLU(negative_slope=0.01, inplace=True)\n",
       "          (norm1): BatchNorm3d(64, eps=1e-05, momentum=0.1, affine=True, track_running_stats=True)\n",
       "          (norm2): BatchNorm3d(64, eps=1e-05, momentum=0.1, affine=True, track_running_stats=True)\n",
       "        )\n",
       "      )\n",
       "    )\n",
       "  )\n",
       "  (encoder3): UnetrPrUpBlock(\n",
       "    (transp_conv_init): Convolution(\n",
       "      (conv): ConvTranspose3d(768, 128, kernel_size=(2, 2, 2), stride=(2, 2, 2), bias=False)\n",
       "    )\n",
       "    (blocks): ModuleList(\n",
       "      (0): Sequential(\n",
       "        (0): Convolution(\n",
       "          (conv): ConvTranspose3d(128, 128, kernel_size=(2, 2, 2), stride=(2, 2, 2), bias=False)\n",
       "        )\n",
       "        (1): UnetResBlock(\n",
       "          (conv1): Convolution(\n",
       "            (conv): Conv3d(128, 128, kernel_size=(3, 3, 3), stride=(1, 1, 1), padding=(1, 1, 1), bias=False)\n",
       "          )\n",
       "          (conv2): Convolution(\n",
       "            (conv): Conv3d(128, 128, kernel_size=(3, 3, 3), stride=(1, 1, 1), padding=(1, 1, 1), bias=False)\n",
       "          )\n",
       "          (lrelu): LeakyReLU(negative_slope=0.01, inplace=True)\n",
       "          (norm1): BatchNorm3d(128, eps=1e-05, momentum=0.1, affine=True, track_running_stats=True)\n",
       "          (norm2): BatchNorm3d(128, eps=1e-05, momentum=0.1, affine=True, track_running_stats=True)\n",
       "        )\n",
       "      )\n",
       "    )\n",
       "  )\n",
       "  (encoder4): UnetrPrUpBlock(\n",
       "    (transp_conv_init): Convolution(\n",
       "      (conv): ConvTranspose3d(768, 256, kernel_size=(2, 2, 2), stride=(2, 2, 2), bias=False)\n",
       "    )\n",
       "    (blocks): ModuleList()\n",
       "  )\n",
       "  (decoder5): UnetrUpBlock(\n",
       "    (transp_conv): Convolution(\n",
       "      (conv): ConvTranspose3d(768, 256, kernel_size=(2, 2, 2), stride=(2, 2, 2), bias=False)\n",
       "    )\n",
       "    (conv_block): UnetResBlock(\n",
       "      (conv1): Convolution(\n",
       "        (conv): Conv3d(512, 256, kernel_size=(3, 3, 3), stride=(1, 1, 1), padding=(1, 1, 1), bias=False)\n",
       "      )\n",
       "      (conv2): Convolution(\n",
       "        (conv): Conv3d(256, 256, kernel_size=(3, 3, 3), stride=(1, 1, 1), padding=(1, 1, 1), bias=False)\n",
       "      )\n",
       "      (lrelu): LeakyReLU(negative_slope=0.01, inplace=True)\n",
       "      (norm1): BatchNorm3d(256, eps=1e-05, momentum=0.1, affine=True, track_running_stats=True)\n",
       "      (norm2): BatchNorm3d(256, eps=1e-05, momentum=0.1, affine=True, track_running_stats=True)\n",
       "      (conv3): Convolution(\n",
       "        (conv): Conv3d(512, 256, kernel_size=(1, 1, 1), stride=(1, 1, 1), bias=False)\n",
       "      )\n",
       "      (norm3): BatchNorm3d(256, eps=1e-05, momentum=0.1, affine=True, track_running_stats=True)\n",
       "    )\n",
       "  )\n",
       "  (decoder4): UnetrUpBlock(\n",
       "    (transp_conv): Convolution(\n",
       "      (conv): ConvTranspose3d(256, 128, kernel_size=(2, 2, 2), stride=(2, 2, 2), bias=False)\n",
       "    )\n",
       "    (conv_block): UnetResBlock(\n",
       "      (conv1): Convolution(\n",
       "        (conv): Conv3d(256, 128, kernel_size=(3, 3, 3), stride=(1, 1, 1), padding=(1, 1, 1), bias=False)\n",
       "      )\n",
       "      (conv2): Convolution(\n",
       "        (conv): Conv3d(128, 128, kernel_size=(3, 3, 3), stride=(1, 1, 1), padding=(1, 1, 1), bias=False)\n",
       "      )\n",
       "      (lrelu): LeakyReLU(negative_slope=0.01, inplace=True)\n",
       "      (norm1): BatchNorm3d(128, eps=1e-05, momentum=0.1, affine=True, track_running_stats=True)\n",
       "      (norm2): BatchNorm3d(128, eps=1e-05, momentum=0.1, affine=True, track_running_stats=True)\n",
       "      (conv3): Convolution(\n",
       "        (conv): Conv3d(256, 128, kernel_size=(1, 1, 1), stride=(1, 1, 1), bias=False)\n",
       "      )\n",
       "      (norm3): BatchNorm3d(128, eps=1e-05, momentum=0.1, affine=True, track_running_stats=True)\n",
       "    )\n",
       "  )\n",
       "  (decoder3): UnetrUpBlock(\n",
       "    (transp_conv): Convolution(\n",
       "      (conv): ConvTranspose3d(128, 64, kernel_size=(2, 2, 2), stride=(2, 2, 2), bias=False)\n",
       "    )\n",
       "    (conv_block): UnetResBlock(\n",
       "      (conv1): Convolution(\n",
       "        (conv): Conv3d(128, 64, kernel_size=(3, 3, 3), stride=(1, 1, 1), padding=(1, 1, 1), bias=False)\n",
       "      )\n",
       "      (conv2): Convolution(\n",
       "        (conv): Conv3d(64, 64, kernel_size=(3, 3, 3), stride=(1, 1, 1), padding=(1, 1, 1), bias=False)\n",
       "      )\n",
       "      (lrelu): LeakyReLU(negative_slope=0.01, inplace=True)\n",
       "      (norm1): BatchNorm3d(64, eps=1e-05, momentum=0.1, affine=True, track_running_stats=True)\n",
       "      (norm2): BatchNorm3d(64, eps=1e-05, momentum=0.1, affine=True, track_running_stats=True)\n",
       "      (conv3): Convolution(\n",
       "        (conv): Conv3d(128, 64, kernel_size=(1, 1, 1), stride=(1, 1, 1), bias=False)\n",
       "      )\n",
       "      (norm3): BatchNorm3d(64, eps=1e-05, momentum=0.1, affine=True, track_running_stats=True)\n",
       "    )\n",
       "  )\n",
       "  (decoder2): UnetrUpBlock(\n",
       "    (transp_conv): Convolution(\n",
       "      (conv): ConvTranspose3d(64, 32, kernel_size=(2, 2, 2), stride=(2, 2, 2), bias=False)\n",
       "    )\n",
       "    (conv_block): UnetResBlock(\n",
       "      (conv1): Convolution(\n",
       "        (conv): Conv3d(64, 32, kernel_size=(3, 3, 3), stride=(1, 1, 1), padding=(1, 1, 1), bias=False)\n",
       "      )\n",
       "      (conv2): Convolution(\n",
       "        (conv): Conv3d(32, 32, kernel_size=(3, 3, 3), stride=(1, 1, 1), padding=(1, 1, 1), bias=False)\n",
       "      )\n",
       "      (lrelu): LeakyReLU(negative_slope=0.01, inplace=True)\n",
       "      (norm1): BatchNorm3d(32, eps=1e-05, momentum=0.1, affine=True, track_running_stats=True)\n",
       "      (norm2): BatchNorm3d(32, eps=1e-05, momentum=0.1, affine=True, track_running_stats=True)\n",
       "      (conv3): Convolution(\n",
       "        (conv): Conv3d(64, 32, kernel_size=(1, 1, 1), stride=(1, 1, 1), bias=False)\n",
       "      )\n",
       "      (norm3): BatchNorm3d(32, eps=1e-05, momentum=0.1, affine=True, track_running_stats=True)\n",
       "    )\n",
       "  )\n",
       "  (out): UnetOutBlock(\n",
       "    (conv): Convolution(\n",
       "      (conv): Conv3d(32, 1, kernel_size=(1, 1, 1), stride=(1, 1, 1))\n",
       "    )\n",
       "  )\n",
       ")"
      ]
     },
     "execution_count": 5,
     "metadata": {},
     "output_type": "execute_result"
    }
   ],
   "source": [
    "# device = torch.device(\"cuda:0\" if torch.cuda.is_available() else \"cpu\")\n",
    "\n",
    "# model = UNETR(in_channels=1, out_channels=1, img_size=(112, 160, 208), feature_size=32, norm_name='batch')\n",
    "# model.to(device)"
   ]
  },
  {
   "cell_type": "code",
   "execution_count": null,
   "metadata": {},
   "outputs": [],
   "source": [
    "# loss_function = nn.BCELoss()\n",
    "loss_function = DiceLoss(sigmoid=True, squared_pred=True)\n",
    "\n",
    "optimizer = optim.Adam(model.parameters(), lr=1e-3)\n"
   ]
  },
  {
   "cell_type": "code",
   "execution_count": null,
   "metadata": {},
   "outputs": [],
   "source": [
    "# Función para mostrar imágenes de inputs, targets y outputs\n",
    "def plot_results(inputs, targets, outputs):\n",
    "    depth_slice = inputs[:, :, :, :, :]\n",
    "    depth_slice_target = targets[:, :, :, :, :]\n",
    "    depth_slice_outputs = outputs[:, :, :, :, :]\n",
    "\n",
    "    def plot_image(i):\n",
    "        fig, axes = plt.subplots(1, 3, figsize=(10, 5))\n",
    "\n",
    "        image_array = depth_slice[0, :, i, :, :].cpu().detach().numpy()\n",
    "        image_array_target = depth_slice_target[0, :, i, :, :].cpu().detach().numpy()\n",
    "        image_array_outputs = depth_slice_outputs[0, :, i, :, :].cpu().detach().numpy()\n",
    "\n",
    "        axes[0].imshow(image_array[0, :, :], cmap=\"gray\")\n",
    "        axes[0].set_title(\"inputs\")\n",
    "        axes[0].axis('off')\n",
    "\n",
    "        axes[1].imshow(image_array_target[0, :, :], cmap=\"gray\")\n",
    "        axes[1].set_title(\"target\")\n",
    "        axes[1].axis('off')\n",
    "\n",
    "        axes[2].imshow(image_array_outputs[0, :, :], cmap=\"gray\")\n",
    "        axes[2].set_title(\"output\")\n",
    "        axes[2].axis('off')\n",
    "\n",
    "        plt.show()\n",
    "\n",
    "    widgets.interact(plot_image, i=widgets.IntSlider(min=0, max=depth_slice.shape[2]-1, step=1, value=22))\n"
   ]
  },
  {
   "cell_type": "code",
   "execution_count": null,
   "metadata": {},
   "outputs": [
    {
     "name": "stdout",
     "output_type": "stream",
     "text": [
      "final image tensor,  torch.Size([1, 176, 120, 232])\n",
      "final label tensor,  torch.Size([1, 176, 120, 232])\n",
      "final image tensor,  torch.Size([1, 176, 120, 232])\n",
      "final label tensor,  torch.Size([1, 176, 120, 232])\n"
     ]
    },
    {
     "ename": "RuntimeError",
     "evalue": "The size of tensor a (1078) must match the size of tensor b (980) at non-singleton dimension 1",
     "output_type": "error",
     "traceback": [
      "\u001b[0;31m---------------------------------------------------------------------------\u001b[0m",
      "\u001b[0;31mRuntimeError\u001b[0m                              Traceback (most recent call last)",
      "\u001b[1;32m/home/paulagmtz/TFM_PAULA_24/MONAI-UNET/main.ipynb Cell 36\u001b[0m line \u001b[0;36m1\n\u001b[1;32m      <a href='vscode-notebook-cell://ssh-remote%2B10.117.178.23/home/paulagmtz/TFM_PAULA_24/MONAI-UNET/main.ipynb#X51sdnNjb2RlLXJlbW90ZQ%3D%3D?line=7'>8</a>\u001b[0m inputs, targets \u001b[39m=\u001b[39m batch[\u001b[39m0\u001b[39m]\u001b[39m.\u001b[39mto(device), batch[\u001b[39m1\u001b[39m]\u001b[39m.\u001b[39mto(device)\n\u001b[1;32m     <a href='vscode-notebook-cell://ssh-remote%2B10.117.178.23/home/paulagmtz/TFM_PAULA_24/MONAI-UNET/main.ipynb#X51sdnNjb2RlLXJlbW90ZQ%3D%3D?line=9'>10</a>\u001b[0m optimizer\u001b[39m.\u001b[39mzero_grad()\n\u001b[0;32m---> <a href='vscode-notebook-cell://ssh-remote%2B10.117.178.23/home/paulagmtz/TFM_PAULA_24/MONAI-UNET/main.ipynb#X51sdnNjb2RlLXJlbW90ZQ%3D%3D?line=10'>11</a>\u001b[0m outputs \u001b[39m=\u001b[39m model(inputs)\n\u001b[1;32m     <a href='vscode-notebook-cell://ssh-remote%2B10.117.178.23/home/paulagmtz/TFM_PAULA_24/MONAI-UNET/main.ipynb#X51sdnNjb2RlLXJlbW90ZQ%3D%3D?line=11'>12</a>\u001b[0m \u001b[39m# out = nn.functional.softmax(outputs, dim = 0)\u001b[39;00m\n\u001b[1;32m     <a href='vscode-notebook-cell://ssh-remote%2B10.117.178.23/home/paulagmtz/TFM_PAULA_24/MONAI-UNET/main.ipynb#X51sdnNjb2RlLXJlbW90ZQ%3D%3D?line=13'>14</a>\u001b[0m loss \u001b[39m=\u001b[39m loss_function(outputs, targets)\n",
      "File \u001b[0;32m~/.local/lib/python3.8/site-packages/torch/nn/modules/module.py:1501\u001b[0m, in \u001b[0;36mModule._call_impl\u001b[0;34m(self, *args, **kwargs)\u001b[0m\n\u001b[1;32m   1496\u001b[0m \u001b[39m# If we don't have any hooks, we want to skip the rest of the logic in\u001b[39;00m\n\u001b[1;32m   1497\u001b[0m \u001b[39m# this function, and just call forward.\u001b[39;00m\n\u001b[1;32m   1498\u001b[0m \u001b[39mif\u001b[39;00m \u001b[39mnot\u001b[39;00m (\u001b[39mself\u001b[39m\u001b[39m.\u001b[39m_backward_hooks \u001b[39mor\u001b[39;00m \u001b[39mself\u001b[39m\u001b[39m.\u001b[39m_backward_pre_hooks \u001b[39mor\u001b[39;00m \u001b[39mself\u001b[39m\u001b[39m.\u001b[39m_forward_hooks \u001b[39mor\u001b[39;00m \u001b[39mself\u001b[39m\u001b[39m.\u001b[39m_forward_pre_hooks\n\u001b[1;32m   1499\u001b[0m         \u001b[39mor\u001b[39;00m _global_backward_pre_hooks \u001b[39mor\u001b[39;00m _global_backward_hooks\n\u001b[1;32m   1500\u001b[0m         \u001b[39mor\u001b[39;00m _global_forward_hooks \u001b[39mor\u001b[39;00m _global_forward_pre_hooks):\n\u001b[0;32m-> 1501\u001b[0m     \u001b[39mreturn\u001b[39;00m forward_call(\u001b[39m*\u001b[39;49margs, \u001b[39m*\u001b[39;49m\u001b[39m*\u001b[39;49mkwargs)\n\u001b[1;32m   1502\u001b[0m \u001b[39m# Do not call functions when jit is used\u001b[39;00m\n\u001b[1;32m   1503\u001b[0m full_backward_hooks, non_full_backward_hooks \u001b[39m=\u001b[39m [], []\n",
      "File \u001b[0;32m~/TFM_PAULA_24/MONAI-UNET/UNETR.py:215\u001b[0m, in \u001b[0;36mUNETR.forward\u001b[0;34m(self, x_in)\u001b[0m\n\u001b[1;32m    214\u001b[0m \u001b[39mdef\u001b[39;00m \u001b[39mforward\u001b[39m(\u001b[39mself\u001b[39m, x_in):\n\u001b[0;32m--> 215\u001b[0m     x, hidden_states_out \u001b[39m=\u001b[39m \u001b[39mself\u001b[39;49m\u001b[39m.\u001b[39;49mvit(x_in)\n\u001b[1;32m    216\u001b[0m     enc1 \u001b[39m=\u001b[39m \u001b[39mself\u001b[39m\u001b[39m.\u001b[39mencoder1(x_in)\n\u001b[1;32m    217\u001b[0m     x2 \u001b[39m=\u001b[39m hidden_states_out[\u001b[39m3\u001b[39m]\n",
      "File \u001b[0;32m~/.local/lib/python3.8/site-packages/torch/nn/modules/module.py:1501\u001b[0m, in \u001b[0;36mModule._call_impl\u001b[0;34m(self, *args, **kwargs)\u001b[0m\n\u001b[1;32m   1496\u001b[0m \u001b[39m# If we don't have any hooks, we want to skip the rest of the logic in\u001b[39;00m\n\u001b[1;32m   1497\u001b[0m \u001b[39m# this function, and just call forward.\u001b[39;00m\n\u001b[1;32m   1498\u001b[0m \u001b[39mif\u001b[39;00m \u001b[39mnot\u001b[39;00m (\u001b[39mself\u001b[39m\u001b[39m.\u001b[39m_backward_hooks \u001b[39mor\u001b[39;00m \u001b[39mself\u001b[39m\u001b[39m.\u001b[39m_backward_pre_hooks \u001b[39mor\u001b[39;00m \u001b[39mself\u001b[39m\u001b[39m.\u001b[39m_forward_hooks \u001b[39mor\u001b[39;00m \u001b[39mself\u001b[39m\u001b[39m.\u001b[39m_forward_pre_hooks\n\u001b[1;32m   1499\u001b[0m         \u001b[39mor\u001b[39;00m _global_backward_pre_hooks \u001b[39mor\u001b[39;00m _global_backward_hooks\n\u001b[1;32m   1500\u001b[0m         \u001b[39mor\u001b[39;00m _global_forward_hooks \u001b[39mor\u001b[39;00m _global_forward_pre_hooks):\n\u001b[0;32m-> 1501\u001b[0m     \u001b[39mreturn\u001b[39;00m forward_call(\u001b[39m*\u001b[39;49margs, \u001b[39m*\u001b[39;49m\u001b[39m*\u001b[39;49mkwargs)\n\u001b[1;32m   1502\u001b[0m \u001b[39m# Do not call functions when jit is used\u001b[39;00m\n\u001b[1;32m   1503\u001b[0m full_backward_hooks, non_full_backward_hooks \u001b[39m=\u001b[39m [], []\n",
      "File \u001b[0;32m~/.local/lib/python3.8/site-packages/monai/networks/nets/vit.py:130\u001b[0m, in \u001b[0;36mViT.forward\u001b[0;34m(self, x)\u001b[0m\n\u001b[1;32m    129\u001b[0m \u001b[39mdef\u001b[39;00m \u001b[39mforward\u001b[39m(\u001b[39mself\u001b[39m, x):\n\u001b[0;32m--> 130\u001b[0m     x \u001b[39m=\u001b[39m \u001b[39mself\u001b[39;49m\u001b[39m.\u001b[39;49mpatch_embedding(x)\n\u001b[1;32m    131\u001b[0m     \u001b[39mif\u001b[39;00m \u001b[39mhasattr\u001b[39m(\u001b[39mself\u001b[39m, \u001b[39m\"\u001b[39m\u001b[39mcls_token\u001b[39m\u001b[39m\"\u001b[39m):\n\u001b[1;32m    132\u001b[0m         cls_token \u001b[39m=\u001b[39m \u001b[39mself\u001b[39m\u001b[39m.\u001b[39mcls_token\u001b[39m.\u001b[39mexpand(x\u001b[39m.\u001b[39mshape[\u001b[39m0\u001b[39m], \u001b[39m-\u001b[39m\u001b[39m1\u001b[39m, \u001b[39m-\u001b[39m\u001b[39m1\u001b[39m)\n",
      "File \u001b[0;32m~/.local/lib/python3.8/site-packages/torch/nn/modules/module.py:1501\u001b[0m, in \u001b[0;36mModule._call_impl\u001b[0;34m(self, *args, **kwargs)\u001b[0m\n\u001b[1;32m   1496\u001b[0m \u001b[39m# If we don't have any hooks, we want to skip the rest of the logic in\u001b[39;00m\n\u001b[1;32m   1497\u001b[0m \u001b[39m# this function, and just call forward.\u001b[39;00m\n\u001b[1;32m   1498\u001b[0m \u001b[39mif\u001b[39;00m \u001b[39mnot\u001b[39;00m (\u001b[39mself\u001b[39m\u001b[39m.\u001b[39m_backward_hooks \u001b[39mor\u001b[39;00m \u001b[39mself\u001b[39m\u001b[39m.\u001b[39m_backward_pre_hooks \u001b[39mor\u001b[39;00m \u001b[39mself\u001b[39m\u001b[39m.\u001b[39m_forward_hooks \u001b[39mor\u001b[39;00m \u001b[39mself\u001b[39m\u001b[39m.\u001b[39m_forward_pre_hooks\n\u001b[1;32m   1499\u001b[0m         \u001b[39mor\u001b[39;00m _global_backward_pre_hooks \u001b[39mor\u001b[39;00m _global_backward_hooks\n\u001b[1;32m   1500\u001b[0m         \u001b[39mor\u001b[39;00m _global_forward_hooks \u001b[39mor\u001b[39;00m _global_forward_pre_hooks):\n\u001b[0;32m-> 1501\u001b[0m     \u001b[39mreturn\u001b[39;00m forward_call(\u001b[39m*\u001b[39;49margs, \u001b[39m*\u001b[39;49m\u001b[39m*\u001b[39;49mkwargs)\n\u001b[1;32m   1502\u001b[0m \u001b[39m# Do not call functions when jit is used\u001b[39;00m\n\u001b[1;32m   1503\u001b[0m full_backward_hooks, non_full_backward_hooks \u001b[39m=\u001b[39m [], []\n",
      "File \u001b[0;32m~/.local/lib/python3.8/site-packages/monai/networks/blocks/patchembedding.py:144\u001b[0m, in \u001b[0;36mPatchEmbeddingBlock.forward\u001b[0;34m(self, x)\u001b[0m\n\u001b[1;32m    142\u001b[0m \u001b[39mif\u001b[39;00m \u001b[39mself\u001b[39m\u001b[39m.\u001b[39mproj_type \u001b[39m==\u001b[39m \u001b[39m\"\u001b[39m\u001b[39mconv\u001b[39m\u001b[39m\"\u001b[39m:\n\u001b[1;32m    143\u001b[0m     x \u001b[39m=\u001b[39m x\u001b[39m.\u001b[39mflatten(\u001b[39m2\u001b[39m)\u001b[39m.\u001b[39mtranspose(\u001b[39m-\u001b[39m\u001b[39m1\u001b[39m, \u001b[39m-\u001b[39m\u001b[39m2\u001b[39m)\n\u001b[0;32m--> 144\u001b[0m embeddings \u001b[39m=\u001b[39m x \u001b[39m+\u001b[39;49m \u001b[39mself\u001b[39;49m\u001b[39m.\u001b[39;49mposition_embeddings\n\u001b[1;32m    145\u001b[0m embeddings \u001b[39m=\u001b[39m \u001b[39mself\u001b[39m\u001b[39m.\u001b[39mdropout(embeddings)\n\u001b[1;32m    146\u001b[0m \u001b[39mreturn\u001b[39;00m embeddings\n",
      "\u001b[0;31mRuntimeError\u001b[0m: The size of tensor a (1078) must match the size of tensor b (980) at non-singleton dimension 1"
     ]
    }
   ],
   "source": [
    "num_epochs = 100\n",
    "loss_evolution = []\n",
    "\n",
    "for epoch in range(num_epochs):\n",
    "    \n",
    "    model.train()\n",
    "    for batch in train_dataloader:\n",
    "        inputs, targets = batch[0].to(device), batch[1].to(device)\n",
    "        \n",
    "        optimizer.zero_grad()\n",
    "        outputs = model(inputs)\n",
    "        # out = nn.functional.softmax(outputs, dim = 0)\n",
    "        \n",
    "        loss = loss_function(outputs, targets)\n",
    "        loss.backward()\n",
    "        \n",
    "        optimizer.step()\n",
    "        \n",
    "        # plot_results(inputs,targets,outputs)\n",
    "    loss_evolution.append(loss)\n",
    "    plot_results(inputs,targets,outputs)\n",
    "    print(f\"Epoch [{epoch + 1}/{num_epochs}] - Loss: {loss.item()}\")\n",
    "\n",
    "print(\"Training complete.\")\n"
   ]
  },
  {
   "cell_type": "markdown",
   "metadata": {},
   "source": [
    "# ATTENTION UNET"
   ]
  },
  {
   "cell_type": "code",
   "execution_count": null,
   "metadata": {},
   "outputs": [],
   "source": [
    "device = torch.device(\"cuda:1\" if torch.cuda.is_available() else \"cpu\")\n",
    "\n",
    "model = AttentionUnet(\n",
    "    spatial_dims=3 ,\n",
    "    in_channels=1,\n",
    "    out_channels=1,\n",
    "    channels=(64,128), \n",
    "    strides=(2,2),\n",
    "    # num_res_units=2,\n",
    "    # norm=Norm.BATCH,    \n",
    ").to(device)"
   ]
  },
  {
   "cell_type": "code",
   "execution_count": null,
   "metadata": {},
   "outputs": [],
   "source": [
    "# loss_function = nn.BCELoss()\n",
    "#\n",
    "dice_loss_function = DiceLoss(sigmoid=True, squared_pred=True) \n",
    "diceCE_loss_function = DiceCELoss(sigmoid=True)\n",
    "dicefocall_loss_function = DiceFocalLoss(sigmoid=True)\n",
    "generalizedDice_loss_function = GeneralizedDiceLoss(sigmoid=True)\n",
    "\n",
    "\n",
    "optimizer = optim.Adam(model.parameters(), lr=1e-3)\n"
   ]
  },
  {
   "cell_type": "code",
   "execution_count": null,
   "metadata": {},
   "outputs": [
    {
     "name": "stdout",
     "output_type": "stream",
     "text": [
      "Epoch [1/300] - Loss: 1.0370497703552246\n",
      "Epoch [2/300] - Loss: 1.0190327167510986\n",
      "Epoch [3/300] - Loss: 1.0103436708450317\n",
      "Epoch [4/300] - Loss: 1.0064424276351929\n",
      "Epoch [5/300] - Loss: 1.0045874118804932\n",
      "Epoch [6/300] - Loss: 1.0030314922332764\n",
      "Epoch [7/300] - Loss: 1.002220869064331\n",
      "Epoch [8/300] - Loss: 1.0014246702194214\n",
      "Epoch [9/300] - Loss: 1.0010550022125244\n",
      "Epoch [10/300] - Loss: 1.000854730606079\n",
      "Epoch [11/300] - Loss: 1.0004760026931763\n",
      "Epoch [12/300] - Loss: 1.0011030435562134\n",
      "Epoch [13/300] - Loss: 1.0003750324249268\n",
      "Epoch [14/300] - Loss: 0.9999452233314514\n",
      "Epoch [15/300] - Loss: 0.9998762607574463\n",
      "Epoch [16/300] - Loss: 0.9998970031738281\n",
      "Epoch [17/300] - Loss: 0.9992780685424805\n",
      "Epoch [18/300] - Loss: 0.9995172619819641\n",
      "Epoch [19/300] - Loss: 0.9996737241744995\n",
      "Epoch [20/300] - Loss: 0.9989442229270935\n",
      "Epoch [21/300] - Loss: 0.999040961265564\n",
      "Epoch [22/300] - Loss: 0.9985209107398987\n",
      "Epoch [23/300] - Loss: 0.9970117211341858\n",
      "Epoch [24/300] - Loss: 0.9970127940177917\n",
      "Epoch [25/300] - Loss: 0.9939624071121216\n",
      "Epoch [26/300] - Loss: 0.988429844379425\n",
      "Epoch [27/300] - Loss: 0.9647577404975891\n",
      "Epoch [28/300] - Loss: 0.9958163499832153\n",
      "Epoch [29/300] - Loss: 0.8138855695724487\n",
      "Epoch [30/300] - Loss: 0.8536694049835205\n",
      "Epoch [31/300] - Loss: 0.7812915444374084\n",
      "Epoch [32/300] - Loss: 0.7904409170150757\n",
      "Epoch [33/300] - Loss: 0.7305129766464233\n",
      "Epoch [34/300] - Loss: 0.7431321144104004\n",
      "Epoch [35/300] - Loss: 0.7171705961227417\n",
      "Epoch [36/300] - Loss: 0.7108895778656006\n",
      "Epoch [37/300] - Loss: 0.7013663053512573\n",
      "Epoch [38/300] - Loss: 0.7079862952232361\n",
      "Epoch [39/300] - Loss: 0.6823242902755737\n",
      "Epoch [40/300] - Loss: 0.6891370415687561\n",
      "Epoch [41/300] - Loss: 0.6700910925865173\n",
      "Epoch [42/300] - Loss: 0.6863793134689331\n",
      "Epoch [43/300] - Loss: 0.7043822407722473\n",
      "Epoch [44/300] - Loss: 0.6931837797164917\n",
      "Epoch [45/300] - Loss: 0.6895594000816345\n",
      "Epoch [46/300] - Loss: 0.656260073184967\n",
      "Epoch [47/300] - Loss: 0.6590942740440369\n",
      "Epoch [48/300] - Loss: 0.6781136989593506\n",
      "Epoch [49/300] - Loss: 0.6671543717384338\n",
      "Epoch [50/300] - Loss: 0.6695401072502136\n"
     ]
    },
    {
     "data": {
      "application/vnd.jupyter.widget-view+json": {
       "model_id": "1f6c3a5cdb914f689c81e5dcb799f7ca",
       "version_major": 2,
       "version_minor": 0
      },
      "text/plain": [
       "interactive(children=(IntSlider(value=22, description='i', max=111), Output()), _dom_classes=('widget-interact…"
      ]
     },
     "metadata": {},
     "output_type": "display_data"
    },
    {
     "name": "stdout",
     "output_type": "stream",
     "text": [
      "Epoch [51/300] - Loss: 0.6865363121032715\n",
      "Epoch [52/300] - Loss: 0.6619452834129333\n",
      "Epoch [53/300] - Loss: 0.6869466304779053\n",
      "Epoch [54/300] - Loss: 0.6845109462738037\n",
      "Epoch [55/300] - Loss: 0.6699029803276062\n",
      "Epoch [56/300] - Loss: 0.6799244284629822\n",
      "Epoch [57/300] - Loss: 0.6984846591949463\n",
      "Epoch [58/300] - Loss: 0.6589810848236084\n",
      "Epoch [59/300] - Loss: 0.7059495449066162\n",
      "Epoch [60/300] - Loss: 0.7293511033058167\n",
      "Epoch [61/300] - Loss: 0.6732078194618225\n",
      "Epoch [62/300] - Loss: 0.6702166795730591\n",
      "Epoch [63/300] - Loss: 0.6820042729377747\n",
      "Epoch [64/300] - Loss: 0.6566787958145142\n",
      "Epoch [65/300] - Loss: 0.6848150491714478\n",
      "Epoch [66/300] - Loss: 0.6806250214576721\n",
      "Epoch [67/300] - Loss: 0.6842666268348694\n",
      "Epoch [68/300] - Loss: 0.6674454808235168\n",
      "Epoch [69/300] - Loss: 0.6668543815612793\n",
      "Epoch [70/300] - Loss: 0.6398455500602722\n",
      "Epoch [71/300] - Loss: 0.6242138743400574\n",
      "Epoch [72/300] - Loss: 0.6088285446166992\n",
      "Epoch [73/300] - Loss: 0.6284343004226685\n",
      "Epoch [74/300] - Loss: 0.6652149558067322\n",
      "Epoch [75/300] - Loss: 0.7181280255317688\n",
      "Epoch [76/300] - Loss: 0.6345644593238831\n",
      "Epoch [77/300] - Loss: 0.6460127234458923\n",
      "Epoch [78/300] - Loss: 0.6324835419654846\n",
      "Epoch [79/300] - Loss: 0.6675193905830383\n",
      "Epoch [80/300] - Loss: 0.6735105514526367\n",
      "Epoch [81/300] - Loss: 0.6577853560447693\n",
      "Epoch [82/300] - Loss: 0.6099064946174622\n",
      "Epoch [83/300] - Loss: 0.6538960933685303\n",
      "Epoch [84/300] - Loss: 0.6994854211807251\n",
      "Epoch [85/300] - Loss: 0.6334042549133301\n",
      "Epoch [86/300] - Loss: 0.602523148059845\n",
      "Epoch [87/300] - Loss: 0.6760637164115906\n",
      "Epoch [88/300] - Loss: 0.6366393566131592\n",
      "Epoch [89/300] - Loss: 0.6187871098518372\n",
      "Epoch [90/300] - Loss: 0.5979047417640686\n",
      "Epoch [91/300] - Loss: 0.618391752243042\n",
      "Epoch [92/300] - Loss: 0.6435730457305908\n",
      "Epoch [93/300] - Loss: 0.6127844452857971\n",
      "Epoch [94/300] - Loss: 0.6131240725517273\n",
      "Epoch [95/300] - Loss: 0.6070889234542847\n",
      "Epoch [96/300] - Loss: 0.609775722026825\n",
      "Epoch [97/300] - Loss: 0.6354382038116455\n",
      "Epoch [98/300] - Loss: 0.6213135123252869\n",
      "Epoch [99/300] - Loss: 0.6128889322280884\n",
      "Epoch [100/300] - Loss: 0.6246132850646973\n"
     ]
    },
    {
     "data": {
      "application/vnd.jupyter.widget-view+json": {
       "model_id": "6d884de1760d479ea94a083a22dde35a",
       "version_major": 2,
       "version_minor": 0
      },
      "text/plain": [
       "interactive(children=(IntSlider(value=22, description='i', max=111), Output()), _dom_classes=('widget-interact…"
      ]
     },
     "metadata": {},
     "output_type": "display_data"
    },
    {
     "name": "stdout",
     "output_type": "stream",
     "text": [
      "Epoch [101/300] - Loss: 0.596976101398468\n",
      "Epoch [102/300] - Loss: 0.5957566499710083\n",
      "Epoch [103/300] - Loss: 0.6073439121246338\n",
      "Epoch [104/300] - Loss: 0.5716307163238525\n",
      "Epoch [105/300] - Loss: 0.6586340665817261\n",
      "Epoch [106/300] - Loss: 0.6559546589851379\n",
      "Epoch [107/300] - Loss: 0.6182240843772888\n",
      "Epoch [108/300] - Loss: 0.590688169002533\n",
      "Epoch [109/300] - Loss: 0.5870043635368347\n",
      "Epoch [110/300] - Loss: 0.6433347463607788\n",
      "Epoch [111/300] - Loss: 0.6218457818031311\n",
      "Epoch [112/300] - Loss: 0.5854732394218445\n",
      "Epoch [113/300] - Loss: 0.5857495069503784\n",
      "Epoch [114/300] - Loss: 0.5794201493263245\n",
      "Epoch [115/300] - Loss: 0.570260763168335\n",
      "Epoch [116/300] - Loss: 0.5714200735092163\n",
      "Epoch [117/300] - Loss: 0.5771124362945557\n",
      "Epoch [118/300] - Loss: 0.5875000953674316\n",
      "Epoch [119/300] - Loss: 0.5716611742973328\n",
      "Epoch [120/300] - Loss: 0.5632161498069763\n",
      "Epoch [121/300] - Loss: 0.5958458185195923\n",
      "Epoch [122/300] - Loss: 0.594095766544342\n",
      "Epoch [123/300] - Loss: 0.5699816346168518\n",
      "Epoch [124/300] - Loss: 0.6021974086761475\n",
      "Epoch [125/300] - Loss: 0.595467209815979\n",
      "Epoch [126/300] - Loss: 0.5564916133880615\n",
      "Epoch [127/300] - Loss: 0.5783863067626953\n",
      "Epoch [128/300] - Loss: 0.5591870546340942\n",
      "Epoch [129/300] - Loss: 0.5589200854301453\n",
      "Epoch [130/300] - Loss: 0.5585408806800842\n",
      "Epoch [131/300] - Loss: 0.5465014576911926\n",
      "Epoch [132/300] - Loss: 0.5518524646759033\n",
      "Epoch [133/300] - Loss: 0.5647764801979065\n",
      "Epoch [134/300] - Loss: 0.5490859746932983\n",
      "Epoch [135/300] - Loss: 0.5552616715431213\n",
      "Epoch [136/300] - Loss: 0.5493046045303345\n",
      "Epoch [137/300] - Loss: 0.533625602722168\n",
      "Epoch [138/300] - Loss: 0.5742999911308289\n",
      "Epoch [139/300] - Loss: 0.5404332876205444\n",
      "Epoch [140/300] - Loss: 0.5538057088851929\n",
      "Epoch [141/300] - Loss: 0.5531033277511597\n",
      "Epoch [142/300] - Loss: 0.5505950450897217\n",
      "Epoch [143/300] - Loss: 0.5446646213531494\n",
      "Epoch [144/300] - Loss: 0.5418125987052917\n",
      "Epoch [145/300] - Loss: 0.54417484998703\n",
      "Epoch [146/300] - Loss: 0.5493490695953369\n",
      "Epoch [147/300] - Loss: 0.5730081796646118\n",
      "Epoch [148/300] - Loss: 0.549713134765625\n",
      "Epoch [149/300] - Loss: 0.5836380124092102\n",
      "Epoch [150/300] - Loss: 0.5582501292228699\n"
     ]
    },
    {
     "data": {
      "application/vnd.jupyter.widget-view+json": {
       "model_id": "428c4eac172344a298225f180c4e6c54",
       "version_major": 2,
       "version_minor": 0
      },
      "text/plain": [
       "interactive(children=(IntSlider(value=22, description='i', max=111), Output()), _dom_classes=('widget-interact…"
      ]
     },
     "metadata": {},
     "output_type": "display_data"
    },
    {
     "name": "stdout",
     "output_type": "stream",
     "text": [
      "Epoch [151/300] - Loss: 0.5489023327827454\n",
      "Epoch [152/300] - Loss: 0.5714524388313293\n",
      "Epoch [153/300] - Loss: 0.5567401647567749\n",
      "Epoch [154/300] - Loss: 0.5543755292892456\n",
      "Epoch [155/300] - Loss: 0.5533828735351562\n",
      "Epoch [156/300] - Loss: 0.5486562848091125\n",
      "Epoch [157/300] - Loss: 0.5729953050613403\n",
      "Epoch [158/300] - Loss: 0.5360103249549866\n",
      "Epoch [159/300] - Loss: 0.5530160069465637\n",
      "Epoch [160/300] - Loss: 0.5579423904418945\n",
      "Epoch [161/300] - Loss: 0.5370094180107117\n",
      "Epoch [162/300] - Loss: 0.533220112323761\n",
      "Epoch [163/300] - Loss: 0.5286481380462646\n",
      "Epoch [164/300] - Loss: 0.534725546836853\n",
      "Epoch [165/300] - Loss: 0.5496686100959778\n",
      "Epoch [166/300] - Loss: 0.5342333316802979\n",
      "Epoch [167/300] - Loss: 0.5304110646247864\n",
      "Epoch [168/300] - Loss: 0.5254130363464355\n",
      "Epoch [169/300] - Loss: 0.5337439179420471\n",
      "Epoch [170/300] - Loss: 0.530745804309845\n",
      "Epoch [171/300] - Loss: 0.5276038646697998\n",
      "Epoch [172/300] - Loss: 0.529546856880188\n",
      "Epoch [173/300] - Loss: 0.5442388653755188\n",
      "Epoch [174/300] - Loss: 0.5530902743339539\n",
      "Epoch [175/300] - Loss: 0.5273124575614929\n",
      "Epoch [176/300] - Loss: 0.5274263024330139\n",
      "Epoch [177/300] - Loss: 0.5198119878768921\n",
      "Epoch [178/300] - Loss: 0.5361589789390564\n",
      "Epoch [179/300] - Loss: 0.5325285196304321\n",
      "Epoch [180/300] - Loss: 0.5352856516838074\n",
      "Epoch [181/300] - Loss: 0.5310820937156677\n",
      "Epoch [182/300] - Loss: 0.5535131692886353\n",
      "Epoch [183/300] - Loss: 0.5381346940994263\n",
      "Epoch [184/300] - Loss: 0.5256252288818359\n",
      "Epoch [185/300] - Loss: 0.5381904244422913\n",
      "Epoch [186/300] - Loss: 0.5362768769264221\n",
      "Epoch [187/300] - Loss: 0.5283439755439758\n",
      "Epoch [188/300] - Loss: 0.5268704891204834\n",
      "Epoch [189/300] - Loss: 0.5274456739425659\n",
      "Epoch [190/300] - Loss: 0.5227813124656677\n",
      "Epoch [191/300] - Loss: 0.5392178893089294\n",
      "Epoch [192/300] - Loss: 0.5358002185821533\n",
      "Epoch [193/300] - Loss: 0.5304911732673645\n",
      "Epoch [194/300] - Loss: 0.5346378684043884\n",
      "Epoch [195/300] - Loss: 0.5305178165435791\n",
      "Epoch [196/300] - Loss: 0.5413705706596375\n",
      "Epoch [197/300] - Loss: 0.524912416934967\n",
      "Epoch [198/300] - Loss: 0.5264648795127869\n",
      "Epoch [199/300] - Loss: 0.5212932825088501\n",
      "Epoch [200/300] - Loss: 0.5255438685417175\n"
     ]
    },
    {
     "data": {
      "application/vnd.jupyter.widget-view+json": {
       "model_id": "848d2e9db253400d8122bbe96bdbd587",
       "version_major": 2,
       "version_minor": 0
      },
      "text/plain": [
       "interactive(children=(IntSlider(value=22, description='i', max=111), Output()), _dom_classes=('widget-interact…"
      ]
     },
     "metadata": {},
     "output_type": "display_data"
    },
    {
     "name": "stdout",
     "output_type": "stream",
     "text": [
      "Epoch [201/300] - Loss: 0.5200189352035522\n",
      "Epoch [202/300] - Loss: 0.5202221870422363\n",
      "Epoch [203/300] - Loss: 0.5256364941596985\n",
      "Epoch [204/300] - Loss: 0.5272899866104126\n",
      "Epoch [205/300] - Loss: 0.5213849544525146\n",
      "Epoch [206/300] - Loss: 0.5225824117660522\n",
      "Epoch [207/300] - Loss: 0.5298523902893066\n",
      "Epoch [208/300] - Loss: 0.5253622531890869\n",
      "Epoch [209/300] - Loss: 0.5284174680709839\n",
      "Epoch [210/300] - Loss: 0.5235273241996765\n",
      "Epoch [211/300] - Loss: 0.5180475115776062\n",
      "Epoch [212/300] - Loss: 0.5279878973960876\n",
      "Epoch [213/300] - Loss: 0.5281451344490051\n",
      "Epoch [214/300] - Loss: 0.5217032432556152\n",
      "Epoch [215/300] - Loss: 0.5167317390441895\n",
      "Epoch [216/300] - Loss: 0.5172731876373291\n",
      "Epoch [217/300] - Loss: 0.5273132920265198\n",
      "Epoch [218/300] - Loss: 0.5202333331108093\n",
      "Epoch [219/300] - Loss: 0.5195819735527039\n",
      "Epoch [220/300] - Loss: 0.5992222428321838\n",
      "Epoch [221/300] - Loss: 0.5195732712745667\n",
      "Epoch [222/300] - Loss: 0.5279218554496765\n",
      "Epoch [223/300] - Loss: 0.5309750437736511\n",
      "Epoch [224/300] - Loss: 0.5224697589874268\n",
      "Epoch [225/300] - Loss: 0.5227594971656799\n",
      "Epoch [226/300] - Loss: 0.5185661315917969\n",
      "Epoch [227/300] - Loss: 0.5259363651275635\n",
      "Epoch [228/300] - Loss: 0.5216408371925354\n",
      "Epoch [229/300] - Loss: 0.5223641991615295\n",
      "Epoch [230/300] - Loss: 0.5211318731307983\n",
      "Epoch [231/300] - Loss: 0.5329103469848633\n",
      "Epoch [232/300] - Loss: 0.5277444124221802\n",
      "Epoch [233/300] - Loss: 0.5223944187164307\n",
      "Epoch [234/300] - Loss: 0.5354344844818115\n",
      "Epoch [235/300] - Loss: 0.5263402462005615\n",
      "Epoch [236/300] - Loss: 0.532534122467041\n",
      "Epoch [237/300] - Loss: 0.5334185361862183\n",
      "Epoch [238/300] - Loss: 0.5242651104927063\n",
      "Epoch [239/300] - Loss: 0.5236501097679138\n",
      "Epoch [240/300] - Loss: 0.5196702480316162\n",
      "Epoch [241/300] - Loss: 0.524461030960083\n",
      "Epoch [242/300] - Loss: 0.5190492868423462\n",
      "Epoch [243/300] - Loss: 0.5227439403533936\n",
      "Epoch [244/300] - Loss: 0.5179871916770935\n",
      "Epoch [245/300] - Loss: 0.5196983218193054\n",
      "Epoch [246/300] - Loss: 0.5196446180343628\n",
      "Epoch [247/300] - Loss: 0.5212711095809937\n",
      "Epoch [248/300] - Loss: 0.5176518559455872\n",
      "Epoch [249/300] - Loss: 0.5186658501625061\n",
      "Epoch [250/300] - Loss: 0.5174380540847778\n"
     ]
    },
    {
     "data": {
      "application/vnd.jupyter.widget-view+json": {
       "model_id": "2d1a7782b8ba41cf90b619f758546afb",
       "version_major": 2,
       "version_minor": 0
      },
      "text/plain": [
       "interactive(children=(IntSlider(value=22, description='i', max=111), Output()), _dom_classes=('widget-interact…"
      ]
     },
     "metadata": {},
     "output_type": "display_data"
    },
    {
     "name": "stdout",
     "output_type": "stream",
     "text": [
      "Epoch [251/300] - Loss: 0.5236950516700745\n",
      "Epoch [252/300] - Loss: 0.5055378675460815\n",
      "Epoch [253/300] - Loss: 0.42619454860687256\n",
      "Epoch [254/300] - Loss: 0.4600968360900879\n",
      "Epoch [255/300] - Loss: 0.4122934937477112\n",
      "Epoch [256/300] - Loss: 0.36706116795539856\n",
      "Epoch [257/300] - Loss: 0.4164271950721741\n",
      "Epoch [258/300] - Loss: 0.35074108839035034\n",
      "Epoch [259/300] - Loss: 0.3424909710884094\n",
      "Epoch [260/300] - Loss: 0.37129855155944824\n",
      "Epoch [261/300] - Loss: 0.3442804515361786\n",
      "Epoch [262/300] - Loss: 0.3476700186729431\n",
      "Epoch [263/300] - Loss: 0.32363831996917725\n",
      "Epoch [264/300] - Loss: 0.35175442695617676\n",
      "Epoch [265/300] - Loss: 0.3383238911628723\n",
      "Epoch [266/300] - Loss: 0.36266028881073\n",
      "Epoch [267/300] - Loss: 0.3395548462867737\n",
      "Epoch [268/300] - Loss: 0.3371674120426178\n",
      "Epoch [269/300] - Loss: 0.29415038228034973\n",
      "Epoch [270/300] - Loss: 0.30544155836105347\n",
      "Epoch [271/300] - Loss: 0.3182007968425751\n",
      "Epoch [272/300] - Loss: 0.3269559144973755\n",
      "Epoch [273/300] - Loss: 0.2873983085155487\n",
      "Epoch [274/300] - Loss: 0.2911919951438904\n",
      "Epoch [275/300] - Loss: 0.29041171073913574\n",
      "Epoch [276/300] - Loss: 0.2855905592441559\n",
      "Epoch [277/300] - Loss: 0.2769550681114197\n",
      "Epoch [278/300] - Loss: 0.2863686978816986\n",
      "Epoch [279/300] - Loss: 0.27619457244873047\n",
      "Epoch [280/300] - Loss: 0.26003676652908325\n",
      "Epoch [281/300] - Loss: 0.2752607762813568\n",
      "Epoch [282/300] - Loss: 0.2965421974658966\n",
      "Epoch [283/300] - Loss: 0.2418554574251175\n",
      "Epoch [284/300] - Loss: 0.24870559573173523\n",
      "Epoch [285/300] - Loss: 0.24019238352775574\n",
      "Epoch [286/300] - Loss: 0.30725014209747314\n",
      "Epoch [287/300] - Loss: 0.2555176913738251\n",
      "Epoch [288/300] - Loss: 0.23484289646148682\n",
      "Epoch [289/300] - Loss: 0.22699527442455292\n",
      "Epoch [290/300] - Loss: 0.21527522802352905\n",
      "Epoch [291/300] - Loss: 0.22573663294315338\n",
      "Epoch [292/300] - Loss: 0.23104150593280792\n",
      "Epoch [293/300] - Loss: 0.19888894259929657\n",
      "Epoch [294/300] - Loss: 0.20228920876979828\n",
      "Epoch [295/300] - Loss: 0.2374240905046463\n",
      "Epoch [296/300] - Loss: 0.19477595388889313\n",
      "Epoch [297/300] - Loss: 0.1921834498643875\n",
      "Epoch [298/300] - Loss: 0.1985226720571518\n",
      "Epoch [299/300] - Loss: 0.20254448056221008\n",
      "Epoch [300/300] - Loss: 0.17024700343608856\n",
      "Training complete.\n"
     ]
    },
    {
     "data": {
      "application/vnd.jupyter.widget-view+json": {
       "model_id": "3725b6c5c002494694bfdc862b884cce",
       "version_major": 2,
       "version_minor": 0
      },
      "text/plain": [
       "interactive(children=(IntSlider(value=22, description='i', max=111), Output()), _dom_classes=('widget-interact…"
      ]
     },
     "metadata": {},
     "output_type": "display_data"
    },
    {
     "name": "stdout",
     "output_type": "stream",
     "text": [
      "Tiempo de ejecución: 7538.9016189575195 segundos\n"
     ]
    }
   ],
   "source": [
    "num_epochs = 300\n",
    "loss_evolution_train = []\n",
    "count = 0\n",
    "inicio = time.time()\n",
    "for epoch in range(num_epochs):\n",
    "    \n",
    "    model.train()\n",
    "    for batch in train_dataloader:\n",
    "        inputs, targets = batch[0].to(device), batch[1].to(device)\n",
    "        optimizer.zero_grad()\n",
    "        outputs = model(inputs)\n",
    "        \n",
    "        out =  nn.functional.sigmoid(outputs)\n",
    "        # out = nn.functional.softmax(outputs, dim = 0)\n",
    "        \n",
    "        loss = dicefocall_loss_function(outputs, targets)\n",
    "        loss.backward()\n",
    "        \n",
    "        optimizer.step()\n",
    "        \n",
    "        # plot_results(inputs,targets,outputs)\n",
    "    loss_evolution_train.append(loss)\n",
    "    if count == 50:\n",
    "        plot_results(inputs,targets,out)\n",
    "        count = 0\n",
    "    print(f\"Epoch [{epoch + 1}/{num_epochs}] - Loss: {loss.item()}\")\n",
    "        \n",
    "    count = count + 1\n",
    "    \n",
    "\n",
    "print(\"Training complete.\")\n",
    "plot_results(inputs,targets,out)\n",
    "fin = time.time()\n",
    "\n",
    "# Calcula la diferencia\n",
    "tiempo_total = fin - inicio\n",
    "\n",
    "print(f\"Tiempo de ejecución: {tiempo_total} segundos\")"
   ]
  },
  {
   "cell_type": "code",
   "execution_count": null,
   "metadata": {},
   "outputs": [
    {
     "data": {
      "image/png": "[encoded data removed]",
      "text/plain": [
       "<Figure size 1000x500 with 1 Axes>"
      ]
     },
     "metadata": {},
     "output_type": "display_data"
    }
   ],
   "source": [
    "    \n",
    "loss_evolution_cpu = [tensor.cpu() for tensor in loss_evolution_train]  # Mover cada tensor a la CPU\n",
    "loss_evolution_numpy = [tensor.detach().numpy() for tensor in loss_evolution_cpu]  # Convertir cada tensor a un array de NumPy\n",
    "\n",
    "plot_loss_evolution(loss_evolution_numpy)"
   ]
  },
  {
   "cell_type": "code",
   "execution_count": null,
   "metadata": {},
   "outputs": [],
   "source": [
    "# Save the model's state_dict to a file\n",
    "# 'model.pth'\n",
    "torch.save(model.state_dict(), \"/home/paulagmtz/TFM_PAULA_24/DATA_TFM/models_result/ATTENTION_UNET_model_SIGMA2_300_sp_dicefocall_loss_low_resolution_1.pth\")\n"
   ]
  },
  {
   "cell_type": "code",
   "execution_count": null,
   "metadata": {},
   "outputs": [],
   "source": [
    "device = torch.device(\"cuda:1\" if torch.cuda.is_available() else \"cpu\")\n",
    "\n",
    "model = AttentionUnet(\n",
    "    spatial_dims=3 ,\n",
    "    in_channels=1,\n",
    "    out_channels=1,\n",
    "    channels=(64,128), \n",
    "    strides=(2,2),\n",
    "    # num_res_units=2,\n",
    "    # norm=Norm.BATCH,    \n",
    ").to(device)"
   ]
  },
  {
   "cell_type": "code",
   "execution_count": null,
   "metadata": {},
   "outputs": [
    {
     "name": "stdout",
     "output_type": "stream",
     "text": [
      "Epoch [1/300] - Loss: 1.7052018642425537\n",
      "Epoch [2/300] - Loss: 1.7052019834518433\n",
      "Epoch [3/300] - Loss: 1.7052018642425537\n",
      "Epoch [4/300] - Loss: 1.7052018642425537\n",
      "Epoch [5/300] - Loss: 1.7052018642425537\n",
      "Epoch [6/300] - Loss: 1.7052018642425537\n",
      "Epoch [7/300] - Loss: 1.7052018642425537\n",
      "Epoch [8/300] - Loss: 1.7052018642425537\n",
      "Epoch [9/300] - Loss: 1.7052018642425537\n",
      "Epoch [10/300] - Loss: 1.7052018642425537\n",
      "Epoch [11/300] - Loss: 1.7052018642425537\n",
      "Epoch [12/300] - Loss: 1.7052018642425537\n",
      "Epoch [13/300] - Loss: 1.7052018642425537\n",
      "Epoch [14/300] - Loss: 1.7052018642425537\n",
      "Epoch [15/300] - Loss: 1.7052018642425537\n",
      "Epoch [16/300] - Loss: 1.7052018642425537\n",
      "Epoch [17/300] - Loss: 1.7052018642425537\n",
      "Epoch [18/300] - Loss: 1.7052019834518433\n",
      "Epoch [19/300] - Loss: 1.7052018642425537\n",
      "Epoch [20/300] - Loss: 1.7052018642425537\n",
      "Epoch [21/300] - Loss: 1.7052018642425537\n",
      "Epoch [22/300] - Loss: 1.7052018642425537\n",
      "Epoch [23/300] - Loss: 1.7052018642425537\n",
      "Epoch [24/300] - Loss: 1.7052018642425537\n",
      "Epoch [25/300] - Loss: 1.7052018642425537\n",
      "Epoch [26/300] - Loss: 1.7052018642425537\n",
      "Epoch [27/300] - Loss: 1.7052018642425537\n",
      "Epoch [28/300] - Loss: 1.7052018642425537\n",
      "Epoch [29/300] - Loss: 1.7052018642425537\n",
      "Epoch [30/300] - Loss: 1.7052018642425537\n",
      "Epoch [31/300] - Loss: 1.7052018642425537\n",
      "Epoch [32/300] - Loss: 1.7052018642425537\n",
      "Epoch [33/300] - Loss: 1.7052018642425537\n",
      "Epoch [34/300] - Loss: 1.7052018642425537\n",
      "Epoch [35/300] - Loss: 1.7052018642425537\n",
      "Epoch [36/300] - Loss: 1.7052019834518433\n",
      "Epoch [37/300] - Loss: 1.7052018642425537\n",
      "Epoch [38/300] - Loss: 1.7052018642425537\n",
      "Epoch [39/300] - Loss: 1.7052018642425537\n",
      "Epoch [40/300] - Loss: 1.7052018642425537\n",
      "Epoch [41/300] - Loss: 1.7052018642425537\n",
      "Epoch [42/300] - Loss: 1.7052018642425537\n",
      "Epoch [43/300] - Loss: 1.7052018642425537\n",
      "Epoch [44/300] - Loss: 1.7052018642425537\n",
      "Epoch [45/300] - Loss: 1.7052018642425537\n",
      "Epoch [46/300] - Loss: 1.7052018642425537\n",
      "Epoch [47/300] - Loss: 1.7052018642425537\n",
      "Epoch [48/300] - Loss: 1.7052018642425537\n",
      "Epoch [49/300] - Loss: 1.7052018642425537\n",
      "Epoch [50/300] - Loss: 1.7052019834518433\n"
     ]
    },
    {
     "data": {
      "application/vnd.jupyter.widget-view+json": {
       "model_id": "d6c2375510214a5fb40515ccfbc02657",
       "version_major": 2,
       "version_minor": 0
      },
      "text/plain": [
       "interactive(children=(IntSlider(value=22, description='i', max=111), Output()), _dom_classes=('widget-interact…"
      ]
     },
     "metadata": {},
     "output_type": "display_data"
    },
    {
     "name": "stdout",
     "output_type": "stream",
     "text": [
      "Epoch [51/300] - Loss: 1.7052018642425537\n",
      "Epoch [52/300] - Loss: 1.7052018642425537\n",
      "Epoch [53/300] - Loss: 1.7052018642425537\n",
      "Epoch [54/300] - Loss: 1.7052018642425537\n",
      "Epoch [55/300] - Loss: 1.7052018642425537\n",
      "Epoch [56/300] - Loss: 1.7052018642425537\n",
      "Epoch [57/300] - Loss: 1.7052018642425537\n",
      "Epoch [58/300] - Loss: 1.7052018642425537\n",
      "Epoch [59/300] - Loss: 1.7052018642425537\n",
      "Epoch [60/300] - Loss: 1.7052018642425537\n",
      "Epoch [61/300] - Loss: 1.7052018642425537\n",
      "Epoch [62/300] - Loss: 1.7052018642425537\n",
      "Epoch [63/300] - Loss: 1.7052019834518433\n",
      "Epoch [64/300] - Loss: 1.7052018642425537\n",
      "Epoch [65/300] - Loss: 1.7052018642425537\n",
      "Epoch [66/300] - Loss: 1.7052018642425537\n",
      "Epoch [67/300] - Loss: 1.7052018642425537\n",
      "Epoch [68/300] - Loss: 1.7052018642425537\n",
      "Epoch [69/300] - Loss: 1.7052018642425537\n",
      "Epoch [70/300] - Loss: 1.7052018642425537\n",
      "Epoch [71/300] - Loss: 1.7052018642425537\n",
      "Epoch [72/300] - Loss: 1.7052018642425537\n",
      "Epoch [73/300] - Loss: 1.7052018642425537\n",
      "Epoch [74/300] - Loss: 1.7052018642425537\n",
      "Epoch [75/300] - Loss: 1.7052018642425537\n",
      "Epoch [76/300] - Loss: 1.7052018642425537\n",
      "Epoch [77/300] - Loss: 1.7052018642425537\n",
      "Epoch [78/300] - Loss: 1.7052018642425537\n",
      "Epoch [79/300] - Loss: 1.7052018642425537\n",
      "Epoch [80/300] - Loss: 1.7052018642425537\n",
      "Epoch [81/300] - Loss: 1.7052018642425537\n",
      "Epoch [82/300] - Loss: 1.7052018642425537\n",
      "Epoch [83/300] - Loss: 1.7052018642425537\n",
      "Epoch [84/300] - Loss: 1.7052018642425537\n",
      "Epoch [85/300] - Loss: 1.7052018642425537\n",
      "Epoch [86/300] - Loss: 1.7052018642425537\n",
      "Epoch [87/300] - Loss: 1.7052018642425537\n",
      "Epoch [88/300] - Loss: 1.7052018642425537\n",
      "Epoch [89/300] - Loss: 1.7052018642425537\n",
      "Epoch [90/300] - Loss: 1.7052018642425537\n",
      "Epoch [91/300] - Loss: 1.7052018642425537\n",
      "Epoch [92/300] - Loss: 1.7052018642425537\n",
      "Epoch [93/300] - Loss: 1.7052018642425537\n",
      "Epoch [94/300] - Loss: 1.7052019834518433\n",
      "Epoch [95/300] - Loss: 1.7052018642425537\n",
      "Epoch [96/300] - Loss: 1.7052018642425537\n",
      "Epoch [97/300] - Loss: 1.7052018642425537\n",
      "Epoch [98/300] - Loss: 1.7052018642425537\n",
      "Epoch [99/300] - Loss: 1.7052018642425537\n",
      "Epoch [100/300] - Loss: 1.7052018642425537\n"
     ]
    },
    {
     "data": {
      "application/vnd.jupyter.widget-view+json": {
       "model_id": "24e305a9004f485ca1c87f1b252c7290",
       "version_major": 2,
       "version_minor": 0
      },
      "text/plain": [
       "interactive(children=(IntSlider(value=22, description='i', max=111), Output()), _dom_classes=('widget-interact…"
      ]
     },
     "metadata": {},
     "output_type": "display_data"
    },
    {
     "name": "stdout",
     "output_type": "stream",
     "text": [
      "Epoch [101/300] - Loss: 1.7052018642425537\n",
      "Epoch [102/300] - Loss: 1.7052018642425537\n",
      "Epoch [103/300] - Loss: 1.7052018642425537\n",
      "Epoch [104/300] - Loss: 1.7052018642425537\n",
      "Epoch [105/300] - Loss: 1.7052018642425537\n",
      "Epoch [106/300] - Loss: 1.7052018642425537\n",
      "Epoch [107/300] - Loss: 1.7052018642425537\n",
      "Epoch [108/300] - Loss: 1.7052018642425537\n",
      "Epoch [109/300] - Loss: 1.7052018642425537\n",
      "Epoch [110/300] - Loss: 1.7052018642425537\n",
      "Epoch [111/300] - Loss: 1.7052018642425537\n",
      "Epoch [112/300] - Loss: 1.7052018642425537\n",
      "Epoch [113/300] - Loss: 1.7052018642425537\n",
      "Epoch [114/300] - Loss: 1.7052018642425537\n",
      "Epoch [115/300] - Loss: 1.7052018642425537\n",
      "Epoch [116/300] - Loss: 1.7052018642425537\n",
      "Epoch [117/300] - Loss: 1.7052018642425537\n",
      "Epoch [118/300] - Loss: 1.7052018642425537\n",
      "Epoch [119/300] - Loss: 1.7052018642425537\n",
      "Epoch [120/300] - Loss: 1.7052018642425537\n",
      "Epoch [121/300] - Loss: 1.7052018642425537\n",
      "Epoch [122/300] - Loss: 1.7052018642425537\n",
      "Epoch [123/300] - Loss: 1.7052018642425537\n",
      "Epoch [124/300] - Loss: 1.7052018642425537\n",
      "Epoch [125/300] - Loss: 1.7052018642425537\n",
      "Epoch [126/300] - Loss: 1.7052018642425537\n",
      "Epoch [127/300] - Loss: 1.7052018642425537\n",
      "Epoch [128/300] - Loss: 1.7052018642425537\n",
      "Epoch [129/300] - Loss: 1.7052018642425537\n",
      "Epoch [130/300] - Loss: 1.7052018642425537\n",
      "Epoch [131/300] - Loss: 1.7052018642425537\n",
      "Epoch [132/300] - Loss: 1.7052018642425537\n",
      "Epoch [133/300] - Loss: 1.7052019834518433\n",
      "Epoch [134/300] - Loss: 1.7052018642425537\n",
      "Epoch [135/300] - Loss: 1.7052018642425537\n",
      "Epoch [136/300] - Loss: 1.7052018642425537\n",
      "Epoch [137/300] - Loss: 1.7052018642425537\n",
      "Epoch [138/300] - Loss: 1.7052018642425537\n",
      "Epoch [139/300] - Loss: 1.7052018642425537\n",
      "Epoch [140/300] - Loss: 1.7052018642425537\n",
      "Epoch [141/300] - Loss: 1.7052018642425537\n",
      "Epoch [142/300] - Loss: 1.7052018642425537\n",
      "Epoch [143/300] - Loss: 1.7052018642425537\n",
      "Epoch [144/300] - Loss: 1.7052018642425537\n",
      "Epoch [145/300] - Loss: 1.7052018642425537\n",
      "Epoch [146/300] - Loss: 1.7052018642425537\n",
      "Epoch [147/300] - Loss: 1.7052018642425537\n",
      "Epoch [148/300] - Loss: 1.7052018642425537\n",
      "Epoch [149/300] - Loss: 1.7052018642425537\n",
      "Epoch [150/300] - Loss: 1.7052018642425537\n"
     ]
    },
    {
     "data": {
      "application/vnd.jupyter.widget-view+json": {
       "model_id": "e1720050a8a248eeabfdbca1e7ab2aca",
       "version_major": 2,
       "version_minor": 0
      },
      "text/plain": [
       "interactive(children=(IntSlider(value=22, description='i', max=111), Output()), _dom_classes=('widget-interact…"
      ]
     },
     "metadata": {},
     "output_type": "display_data"
    },
    {
     "name": "stdout",
     "output_type": "stream",
     "text": [
      "Epoch [151/300] - Loss: 1.7052018642425537\n",
      "Epoch [152/300] - Loss: 1.7052018642425537\n",
      "Epoch [153/300] - Loss: 1.7052018642425537\n",
      "Epoch [154/300] - Loss: 1.7052018642425537\n",
      "Epoch [155/300] - Loss: 1.7052018642425537\n",
      "Epoch [156/300] - Loss: 1.7052018642425537\n",
      "Epoch [157/300] - Loss: 1.7052018642425537\n",
      "Epoch [158/300] - Loss: 1.7052018642425537\n",
      "Epoch [159/300] - Loss: 1.7052018642425537\n",
      "Epoch [160/300] - Loss: 1.7052018642425537\n",
      "Epoch [161/300] - Loss: 1.7052018642425537\n",
      "Epoch [162/300] - Loss: 1.7052018642425537\n",
      "Epoch [163/300] - Loss: 1.7052018642425537\n",
      "Epoch [164/300] - Loss: 1.7052018642425537\n",
      "Epoch [165/300] - Loss: 1.7052018642425537\n",
      "Epoch [166/300] - Loss: 1.7052018642425537\n",
      "Epoch [167/300] - Loss: 1.7052018642425537\n",
      "Epoch [168/300] - Loss: 1.7052018642425537\n",
      "Epoch [169/300] - Loss: 1.7052018642425537\n",
      "Epoch [170/300] - Loss: 1.7052018642425537\n",
      "Epoch [171/300] - Loss: 1.7052018642425537\n",
      "Epoch [172/300] - Loss: 1.7052018642425537\n",
      "Epoch [173/300] - Loss: 1.7052018642425537\n",
      "Epoch [174/300] - Loss: 1.7052018642425537\n",
      "Epoch [175/300] - Loss: 1.7052018642425537\n",
      "Epoch [176/300] - Loss: 1.7052018642425537\n",
      "Epoch [177/300] - Loss: 1.7052018642425537\n",
      "Epoch [178/300] - Loss: 1.7052018642425537\n",
      "Epoch [179/300] - Loss: 1.7052018642425537\n",
      "Epoch [180/300] - Loss: 1.7052018642425537\n",
      "Epoch [181/300] - Loss: 1.7052018642425537\n",
      "Epoch [182/300] - Loss: 1.7052018642425537\n",
      "Epoch [183/300] - Loss: 1.7052018642425537\n",
      "Epoch [184/300] - Loss: 1.7052018642425537\n",
      "Epoch [185/300] - Loss: 1.7052018642425537\n",
      "Epoch [186/300] - Loss: 1.7052018642425537\n",
      "Epoch [187/300] - Loss: 1.7052018642425537\n",
      "Epoch [188/300] - Loss: 1.7052018642425537\n",
      "Epoch [189/300] - Loss: 1.7052018642425537\n",
      "Epoch [190/300] - Loss: 1.7052018642425537\n",
      "Epoch [191/300] - Loss: 1.7052018642425537\n",
      "Epoch [192/300] - Loss: 1.7052018642425537\n",
      "Epoch [193/300] - Loss: 1.7052018642425537\n",
      "Epoch [194/300] - Loss: 1.7052018642425537\n",
      "Epoch [195/300] - Loss: 1.7052018642425537\n",
      "Epoch [196/300] - Loss: 1.7052018642425537\n",
      "Epoch [197/300] - Loss: 1.7052018642425537\n",
      "Epoch [198/300] - Loss: 1.7052018642425537\n",
      "Epoch [199/300] - Loss: 1.7052018642425537\n",
      "Epoch [200/300] - Loss: 1.7052018642425537\n"
     ]
    },
    {
     "data": {
      "application/vnd.jupyter.widget-view+json": {
       "model_id": "3fc8ebeeddba431db7a4104770e56e54",
       "version_major": 2,
       "version_minor": 0
      },
      "text/plain": [
       "interactive(children=(IntSlider(value=22, description='i', max=111), Output()), _dom_classes=('widget-interact…"
      ]
     },
     "metadata": {},
     "output_type": "display_data"
    },
    {
     "name": "stdout",
     "output_type": "stream",
     "text": [
      "Epoch [201/300] - Loss: 1.7052018642425537\n",
      "Epoch [202/300] - Loss: 1.7052018642425537\n",
      "Epoch [203/300] - Loss: 1.7052018642425537\n",
      "Epoch [204/300] - Loss: 1.7052018642425537\n",
      "Epoch [205/300] - Loss: 1.7052018642425537\n",
      "Epoch [206/300] - Loss: 1.7052018642425537\n",
      "Epoch [207/300] - Loss: 1.7052018642425537\n",
      "Epoch [208/300] - Loss: 1.7052018642425537\n",
      "Epoch [209/300] - Loss: 1.7052018642425537\n",
      "Epoch [210/300] - Loss: 1.7052018642425537\n",
      "Epoch [211/300] - Loss: 1.7052018642425537\n",
      "Epoch [212/300] - Loss: 1.7052018642425537\n",
      "Epoch [213/300] - Loss: 1.7052018642425537\n",
      "Epoch [214/300] - Loss: 1.7052018642425537\n",
      "Epoch [215/300] - Loss: 1.7052018642425537\n",
      "Epoch [216/300] - Loss: 1.7052018642425537\n",
      "Epoch [217/300] - Loss: 1.7052018642425537\n",
      "Epoch [218/300] - Loss: 1.7052018642425537\n",
      "Epoch [219/300] - Loss: 1.7052018642425537\n",
      "Epoch [220/300] - Loss: 1.7052018642425537\n",
      "Epoch [221/300] - Loss: 1.7052018642425537\n",
      "Epoch [222/300] - Loss: 1.7052018642425537\n",
      "Epoch [223/300] - Loss: 1.7052018642425537\n",
      "Epoch [224/300] - Loss: 1.7052018642425537\n",
      "Epoch [225/300] - Loss: 1.7052018642425537\n",
      "Epoch [226/300] - Loss: 1.7052018642425537\n",
      "Epoch [227/300] - Loss: 1.7052018642425537\n",
      "Epoch [228/300] - Loss: 1.7052018642425537\n",
      "Epoch [229/300] - Loss: 1.7052018642425537\n",
      "Epoch [230/300] - Loss: 1.7052018642425537\n",
      "Epoch [231/300] - Loss: 1.7052018642425537\n",
      "Epoch [232/300] - Loss: 1.7052018642425537\n",
      "Epoch [233/300] - Loss: 1.7052018642425537\n",
      "Epoch [234/300] - Loss: 1.7052018642425537\n",
      "Epoch [235/300] - Loss: 1.7052018642425537\n",
      "Epoch [236/300] - Loss: 1.7052018642425537\n",
      "Epoch [237/300] - Loss: 1.7052019834518433\n",
      "Epoch [238/300] - Loss: 1.7052018642425537\n",
      "Epoch [239/300] - Loss: 1.7052018642425537\n",
      "Epoch [240/300] - Loss: 1.7052018642425537\n",
      "Epoch [241/300] - Loss: 1.7052018642425537\n",
      "Epoch [242/300] - Loss: 1.7052018642425537\n",
      "Epoch [243/300] - Loss: 1.7052018642425537\n",
      "Epoch [244/300] - Loss: 1.7052018642425537\n",
      "Epoch [245/300] - Loss: 1.7052018642425537\n",
      "Epoch [246/300] - Loss: 1.7052018642425537\n",
      "Epoch [247/300] - Loss: 1.7052019834518433\n",
      "Epoch [248/300] - Loss: 1.7052018642425537\n",
      "Epoch [249/300] - Loss: 1.7052018642425537\n",
      "Epoch [250/300] - Loss: 1.7052018642425537\n"
     ]
    },
    {
     "data": {
      "application/vnd.jupyter.widget-view+json": {
       "model_id": "1851422083674049ac0a26b8a07d34fe",
       "version_major": 2,
       "version_minor": 0
      },
      "text/plain": [
       "interactive(children=(IntSlider(value=22, description='i', max=111), Output()), _dom_classes=('widget-interact…"
      ]
     },
     "metadata": {},
     "output_type": "display_data"
    },
    {
     "name": "stdout",
     "output_type": "stream",
     "text": [
      "Epoch [251/300] - Loss: 1.7052018642425537\n",
      "Epoch [252/300] - Loss: 1.7052018642425537\n",
      "Epoch [253/300] - Loss: 1.7052018642425537\n",
      "Epoch [254/300] - Loss: 1.7052018642425537\n",
      "Epoch [255/300] - Loss: 1.7052018642425537\n",
      "Epoch [256/300] - Loss: 1.7052018642425537\n",
      "Epoch [257/300] - Loss: 1.7052018642425537\n",
      "Epoch [258/300] - Loss: 1.7052018642425537\n",
      "Epoch [259/300] - Loss: 1.7052018642425537\n",
      "Epoch [260/300] - Loss: 1.7052018642425537\n",
      "Epoch [261/300] - Loss: 1.7052018642425537\n",
      "Epoch [262/300] - Loss: 1.7052018642425537\n",
      "Epoch [263/300] - Loss: 1.7052018642425537\n",
      "Epoch [264/300] - Loss: 1.7052018642425537\n",
      "Epoch [265/300] - Loss: 1.7052018642425537\n",
      "Epoch [266/300] - Loss: 1.7052018642425537\n",
      "Epoch [267/300] - Loss: 1.7052018642425537\n",
      "Epoch [268/300] - Loss: 1.7052018642425537\n",
      "Epoch [269/300] - Loss: 1.7052018642425537\n",
      "Epoch [270/300] - Loss: 1.7052018642425537\n",
      "Epoch [271/300] - Loss: 1.7052018642425537\n",
      "Epoch [272/300] - Loss: 1.7052018642425537\n",
      "Epoch [273/300] - Loss: 1.7052018642425537\n",
      "Epoch [274/300] - Loss: 1.7052018642425537\n",
      "Epoch [275/300] - Loss: 1.7052018642425537\n",
      "Epoch [276/300] - Loss: 1.7052018642425537\n",
      "Epoch [277/300] - Loss: 1.7052018642425537\n",
      "Epoch [278/300] - Loss: 1.7052018642425537\n",
      "Epoch [279/300] - Loss: 1.7052018642425537\n",
      "Epoch [280/300] - Loss: 1.7052018642425537\n",
      "Epoch [281/300] - Loss: 1.7052018642425537\n",
      "Epoch [282/300] - Loss: 1.7052018642425537\n",
      "Epoch [283/300] - Loss: 1.7052018642425537\n",
      "Epoch [284/300] - Loss: 1.7052018642425537\n",
      "Epoch [285/300] - Loss: 1.7052018642425537\n",
      "Epoch [286/300] - Loss: 1.7052018642425537\n",
      "Epoch [287/300] - Loss: 1.7052018642425537\n",
      "Epoch [288/300] - Loss: 1.7052018642425537\n",
      "Epoch [289/300] - Loss: 1.7052018642425537\n",
      "Epoch [290/300] - Loss: 1.7052018642425537\n",
      "Epoch [291/300] - Loss: 1.7052018642425537\n",
      "Epoch [292/300] - Loss: 1.7052018642425537\n",
      "Epoch [293/300] - Loss: 1.7052018642425537\n",
      "Epoch [294/300] - Loss: 1.7052018642425537\n",
      "Epoch [295/300] - Loss: 1.7052018642425537\n",
      "Epoch [296/300] - Loss: 1.7052018642425537\n",
      "Epoch [297/300] - Loss: 1.7052018642425537\n",
      "Epoch [298/300] - Loss: 1.7052018642425537\n",
      "Epoch [299/300] - Loss: 1.7052018642425537\n",
      "Epoch [300/300] - Loss: 1.7052018642425537\n",
      "Training complete.\n"
     ]
    },
    {
     "data": {
      "application/vnd.jupyter.widget-view+json": {
       "model_id": "8ceea31e58b54bccb9c6a6c193841e9e",
       "version_major": 2,
       "version_minor": 0
      },
      "text/plain": [
       "interactive(children=(IntSlider(value=22, description='i', max=111), Output()), _dom_classes=('widget-interact…"
      ]
     },
     "metadata": {},
     "output_type": "display_data"
    },
    {
     "name": "stdout",
     "output_type": "stream",
     "text": [
      "Tiempo de ejecución: 7529.642948150635 segundos\n"
     ]
    }
   ],
   "source": [
    "num_epochs = 300\n",
    "loss_evolution_train = []\n",
    "count = 0\n",
    "inicio = time.time()\n",
    "for epoch in range(num_epochs):\n",
    "    \n",
    "    model.train()\n",
    "    for batch in train_dataloader:\n",
    "        inputs, targets = batch[0].to(device), batch[1].to(device)\n",
    "        optimizer.zero_grad()\n",
    "        outputs = model(inputs)\n",
    "        \n",
    "        out =  nn.functional.sigmoid(outputs)\n",
    "        # out = nn.functional.softmax(outputs, dim = 0)\n",
    "        \n",
    "        loss = diceCE_loss_function(outputs, targets)\n",
    "        loss.backward()\n",
    "        \n",
    "        optimizer.step()\n",
    "        \n",
    "        # plot_results(inputs,targets,outputs)\n",
    "    loss_evolution_train.append(loss)\n",
    "    if count == 50:\n",
    "        plot_results(inputs,targets,out)\n",
    "        count = 0\n",
    "    print(f\"Epoch [{epoch + 1}/{num_epochs}] - Loss: {loss.item()}\")\n",
    "        \n",
    "    count = count + 1\n",
    "    \n",
    "\n",
    "print(\"Training complete.\")\n",
    "plot_results(inputs,targets,out)\n",
    "fin = time.time()\n",
    "\n",
    "# Calcula la diferencia\n",
    "tiempo_total = fin - inicio\n",
    "\n",
    "print(f\"Tiempo de ejecución: {tiempo_total} segundos\")"
   ]
  },
  {
   "cell_type": "code",
   "execution_count": null,
   "metadata": {},
   "outputs": [],
   "source": [
    "# Save the model's state_dict to a file\n",
    "# 'model.pth'\n",
    "torch.save(model.state_dict(), \"/home/paulagmtz/TFM_PAULA_24/DATA_TFM/models_result/ATTENTION_UNET_model_SIGMA2_300_sp_diceCE_loss_low_resolution_1.pth\")\n"
   ]
  },
  {
   "cell_type": "markdown",
   "metadata": {},
   "source": [
    "# EVALUATION UNET MULTILABEL"
   ]
  },
  {
   "cell_type": "code",
   "execution_count": 17,
   "metadata": {},
   "outputs": [],
   "source": [
    "#%%\n",
    "import torch\n",
    "import torch.optim as optim\n",
    "from torch.utils.data import DataLoader\n",
    "import matplotlib.pyplot as plt\n",
    "from UNETR import UNETR  \n",
    "from dataset import PelvisDataset  \n",
    "import monai\n",
    "from monai.losses import DiceLoss \n",
    "from monai.metrics import MSEMetric \n",
    "from torchmetrics import Accuracy\n",
    "from monai.metrics import DiceMetric\n",
    "\n",
    "# Función para cargar el modelo y realizar la validación\n",
    "\n",
    "\n",
    "def euclidean_distance(predictions, targets):\n",
    "    # print(predictions)\n",
    "    # print(targets)\n",
    "    # print(predictions.shape)\n",
    "    # print(targets.shape)\n",
    "    \n",
    "    # Aplanar los tensores\n",
    "    predictions_flat = predictions.view(2, -1)\n",
    "    targets_flat = targets.view(2, -1)\n",
    "    dist = torch.norm(targets_flat-predictions_flat,dim=1)\n",
    "    return dist\n",
    "def validate_model(model, dataloader, device, save_output_folder):\n",
    "    model.eval()  # Modo de evaluación\n",
    "\n",
    "    # Definir la función de pérdida\n",
    "    loss_function = DiceLoss(sigmoid=True, squared_pred=True)\n",
    "\n",
    "    # Variables para almacenar la evolución de la métrica\n",
    "    metric_history = []\n",
    "    loss_evolution = []\n",
    "    \n",
    "    accuracy_evolution = []\n",
    "\n",
    "    with torch.no_grad():\n",
    "        for batch in dataloader:\n",
    "            inputs, targets= batch[0].to(device), batch[1].to(device)\n",
    "            im_name = batch[2]\n",
    "            print(str(im_name))\n",
    "            im_name = str(im_name).strip(\"'[]\")\n",
    "            print(im_name)\n",
    "            # Realizar predicciones\n",
    "            outputs = model(inputs)\n",
    "            out =  nn.functional.sigmoid(outputs)\n",
    "\n",
    "            # Calcular la pérdida\n",
    "            loss = loss_function(outputs, targets)\n",
    "            \n",
    "            accuracy = Accuracy(task=\"multiclass\", num_classes=7).to(device)\n",
    "            acc = accuracy(out, targets)\n",
    "            # dice = DiceMetric(outputs, targets)\n",
    "            out_array = out.cpu().detach().numpy()\n",
    "            out_image = sitk.GetImageFromArray(out_array)\n",
    "            sitk.WriteImage(out_image, save_output_folder + str(im_name))\n",
    "            # caluclar la distancia euclidea\n",
    "            dist = euclidean_distance(out, targets)\n",
    "            # Guardar la métrica\n",
    "            loss_evolution.append(loss.item())\n",
    "            metric_history.append(dist)\n",
    "            accuracy_evolution.append(acc)\n",
    "\n",
    "            # Mostrar imágenes de inputs, targets y outputs\n",
    "            plot_multilabel_results(inputs, targets, out)\n",
    "\n",
    "    # Calcular la métrica promedio\n",
    "    average_metric = sum(metric_history) / len(metric_history)\n",
    "    average_accuracy = sum(accuracy_evolution)/(len(accuracy_evolution))\n",
    "    print(f'Average Metric: {average_metric}')\n",
    "    print(f'Average ACCURACY: {average_accuracy}')\n",
    "    # loss_evolution_cpu = [tensor.cpu() for tensor in loss_evolution]  # Mover cada tensor a la CPU\n",
    "    # loss_evolution_numpy = [tensor.detach().numpy() for tensor in loss_evolution]  # Convertir cada tensor a un array de NumPy\n",
    "    # loss_evolution_numpy = [tensor.numpy() for tensor in loss_evolution]\n",
    "    plot_loss_evolution(loss_evolution)\n",
    "\n",
    "\n",
    "    # Guardar la evolución de la métrica en un archivo (por ejemplo, un archivo de texto)\n",
    "    with open(\"metric_history.txt\", \"w\") as f:\n",
    "        for metric in metric_history:\n",
    "            f.write(f\"{metric}\\n\")\n",
    "    return loss_evolution, average_metric, average_accuracy\n",
    "\n",
    "# Función para mostrar imágenes de inputs, targets y outputs\n",
    "def plot_results(inputs, targets, outputs):\n",
    "    depth_slice = inputs[:, :, :, :, :]\n",
    "    depth_slice_target = targets[:, :, :, :, :]\n",
    "    depth_slice_outputs = outputs[:, :, :, :, :]\n",
    "\n",
    "    def plot_image(i):\n",
    "        fig, axes = plt.subplots(1, 3, figsize=(10, 5))\n",
    "\n",
    "        image_array = depth_slice[0, :, i, :, :].cpu().detach().numpy()\n",
    "        image_array_target = depth_slice_target[0, :, i, :, :].cpu().detach().numpy()\n",
    "        image_array_outputs = depth_slice_outputs[0, :, i, :, :].cpu().detach().numpy()\n",
    "    \n",
    "    # Perform connected components labeling on the thresholded segmentation    \n",
    "        # out_im = sitk.GetImageFromArray(image_array_outputs)\n",
    "        \n",
    "        im_arr = image_array_outputs\n",
    "        class_segmentation = im_arr.astype(np.uint8)\n",
    "\n",
    "        \n",
    "        labeled, num_features = label(class_segmentation)\n",
    "\n",
    "        # Filter out small components (adjust the minimum size as needed)\n",
    "\n",
    "        max_size = 0\n",
    "        max_component = 0\n",
    "        for label_value in range(1, num_features + 1):\n",
    "            component_mask = (labeled == label_value).astype(np.float32)\n",
    "            component_size = component_mask.sum()\n",
    "            print('component_mask', component_mask)\n",
    "            if component_size > max_size:\n",
    "                max_size = component_size \n",
    "                max_component = component_mask\n",
    "                print('entro')\n",
    "\n",
    "        image_array_outputs = max_component\n",
    "\n",
    "        \n",
    "        \n",
    "        \n",
    "        \n",
    "\n",
    "        axes[0].imshow(image_array[0, :, :], cmap=\"gray\")\n",
    "        axes[0].set_title(\"inputs\")\n",
    "        axes[0].axis('off')\n",
    "\n",
    "        axes[1].imshow(image_array_target[0, :, :], cmap=\"gray\")\n",
    "        axes[1].set_title(\"target\")\n",
    "        axes[1].axis('off')\n",
    "\n",
    "        axes[2].imshow(image_array_outputs[0, :, :], cmap=\"gray\")\n",
    "        axes[2].set_title(\"output\")\n",
    "        axes[2].axis('off')\n",
    "\n",
    "        plt.show()\n",
    "\n",
    "    widgets.interact(plot_image, i=widgets.IntSlider(min=0, max=depth_slice.shape[2]-1, step=1, value=22))\n",
    "\n",
    "    \n",
    "    \n"
   ]
  },
  {
   "cell_type": "code",
   "execution_count": 18,
   "metadata": {},
   "outputs": [
    {
     "name": "stdout",
     "output_type": "stream",
     "text": [
      "['P_10253637_ANTROP.nrrd']\n",
      "P_10253637_ANTROP.nrrd\n"
     ]
    },
    {
     "data": {
      "application/vnd.jupyter.widget-view+json": {
       "model_id": "c14c04c331a445a2882fcefb52aaa2fe",
       "version_major": 2,
       "version_minor": 0
      },
      "text/plain": [
       "interactive(children=(IntSlider(value=22, description='i', max=111), Output()), _dom_classes=('widget-interact…"
      ]
     },
     "metadata": {},
     "output_type": "display_data"
    },
    {
     "name": "stdout",
     "output_type": "stream",
     "text": [
      "['P_10265450_ANTROP.nrrd']\n",
      "P_10265450_ANTROP.nrrd\n"
     ]
    },
    {
     "data": {
      "application/vnd.jupyter.widget-view+json": {
       "model_id": "d03e533acc0f4ce188a7417da20f7918",
       "version_major": 2,
       "version_minor": 0
      },
      "text/plain": [
       "interactive(children=(IntSlider(value=22, description='i', max=111), Output()), _dom_classes=('widget-interact…"
      ]
     },
     "metadata": {},
     "output_type": "display_data"
    },
    {
     "name": "stdout",
     "output_type": "stream",
     "text": [
      "['P_1059692_ANTROP.nrrd']\n",
      "P_1059692_ANTROP.nrrd\n"
     ]
    },
    {
     "data": {
      "application/vnd.jupyter.widget-view+json": {
       "model_id": "f0c20b52bf66419f8195e515832fdf5a",
       "version_major": 2,
       "version_minor": 0
      },
      "text/plain": [
       "interactive(children=(IntSlider(value=22, description='i', max=111), Output()), _dom_classes=('widget-interact…"
      ]
     },
     "metadata": {},
     "output_type": "display_data"
    },
    {
     "name": "stdout",
     "output_type": "stream",
     "text": [
      "['P_10643160_ANTROP.nrrd']\n",
      "P_10643160_ANTROP.nrrd\n"
     ]
    },
    {
     "data": {
      "application/vnd.jupyter.widget-view+json": {
       "model_id": "101a8114ac8342b8a534d4fc06ef85ee",
       "version_major": 2,
       "version_minor": 0
      },
      "text/plain": [
       "interactive(children=(IntSlider(value=22, description='i', max=111), Output()), _dom_classes=('widget-interact…"
      ]
     },
     "metadata": {},
     "output_type": "display_data"
    },
    {
     "name": "stdout",
     "output_type": "stream",
     "text": [
      "['P_2043819_ANDRO.nrrd']\n",
      "P_2043819_ANDRO.nrrd\n"
     ]
    },
    {
     "data": {
      "application/vnd.jupyter.widget-view+json": {
       "model_id": "992ef75f0f79423cbd9ecc1272342104",
       "version_major": 2,
       "version_minor": 0
      },
      "text/plain": [
       "interactive(children=(IntSlider(value=22, description='i', max=111), Output()), _dom_classes=('widget-interact…"
      ]
     },
     "metadata": {},
     "output_type": "display_data"
    },
    {
     "name": "stdout",
     "output_type": "stream",
     "text": [
      "['P_2089803_GIN.nrrd']\n",
      "P_2089803_GIN.nrrd\n"
     ]
    },
    {
     "data": {
      "application/vnd.jupyter.widget-view+json": {
       "model_id": "30adbc203b384e8393a461a9adefdfcd",
       "version_major": 2,
       "version_minor": 0
      },
      "text/plain": [
       "interactive(children=(IntSlider(value=22, description='i', max=111), Output()), _dom_classes=('widget-interact…"
      ]
     },
     "metadata": {},
     "output_type": "display_data"
    },
    {
     "name": "stdout",
     "output_type": "stream",
     "text": [
      "['P_2146763_GIN.nrrd']\n",
      "P_2146763_GIN.nrrd\n"
     ]
    },
    {
     "data": {
      "application/vnd.jupyter.widget-view+json": {
       "model_id": "3d5efd0f1b92432fa956c0c26517356c",
       "version_major": 2,
       "version_minor": 0
      },
      "text/plain": [
       "interactive(children=(IntSlider(value=22, description='i', max=111), Output()), _dom_classes=('widget-interact…"
      ]
     },
     "metadata": {},
     "output_type": "display_data"
    },
    {
     "name": "stdout",
     "output_type": "stream",
     "text": [
      "['P_2196069_ANTROP.nrrd']\n",
      "P_2196069_ANTROP.nrrd\n"
     ]
    },
    {
     "data": {
      "application/vnd.jupyter.widget-view+json": {
       "model_id": "b75e5c1dfe1b4cc69a94d2396a50ab85",
       "version_major": 2,
       "version_minor": 0
      },
      "text/plain": [
       "interactive(children=(IntSlider(value=22, description='i', max=111), Output()), _dom_classes=('widget-interact…"
      ]
     },
     "metadata": {},
     "output_type": "display_data"
    },
    {
     "name": "stdout",
     "output_type": "stream",
     "text": [
      "['P_2241943_ANTROP.nrrd']\n",
      "P_2241943_ANTROP.nrrd\n"
     ]
    },
    {
     "data": {
      "application/vnd.jupyter.widget-view+json": {
       "model_id": "22e46eccd360464a990a86ccadb4ca7b",
       "version_major": 2,
       "version_minor": 0
      },
      "text/plain": [
       "interactive(children=(IntSlider(value=22, description='i', max=111), Output()), _dom_classes=('widget-interact…"
      ]
     },
     "metadata": {},
     "output_type": "display_data"
    },
    {
     "name": "stdout",
     "output_type": "stream",
     "text": [
      "['P_2319187_GIN.nrrd']\n",
      "P_2319187_GIN.nrrd\n"
     ]
    },
    {
     "data": {
      "application/vnd.jupyter.widget-view+json": {
       "model_id": "e43a61f175f4448297ab306079003679",
       "version_major": 2,
       "version_minor": 0
      },
      "text/plain": [
       "interactive(children=(IntSlider(value=22, description='i', max=111), Output()), _dom_classes=('widget-interact…"
      ]
     },
     "metadata": {},
     "output_type": "display_data"
    },
    {
     "name": "stdout",
     "output_type": "stream",
     "text": [
      "['P_2418993_GIN.nrrd']\n",
      "P_2418993_GIN.nrrd\n"
     ]
    },
    {
     "data": {
      "application/vnd.jupyter.widget-view+json": {
       "model_id": "cf61a51b428a4ab4a88faaab25c4e9d0",
       "version_major": 2,
       "version_minor": 0
      },
      "text/plain": [
       "interactive(children=(IntSlider(value=22, description='i', max=111), Output()), _dom_classes=('widget-interact…"
      ]
     },
     "metadata": {},
     "output_type": "display_data"
    },
    {
     "name": "stdout",
     "output_type": "stream",
     "text": [
      "['P_808761105_PLATI.nrrd']\n",
      "P_808761105_PLATI.nrrd\n"
     ]
    },
    {
     "data": {
      "application/vnd.jupyter.widget-view+json": {
       "model_id": "6ab8101eb88643b38b7b5c4a11860f69",
       "version_major": 2,
       "version_minor": 0
      },
      "text/plain": [
       "interactive(children=(IntSlider(value=22, description='i', max=111), Output()), _dom_classes=('widget-interact…"
      ]
     },
     "metadata": {},
     "output_type": "display_data"
    },
    {
     "name": "stdout",
     "output_type": "stream",
     "text": [
      "['P_840109842_GIN.nrrd']\n",
      "P_840109842_GIN.nrrd\n"
     ]
    },
    {
     "data": {
      "application/vnd.jupyter.widget-view+json": {
       "model_id": "74f6fd680dc04e448f904f31e0a2e377",
       "version_major": 2,
       "version_minor": 0
      },
      "text/plain": [
       "interactive(children=(IntSlider(value=22, description='i', max=111), Output()), _dom_classes=('widget-interact…"
      ]
     },
     "metadata": {},
     "output_type": "display_data"
    },
    {
     "name": "stdout",
     "output_type": "stream",
     "text": [
      "['P_840114360_ANTROP.nrrd']\n",
      "P_840114360_ANTROP.nrrd\n"
     ]
    },
    {
     "data": {
      "application/vnd.jupyter.widget-view+json": {
       "model_id": "79177c067aae49429ec72b92bf83b36b",
       "version_major": 2,
       "version_minor": 0
      },
      "text/plain": [
       "interactive(children=(IntSlider(value=22, description='i', max=111), Output()), _dom_classes=('widget-interact…"
      ]
     },
     "metadata": {},
     "output_type": "display_data"
    },
    {
     "name": "stdout",
     "output_type": "stream",
     "text": [
      "Average Metric: tensor([942.3491,  48.7362], device='cuda:1')\n",
      "Average ACCURACY: 9.615877934265882e-05\n"
     ]
    },
    {
     "data": {
      "image/png": "[encoded data removed]",
      "text/plain": [
       "<Figure size 1000x500 with 1 Axes>"
      ]
     },
     "metadata": {},
     "output_type": "display_data"
    }
   ],
   "source": [
    "\n",
    "from scipy.ndimage import label\n",
    "if __name__ == \"__main__\":\n",
    "    save_output_folder = \"/home/paulagmtz/TFM_PAULA_24/DATA_TFM/outputs_models/multilabel_diceloss/\"\n",
    "    # Realizar la validación\n",
    "    loss_evolution, average_metric, average_accuracy = validate_model(model, val_dataloader, device,save_output_folder)\n",
    "    "
   ]
  },
  {
   "cell_type": "markdown",
   "metadata": {},
   "source": [
    "validation dataloader"
   ]
  },
  {
   "cell_type": "markdown",
   "metadata": {},
   "source": [
    "MULTILABEL 200 diceCEloss "
   ]
  },
  {
   "cell_type": "code",
   "execution_count": 14,
   "metadata": {},
   "outputs": [
    {
     "data": {
      "application/vnd.jupyter.widget-view+json": {
       "model_id": "fa46ab2bdf2449af893e473fcc138cc8",
       "version_major": 2,
       "version_minor": 0
      },
      "text/plain": [
       "interactive(children=(IntSlider(value=22, description='i', max=111), Output()), _dom_classes=('widget-interact…"
      ]
     },
     "metadata": {},
     "output_type": "display_data"
    },
    {
     "data": {
      "application/vnd.jupyter.widget-view+json": {
       "model_id": "981e4b97ce1c4a268479a5506dc22c86",
       "version_major": 2,
       "version_minor": 0
      },
      "text/plain": [
       "interactive(children=(IntSlider(value=22, description='i', max=111), Output()), _dom_classes=('widget-interact…"
      ]
     },
     "metadata": {},
     "output_type": "display_data"
    },
    {
     "data": {
      "application/vnd.jupyter.widget-view+json": {
       "model_id": "59d1402780b1490a846eaaedb055f3ce",
       "version_major": 2,
       "version_minor": 0
      },
      "text/plain": [
       "interactive(children=(IntSlider(value=22, description='i', max=111), Output()), _dom_classes=('widget-interact…"
      ]
     },
     "metadata": {},
     "output_type": "display_data"
    },
    {
     "data": {
      "application/vnd.jupyter.widget-view+json": {
       "model_id": "26b459e9a24046a38bfc70f7da4ac9f5",
       "version_major": 2,
       "version_minor": 0
      },
      "text/plain": [
       "interactive(children=(IntSlider(value=22, description='i', max=111), Output()), _dom_classes=('widget-interact…"
      ]
     },
     "metadata": {},
     "output_type": "display_data"
    },
    {
     "data": {
      "application/vnd.jupyter.widget-view+json": {
       "model_id": "42165945c13c4b67b676d1d2e030e54e",
       "version_major": 2,
       "version_minor": 0
      },
      "text/plain": [
       "interactive(children=(IntSlider(value=22, description='i', max=111), Output()), _dom_classes=('widget-interact…"
      ]
     },
     "metadata": {},
     "output_type": "display_data"
    },
    {
     "data": {
      "application/vnd.jupyter.widget-view+json": {
       "model_id": "dd212cbdf7144dc8b2ff80207715e320",
       "version_major": 2,
       "version_minor": 0
      },
      "text/plain": [
       "interactive(children=(IntSlider(value=22, description='i', max=111), Output()), _dom_classes=('widget-interact…"
      ]
     },
     "metadata": {},
     "output_type": "display_data"
    },
    {
     "data": {
      "application/vnd.jupyter.widget-view+json": {
       "model_id": "99d4407a5e2f4da2b66d3b3186aa573a",
       "version_major": 2,
       "version_minor": 0
      },
      "text/plain": [
       "interactive(children=(IntSlider(value=22, description='i', max=111), Output()), _dom_classes=('widget-interact…"
      ]
     },
     "metadata": {},
     "output_type": "display_data"
    },
    {
     "name": "stdout",
     "output_type": "stream",
     "text": [
      "Average Metric: tensor([943.0676, 944.1576], device='cuda:1')\n",
      "Average ACCURACY: 9.616151510272175e-05\n"
     ]
    },
    {
     "data": {
      "image/png": "[encoded data removed]",
      "text/plain": [
       "<Figure size 1000x500 with 1 Axes>"
      ]
     },
     "metadata": {},
     "output_type": "display_data"
    }
   ],
   "source": [
    "\n",
    "from scipy.ndimage import label\n",
    "if __name__ == \"__main__\":\n",
    "    save_output_folder = \"/home/paulagmtz/TFM_PAULA_24/DATA_TFM/outputs_models/multilabel_diceloss/\"\n",
    "    # Realizar la validación\n",
    "    loss_evolution, average_metric, average_accuracy = validate_model(model, val_dataloader, device)"
   ]
  },
  {
   "cell_type": "markdown",
   "metadata": {},
   "source": [
    "# POST PROCESSING MULTILABEL "
   ]
  },
  {
   "cell_type": "code",
   "execution_count": null,
   "metadata": {},
   "outputs": [],
   "source": []
  },
  {
   "cell_type": "markdown",
   "metadata": {},
   "source": [
    "# EVALUATION UNET ONE LABEL SIGMA 2"
   ]
  },
  {
   "cell_type": "code",
   "execution_count": 27,
   "metadata": {},
   "outputs": [],
   "source": [
    "# train\n",
    "root_dir =\"/home/paulagmtz/TFM_PAULA_24/DATA_TFM/train_files\"\n",
    "input_dim = (194,148,105)\n",
    "n_labels= 1\n",
    "train_dataset = dataset_old.PelvisDataset(root_dir,input_dim, n_labels, transform=None)\n",
    "\n",
    "train_dataloader = DataLoader(train_dataset, collate_fn=pad_list_data_collate,batch_size =2)"
   ]
  },
  {
   "cell_type": "code",
   "execution_count": 28,
   "metadata": {},
   "outputs": [],
   "source": [
    "root_dir =\"/home/paulagmtz/TFM_PAULA_24/DATA_TFM/val_files\"\n",
    "input_dim =(194,148,105)\n",
    "n_labels= 1\n",
    "val_dataset = dataset_old.PelvisDataset(root_dir,input_dim, n_labels, transform=None)\n",
    "\n",
    "val_dataloader = DataLoader(val_dataset, batch_size =2)"
   ]
  },
  {
   "cell_type": "code",
   "execution_count": 29,
   "metadata": {},
   "outputs": [],
   "source": [
    "#%%\n",
    "import torch\n",
    "import torch.optim as optim\n",
    "from torch.utils.data import DataLoader\n",
    "import matplotlib.pyplot as plt\n",
    "from UNETR import UNETR  \n",
    "from dataset import PelvisDataset  \n",
    "import monai\n",
    "from monai.losses import DiceLoss \n",
    "from monai.metrics import MSEMetric \n",
    "from torchmetrics import Accuracy\n",
    "from monai.metrics import DiceMetric\n",
    "\n",
    "# Función para cargar el modelo y realizar la validación\n",
    "\n",
    "\n",
    "def euclidean_distance(predictions, targets):\n",
    "    # print(predictions)\n",
    "    # print(targets)\n",
    "    # print(predictions.shape)\n",
    "    # print(targets.shape)\n",
    "    \n",
    "    # Aplanar los tensores\n",
    "    predictions_flat = predictions.view(2, -1)\n",
    "    targets_flat = targets.view(2, -1)\n",
    "    dist = torch.norm(targets_flat-predictions_flat,dim=1)\n",
    "    return dist\n",
    "def validate_model_one_label(model, val_dataloader, device):\n",
    "    model.eval()  # Modo de evaluación\n",
    "\n",
    "    # Definir la función de pérdida\n",
    "    loss_function = DiceLoss(sigmoid=True, squared_pred=True)\n",
    "\n",
    "    # Variables para almacenar la evolución de la métrica\n",
    "    metric_history = []\n",
    "    loss_evolution = []\n",
    "    \n",
    "    accuracy_evolution = []\n",
    "\n",
    "    with torch.no_grad():\n",
    "        for batch in val_dataloader:\n",
    "            inputs, targets = batch[0].to(device), batch[1].to(device)\n",
    "            print(inputs.shape)\n",
    "            # Realizar predicciones\n",
    "            outputs = model(inputs)\n",
    "            out =  nn.functional.sigmoid(outputs)\n",
    "\n",
    "            # Calcular la pérdida\n",
    "            loss = loss_function(outputs, targets)\n",
    "            \n",
    "            accuracy = Accuracy(task=\"binary\").to(device)\n",
    "            acc = accuracy(out, targets)\n",
    "            # dice = DiceMetric(outputs, targets)\n",
    "\n",
    "            # caluclar la distancia euclidea\n",
    "            dist = euclidean_distance(out, targets)\n",
    "            # Guardar la métrica\n",
    "            loss_evolution.append(loss.item())\n",
    "            metric_history.append(dist)\n",
    "            accuracy_evolution.append(acc)\n",
    "\n",
    "            # Mostrar imágenes de inputs, targets y outputs\n",
    "            plot_results(inputs, targets, out)\n",
    "\n",
    "    # Calcular la métrica promedio\n",
    "    average_metric = sum(metric_history) / len(metric_history)\n",
    "    average_accuracy = sum(accuracy_evolution)/(len(accuracy_evolution))\n",
    "    print(f'Average Metric: {average_metric}')\n",
    "    print(f'Average ACCURACY: {average_accuracy}')\n",
    "    # loss_evolution_cpu = [tensor.cpu() for tensor in loss_evolution]  # Mover cada tensor a la CPU\n",
    "    # loss_evolution_numpy = [tensor.detach().numpy() for tensor in loss_evolution]  # Convertir cada tensor a un array de NumPy\n",
    "    # loss_evolution_numpy = [tensor.numpy() for tensor in loss_evolution]\n",
    "    plot_loss_evolution(loss_evolution)\n",
    "\n",
    "\n",
    "    # Guardar la evolución de la métrica en un archivo (por ejemplo, un archivo de texto)\n",
    "    with open(\"metric_history.txt\", \"w\") as f:\n",
    "        for metric in metric_history:\n",
    "            f.write(f\"{metric}\\n\")\n",
    "    return loss_evolution, average_metric, average_accuracy\n",
    "\n",
    "# Función para mostrar imágenes de inputs, targets y outputs\n",
    "def plot_results(inputs, targets, outputs):\n",
    "    depth_slice = inputs[:, :, :, :, :]\n",
    "    depth_slice_target = targets[:, :, :, :, :]\n",
    "    depth_slice_outputs = outputs[:, :, :, :, :]\n",
    "\n",
    "    def plot_image(i):\n",
    "        fig, axes = plt.subplots(1, 3, figsize=(10, 5))\n",
    "\n",
    "        image_array = depth_slice[0, :, i, :, :].cpu().detach().numpy()\n",
    "        image_array_target = depth_slice_target[0, :, i, :, :].cpu().detach().numpy()\n",
    "        image_array_outputs = depth_slice_outputs[0, :, i, :, :].cpu().detach().numpy()\n",
    "\n",
    "        axes[0].imshow(image_array[0, :, :], cmap=\"gray\")\n",
    "        axes[0].set_title(\"inputs\")\n",
    "        axes[0].axis('off')\n",
    "\n",
    "        axes[1].imshow(image_array_target[0, :, :], cmap=\"gray\")\n",
    "        axes[1].set_title(\"target\")\n",
    "        axes[1].axis('off')\n",
    "\n",
    "        axes[2].imshow(image_array_outputs[0, :, :], cmap=\"gray\")\n",
    "        axes[2].set_title(\"output\")\n",
    "        axes[2].axis('off')\n",
    "\n",
    "        plt.show()\n",
    "\n",
    "    widgets.interact(plot_image, i=widgets.IntSlider(min=0, max=depth_slice.shape[2]-1, step=1, value=22))\n",
    "\n"
   ]
  },
  {
   "cell_type": "markdown",
   "metadata": {},
   "source": [
    "## 1. UNET 200 epochs dice with surface points"
   ]
  },
  {
   "cell_type": "code",
   "execution_count": 30,
   "metadata": {},
   "outputs": [
    {
     "data": {
      "text/plain": [
       "UNet(\n",
       "  (model): Sequential(\n",
       "    (0): Convolution(\n",
       "      (conv): Conv3d(1, 64, kernel_size=(3, 3, 3), stride=(2, 2, 2), padding=(1, 1, 1))\n",
       "      (adn): ADN(\n",
       "        (N): InstanceNorm3d(64, eps=1e-05, momentum=0.1, affine=False, track_running_stats=False)\n",
       "        (D): Dropout(p=0.0, inplace=False)\n",
       "        (A): PReLU(num_parameters=1)\n",
       "      )\n",
       "    )\n",
       "    (1): SkipConnection(\n",
       "      (submodule): Sequential(\n",
       "        (0): Convolution(\n",
       "          (conv): Conv3d(64, 128, kernel_size=(3, 3, 3), stride=(2, 2, 2), padding=(1, 1, 1))\n",
       "          (adn): ADN(\n",
       "            (N): InstanceNorm3d(128, eps=1e-05, momentum=0.1, affine=False, track_running_stats=False)\n",
       "            (D): Dropout(p=0.0, inplace=False)\n",
       "            (A): PReLU(num_parameters=1)\n",
       "          )\n",
       "        )\n",
       "        (1): SkipConnection(\n",
       "          (submodule): Sequential(\n",
       "            (0): Convolution(\n",
       "              (conv): Conv3d(128, 256, kernel_size=(3, 3, 3), stride=(2, 2, 2), padding=(1, 1, 1))\n",
       "              (adn): ADN(\n",
       "                (N): InstanceNorm3d(256, eps=1e-05, momentum=0.1, affine=False, track_running_stats=False)\n",
       "                (D): Dropout(p=0.0, inplace=False)\n",
       "                (A): PReLU(num_parameters=1)\n",
       "              )\n",
       "            )\n",
       "            (1): SkipConnection(\n",
       "              (submodule): Convolution(\n",
       "                (conv): Conv3d(256, 512, kernel_size=(3, 3, 3), stride=(1, 1, 1), padding=(1, 1, 1))\n",
       "                (adn): ADN(\n",
       "                  (N): InstanceNorm3d(512, eps=1e-05, momentum=0.1, affine=False, track_running_stats=False)\n",
       "                  (D): Dropout(p=0.0, inplace=False)\n",
       "                  (A): PReLU(num_parameters=1)\n",
       "                )\n",
       "              )\n",
       "            )\n",
       "            (2): Convolution(\n",
       "              (conv): ConvTranspose3d(768, 128, kernel_size=(3, 3, 3), stride=(2, 2, 2), padding=(1, 1, 1), output_padding=(1, 1, 1))\n",
       "              (adn): ADN(\n",
       "                (N): InstanceNorm3d(128, eps=1e-05, momentum=0.1, affine=False, track_running_stats=False)\n",
       "                (D): Dropout(p=0.0, inplace=False)\n",
       "                (A): PReLU(num_parameters=1)\n",
       "              )\n",
       "            )\n",
       "          )\n",
       "        )\n",
       "        (2): Convolution(\n",
       "          (conv): ConvTranspose3d(256, 64, kernel_size=(3, 3, 3), stride=(2, 2, 2), padding=(1, 1, 1), output_padding=(1, 1, 1))\n",
       "          (adn): ADN(\n",
       "            (N): InstanceNorm3d(64, eps=1e-05, momentum=0.1, affine=False, track_running_stats=False)\n",
       "            (D): Dropout(p=0.0, inplace=False)\n",
       "            (A): PReLU(num_parameters=1)\n",
       "          )\n",
       "        )\n",
       "      )\n",
       "    )\n",
       "    (2): Convolution(\n",
       "      (conv): ConvTranspose3d(128, 1, kernel_size=(3, 3, 3), stride=(2, 2, 2), padding=(1, 1, 1), output_padding=(1, 1, 1))\n",
       "    )\n",
       "  )\n",
       ")"
      ]
     },
     "execution_count": 30,
     "metadata": {},
     "output_type": "execute_result"
    }
   ],
   "source": [
    "# from monai.model import Unet\n",
    "# # Create an instance of your model (ensure that it has the same architecture)\n",
    "device = torch.device(\"cuda:1\" if torch.cuda.is_available() else \"cpu\")\n",
    "\n",
    "model = UNet(\n",
    "    spatial_dims=3 ,\n",
    "    in_channels=1,\n",
    "    out_channels=1,\n",
    "    channels=(64,128,256,512), \n",
    "    strides=(2,2,2),\n",
    "    # num_res_units=2,\n",
    "    # norm=Norm.BATCH,    \n",
    ").to(device)\n",
    "# Load the saved model parameters\n",
    "model.load_state_dict(torch.load(\"/home/paulagmtz/TFM_PAULA_24/DATA_TFM/models_result/UNET_model_200_surface_points.pth\"))\n",
    "\n",
    "# Set the model to evaluation mode\n",
    "model.eval()\n"
   ]
  },
  {
   "cell_type": "code",
   "execution_count": 31,
   "metadata": {},
   "outputs": [
    {
     "name": "stdout",
     "output_type": "stream",
     "text": [
      "torch.Size([2, 1, 112, 160, 208])\n"
     ]
    },
    {
     "ename": "OutOfMemoryError",
     "evalue": "CUDA out of memory. Tried to allocate 228.00 MiB (GPU 1; 23.70 GiB total capacity; 9.83 GiB already allocated; 91.81 MiB free; 10.04 GiB reserved in total by PyTorch) If reserved memory is >> allocated memory try setting max_split_size_mb to avoid fragmentation.  See documentation for Memory Management and PYTORCH_CUDA_ALLOC_CONF",
     "output_type": "error",
     "traceback": [
      "\u001b[0;31m---------------------------------------------------------------------------\u001b[0m",
      "\u001b[0;31mOutOfMemoryError\u001b[0m                          Traceback (most recent call last)",
      "Cell \u001b[0;32mIn[31], line 10\u001b[0m\n\u001b[1;32m      3\u001b[0m device \u001b[38;5;241m=\u001b[39m torch\u001b[38;5;241m.\u001b[39mdevice(\u001b[38;5;124m\"\u001b[39m\u001b[38;5;124mcuda:1\u001b[39m\u001b[38;5;124m\"\u001b[39m \u001b[38;5;28;01mif\u001b[39;00m torch\u001b[38;5;241m.\u001b[39mcuda\u001b[38;5;241m.\u001b[39mis_available() \u001b[38;5;28;01melse\u001b[39;00m \u001b[38;5;124m\"\u001b[39m\u001b[38;5;124mcpu\u001b[39m\u001b[38;5;124m\"\u001b[39m)\n\u001b[1;32m      4\u001b[0m \u001b[38;5;66;03m# model = UNETR(in_channels=1, out_channels=1, img_size=(112, 160, 208), feature_size=32, norm_name='batch')\u001b[39;00m\n\u001b[1;32m      5\u001b[0m \u001b[38;5;66;03m# model.to(device)\u001b[39;00m\n\u001b[1;32m      6\u001b[0m \u001b[38;5;66;03m# model.load_state_dict(torch.load(\"/home/paulagmtz/TFM_PAULA_24/MONAI-UNET/UNETR.pth\"))\u001b[39;00m\n\u001b[1;32m      7\u001b[0m \n\u001b[1;32m      8\u001b[0m \n\u001b[1;32m      9\u001b[0m \u001b[38;5;66;03m# Realizar la validación\u001b[39;00m\n\u001b[0;32m---> 10\u001b[0m loss_evolution, average_metric, average_accuracy \u001b[38;5;241m=\u001b[39m \u001b[43mvalidate_model_one_label\u001b[49m\u001b[43m(\u001b[49m\u001b[43mmodel\u001b[49m\u001b[43m,\u001b[49m\u001b[43m \u001b[49m\u001b[43mval_dataloader\u001b[49m\u001b[43m,\u001b[49m\u001b[43m \u001b[49m\u001b[43mdevice\u001b[49m\u001b[43m)\u001b[49m\n",
      "Cell \u001b[0;32mIn[29], line 45\u001b[0m, in \u001b[0;36mvalidate_model_one_label\u001b[0;34m(model, val_dataloader, device)\u001b[0m\n\u001b[1;32m     43\u001b[0m \u001b[38;5;28mprint\u001b[39m(inputs\u001b[38;5;241m.\u001b[39mshape)\n\u001b[1;32m     44\u001b[0m \u001b[38;5;66;03m# Realizar predicciones\u001b[39;00m\n\u001b[0;32m---> 45\u001b[0m outputs \u001b[38;5;241m=\u001b[39m \u001b[43mmodel\u001b[49m\u001b[43m(\u001b[49m\u001b[43minputs\u001b[49m\u001b[43m)\u001b[49m\n\u001b[1;32m     46\u001b[0m out \u001b[38;5;241m=\u001b[39m  nn\u001b[38;5;241m.\u001b[39mfunctional\u001b[38;5;241m.\u001b[39msigmoid(outputs)\n\u001b[1;32m     48\u001b[0m \u001b[38;5;66;03m# Calcular la pérdida\u001b[39;00m\n",
      "File \u001b[0;32m~/.local/lib/python3.8/site-packages/torch/nn/modules/module.py:1501\u001b[0m, in \u001b[0;36mModule._call_impl\u001b[0;34m(self, *args, **kwargs)\u001b[0m\n\u001b[1;32m   1496\u001b[0m \u001b[38;5;66;03m# If we don't have any hooks, we want to skip the rest of the logic in\u001b[39;00m\n\u001b[1;32m   1497\u001b[0m \u001b[38;5;66;03m# this function, and just call forward.\u001b[39;00m\n\u001b[1;32m   1498\u001b[0m \u001b[38;5;28;01mif\u001b[39;00m \u001b[38;5;129;01mnot\u001b[39;00m (\u001b[38;5;28mself\u001b[39m\u001b[38;5;241m.\u001b[39m_backward_hooks \u001b[38;5;129;01mor\u001b[39;00m \u001b[38;5;28mself\u001b[39m\u001b[38;5;241m.\u001b[39m_backward_pre_hooks \u001b[38;5;129;01mor\u001b[39;00m \u001b[38;5;28mself\u001b[39m\u001b[38;5;241m.\u001b[39m_forward_hooks \u001b[38;5;129;01mor\u001b[39;00m \u001b[38;5;28mself\u001b[39m\u001b[38;5;241m.\u001b[39m_forward_pre_hooks\n\u001b[1;32m   1499\u001b[0m         \u001b[38;5;129;01mor\u001b[39;00m _global_backward_pre_hooks \u001b[38;5;129;01mor\u001b[39;00m _global_backward_hooks\n\u001b[1;32m   1500\u001b[0m         \u001b[38;5;129;01mor\u001b[39;00m _global_forward_hooks \u001b[38;5;129;01mor\u001b[39;00m _global_forward_pre_hooks):\n\u001b[0;32m-> 1501\u001b[0m     \u001b[38;5;28;01mreturn\u001b[39;00m \u001b[43mforward_call\u001b[49m\u001b[43m(\u001b[49m\u001b[38;5;241;43m*\u001b[39;49m\u001b[43margs\u001b[49m\u001b[43m,\u001b[49m\u001b[43m \u001b[49m\u001b[38;5;241;43m*\u001b[39;49m\u001b[38;5;241;43m*\u001b[39;49m\u001b[43mkwargs\u001b[49m\u001b[43m)\u001b[49m\n\u001b[1;32m   1502\u001b[0m \u001b[38;5;66;03m# Do not call functions when jit is used\u001b[39;00m\n\u001b[1;32m   1503\u001b[0m full_backward_hooks, non_full_backward_hooks \u001b[38;5;241m=\u001b[39m [], []\n",
      "File \u001b[0;32m~/.local/lib/python3.8/site-packages/monai/networks/nets/unet.py:300\u001b[0m, in \u001b[0;36mUNet.forward\u001b[0;34m(self, x)\u001b[0m\n\u001b[1;32m    299\u001b[0m \u001b[38;5;28;01mdef\u001b[39;00m \u001b[38;5;21mforward\u001b[39m(\u001b[38;5;28mself\u001b[39m, x: torch\u001b[38;5;241m.\u001b[39mTensor) \u001b[38;5;241m-\u001b[39m\u001b[38;5;241m>\u001b[39m torch\u001b[38;5;241m.\u001b[39mTensor:\n\u001b[0;32m--> 300\u001b[0m     x \u001b[38;5;241m=\u001b[39m \u001b[38;5;28;43mself\u001b[39;49m\u001b[38;5;241;43m.\u001b[39;49m\u001b[43mmodel\u001b[49m\u001b[43m(\u001b[49m\u001b[43mx\u001b[49m\u001b[43m)\u001b[49m\n\u001b[1;32m    301\u001b[0m     \u001b[38;5;28;01mreturn\u001b[39;00m x\n",
      "File \u001b[0;32m~/.local/lib/python3.8/site-packages/torch/nn/modules/module.py:1501\u001b[0m, in \u001b[0;36mModule._call_impl\u001b[0;34m(self, *args, **kwargs)\u001b[0m\n\u001b[1;32m   1496\u001b[0m \u001b[38;5;66;03m# If we don't have any hooks, we want to skip the rest of the logic in\u001b[39;00m\n\u001b[1;32m   1497\u001b[0m \u001b[38;5;66;03m# this function, and just call forward.\u001b[39;00m\n\u001b[1;32m   1498\u001b[0m \u001b[38;5;28;01mif\u001b[39;00m \u001b[38;5;129;01mnot\u001b[39;00m (\u001b[38;5;28mself\u001b[39m\u001b[38;5;241m.\u001b[39m_backward_hooks \u001b[38;5;129;01mor\u001b[39;00m \u001b[38;5;28mself\u001b[39m\u001b[38;5;241m.\u001b[39m_backward_pre_hooks \u001b[38;5;129;01mor\u001b[39;00m \u001b[38;5;28mself\u001b[39m\u001b[38;5;241m.\u001b[39m_forward_hooks \u001b[38;5;129;01mor\u001b[39;00m \u001b[38;5;28mself\u001b[39m\u001b[38;5;241m.\u001b[39m_forward_pre_hooks\n\u001b[1;32m   1499\u001b[0m         \u001b[38;5;129;01mor\u001b[39;00m _global_backward_pre_hooks \u001b[38;5;129;01mor\u001b[39;00m _global_backward_hooks\n\u001b[1;32m   1500\u001b[0m         \u001b[38;5;129;01mor\u001b[39;00m _global_forward_hooks \u001b[38;5;129;01mor\u001b[39;00m _global_forward_pre_hooks):\n\u001b[0;32m-> 1501\u001b[0m     \u001b[38;5;28;01mreturn\u001b[39;00m \u001b[43mforward_call\u001b[49m\u001b[43m(\u001b[49m\u001b[38;5;241;43m*\u001b[39;49m\u001b[43margs\u001b[49m\u001b[43m,\u001b[49m\u001b[43m \u001b[49m\u001b[38;5;241;43m*\u001b[39;49m\u001b[38;5;241;43m*\u001b[39;49m\u001b[43mkwargs\u001b[49m\u001b[43m)\u001b[49m\n\u001b[1;32m   1502\u001b[0m \u001b[38;5;66;03m# Do not call functions when jit is used\u001b[39;00m\n\u001b[1;32m   1503\u001b[0m full_backward_hooks, non_full_backward_hooks \u001b[38;5;241m=\u001b[39m [], []\n",
      "File \u001b[0;32m~/.local/lib/python3.8/site-packages/torch/nn/modules/container.py:217\u001b[0m, in \u001b[0;36mSequential.forward\u001b[0;34m(self, input)\u001b[0m\n\u001b[1;32m    215\u001b[0m \u001b[38;5;28;01mdef\u001b[39;00m \u001b[38;5;21mforward\u001b[39m(\u001b[38;5;28mself\u001b[39m, \u001b[38;5;28minput\u001b[39m):\n\u001b[1;32m    216\u001b[0m     \u001b[38;5;28;01mfor\u001b[39;00m module \u001b[38;5;129;01min\u001b[39;00m \u001b[38;5;28mself\u001b[39m:\n\u001b[0;32m--> 217\u001b[0m         \u001b[38;5;28minput\u001b[39m \u001b[38;5;241m=\u001b[39m \u001b[43mmodule\u001b[49m\u001b[43m(\u001b[49m\u001b[38;5;28;43minput\u001b[39;49m\u001b[43m)\u001b[49m\n\u001b[1;32m    218\u001b[0m     \u001b[38;5;28;01mreturn\u001b[39;00m \u001b[38;5;28minput\u001b[39m\n",
      "File \u001b[0;32m~/.local/lib/python3.8/site-packages/torch/nn/modules/module.py:1501\u001b[0m, in \u001b[0;36mModule._call_impl\u001b[0;34m(self, *args, **kwargs)\u001b[0m\n\u001b[1;32m   1496\u001b[0m \u001b[38;5;66;03m# If we don't have any hooks, we want to skip the rest of the logic in\u001b[39;00m\n\u001b[1;32m   1497\u001b[0m \u001b[38;5;66;03m# this function, and just call forward.\u001b[39;00m\n\u001b[1;32m   1498\u001b[0m \u001b[38;5;28;01mif\u001b[39;00m \u001b[38;5;129;01mnot\u001b[39;00m (\u001b[38;5;28mself\u001b[39m\u001b[38;5;241m.\u001b[39m_backward_hooks \u001b[38;5;129;01mor\u001b[39;00m \u001b[38;5;28mself\u001b[39m\u001b[38;5;241m.\u001b[39m_backward_pre_hooks \u001b[38;5;129;01mor\u001b[39;00m \u001b[38;5;28mself\u001b[39m\u001b[38;5;241m.\u001b[39m_forward_hooks \u001b[38;5;129;01mor\u001b[39;00m \u001b[38;5;28mself\u001b[39m\u001b[38;5;241m.\u001b[39m_forward_pre_hooks\n\u001b[1;32m   1499\u001b[0m         \u001b[38;5;129;01mor\u001b[39;00m _global_backward_pre_hooks \u001b[38;5;129;01mor\u001b[39;00m _global_backward_hooks\n\u001b[1;32m   1500\u001b[0m         \u001b[38;5;129;01mor\u001b[39;00m _global_forward_hooks \u001b[38;5;129;01mor\u001b[39;00m _global_forward_pre_hooks):\n\u001b[0;32m-> 1501\u001b[0m     \u001b[38;5;28;01mreturn\u001b[39;00m \u001b[43mforward_call\u001b[49m\u001b[43m(\u001b[49m\u001b[38;5;241;43m*\u001b[39;49m\u001b[43margs\u001b[49m\u001b[43m,\u001b[49m\u001b[43m \u001b[49m\u001b[38;5;241;43m*\u001b[39;49m\u001b[38;5;241;43m*\u001b[39;49m\u001b[43mkwargs\u001b[49m\u001b[43m)\u001b[49m\n\u001b[1;32m   1502\u001b[0m \u001b[38;5;66;03m# Do not call functions when jit is used\u001b[39;00m\n\u001b[1;32m   1503\u001b[0m full_backward_hooks, non_full_backward_hooks \u001b[38;5;241m=\u001b[39m [], []\n",
      "File \u001b[0;32m~/.local/lib/python3.8/site-packages/monai/networks/layers/simplelayers.py:129\u001b[0m, in \u001b[0;36mSkipConnection.forward\u001b[0;34m(self, x)\u001b[0m\n\u001b[1;32m    128\u001b[0m \u001b[38;5;28;01mdef\u001b[39;00m \u001b[38;5;21mforward\u001b[39m(\u001b[38;5;28mself\u001b[39m, x: torch\u001b[38;5;241m.\u001b[39mTensor) \u001b[38;5;241m-\u001b[39m\u001b[38;5;241m>\u001b[39m torch\u001b[38;5;241m.\u001b[39mTensor:\n\u001b[0;32m--> 129\u001b[0m     y \u001b[38;5;241m=\u001b[39m \u001b[38;5;28;43mself\u001b[39;49m\u001b[38;5;241;43m.\u001b[39;49m\u001b[43msubmodule\u001b[49m\u001b[43m(\u001b[49m\u001b[43mx\u001b[49m\u001b[43m)\u001b[49m\n\u001b[1;32m    131\u001b[0m     \u001b[38;5;28;01mif\u001b[39;00m \u001b[38;5;28mself\u001b[39m\u001b[38;5;241m.\u001b[39mmode \u001b[38;5;241m==\u001b[39m \u001b[38;5;124m\"\u001b[39m\u001b[38;5;124mcat\u001b[39m\u001b[38;5;124m\"\u001b[39m:\n\u001b[1;32m    132\u001b[0m         \u001b[38;5;28;01mreturn\u001b[39;00m torch\u001b[38;5;241m.\u001b[39mcat([x, y], dim\u001b[38;5;241m=\u001b[39m\u001b[38;5;28mself\u001b[39m\u001b[38;5;241m.\u001b[39mdim)\n",
      "File \u001b[0;32m~/.local/lib/python3.8/site-packages/torch/nn/modules/module.py:1501\u001b[0m, in \u001b[0;36mModule._call_impl\u001b[0;34m(self, *args, **kwargs)\u001b[0m\n\u001b[1;32m   1496\u001b[0m \u001b[38;5;66;03m# If we don't have any hooks, we want to skip the rest of the logic in\u001b[39;00m\n\u001b[1;32m   1497\u001b[0m \u001b[38;5;66;03m# this function, and just call forward.\u001b[39;00m\n\u001b[1;32m   1498\u001b[0m \u001b[38;5;28;01mif\u001b[39;00m \u001b[38;5;129;01mnot\u001b[39;00m (\u001b[38;5;28mself\u001b[39m\u001b[38;5;241m.\u001b[39m_backward_hooks \u001b[38;5;129;01mor\u001b[39;00m \u001b[38;5;28mself\u001b[39m\u001b[38;5;241m.\u001b[39m_backward_pre_hooks \u001b[38;5;129;01mor\u001b[39;00m \u001b[38;5;28mself\u001b[39m\u001b[38;5;241m.\u001b[39m_forward_hooks \u001b[38;5;129;01mor\u001b[39;00m \u001b[38;5;28mself\u001b[39m\u001b[38;5;241m.\u001b[39m_forward_pre_hooks\n\u001b[1;32m   1499\u001b[0m         \u001b[38;5;129;01mor\u001b[39;00m _global_backward_pre_hooks \u001b[38;5;129;01mor\u001b[39;00m _global_backward_hooks\n\u001b[1;32m   1500\u001b[0m         \u001b[38;5;129;01mor\u001b[39;00m _global_forward_hooks \u001b[38;5;129;01mor\u001b[39;00m _global_forward_pre_hooks):\n\u001b[0;32m-> 1501\u001b[0m     \u001b[38;5;28;01mreturn\u001b[39;00m \u001b[43mforward_call\u001b[49m\u001b[43m(\u001b[49m\u001b[38;5;241;43m*\u001b[39;49m\u001b[43margs\u001b[49m\u001b[43m,\u001b[49m\u001b[43m \u001b[49m\u001b[38;5;241;43m*\u001b[39;49m\u001b[38;5;241;43m*\u001b[39;49m\u001b[43mkwargs\u001b[49m\u001b[43m)\u001b[49m\n\u001b[1;32m   1502\u001b[0m \u001b[38;5;66;03m# Do not call functions when jit is used\u001b[39;00m\n\u001b[1;32m   1503\u001b[0m full_backward_hooks, non_full_backward_hooks \u001b[38;5;241m=\u001b[39m [], []\n",
      "File \u001b[0;32m~/.local/lib/python3.8/site-packages/torch/nn/modules/container.py:217\u001b[0m, in \u001b[0;36mSequential.forward\u001b[0;34m(self, input)\u001b[0m\n\u001b[1;32m    215\u001b[0m \u001b[38;5;28;01mdef\u001b[39;00m \u001b[38;5;21mforward\u001b[39m(\u001b[38;5;28mself\u001b[39m, \u001b[38;5;28minput\u001b[39m):\n\u001b[1;32m    216\u001b[0m     \u001b[38;5;28;01mfor\u001b[39;00m module \u001b[38;5;129;01min\u001b[39;00m \u001b[38;5;28mself\u001b[39m:\n\u001b[0;32m--> 217\u001b[0m         \u001b[38;5;28minput\u001b[39m \u001b[38;5;241m=\u001b[39m \u001b[43mmodule\u001b[49m\u001b[43m(\u001b[49m\u001b[38;5;28;43minput\u001b[39;49m\u001b[43m)\u001b[49m\n\u001b[1;32m    218\u001b[0m     \u001b[38;5;28;01mreturn\u001b[39;00m \u001b[38;5;28minput\u001b[39m\n",
      "File \u001b[0;32m~/.local/lib/python3.8/site-packages/torch/nn/modules/module.py:1501\u001b[0m, in \u001b[0;36mModule._call_impl\u001b[0;34m(self, *args, **kwargs)\u001b[0m\n\u001b[1;32m   1496\u001b[0m \u001b[38;5;66;03m# If we don't have any hooks, we want to skip the rest of the logic in\u001b[39;00m\n\u001b[1;32m   1497\u001b[0m \u001b[38;5;66;03m# this function, and just call forward.\u001b[39;00m\n\u001b[1;32m   1498\u001b[0m \u001b[38;5;28;01mif\u001b[39;00m \u001b[38;5;129;01mnot\u001b[39;00m (\u001b[38;5;28mself\u001b[39m\u001b[38;5;241m.\u001b[39m_backward_hooks \u001b[38;5;129;01mor\u001b[39;00m \u001b[38;5;28mself\u001b[39m\u001b[38;5;241m.\u001b[39m_backward_pre_hooks \u001b[38;5;129;01mor\u001b[39;00m \u001b[38;5;28mself\u001b[39m\u001b[38;5;241m.\u001b[39m_forward_hooks \u001b[38;5;129;01mor\u001b[39;00m \u001b[38;5;28mself\u001b[39m\u001b[38;5;241m.\u001b[39m_forward_pre_hooks\n\u001b[1;32m   1499\u001b[0m         \u001b[38;5;129;01mor\u001b[39;00m _global_backward_pre_hooks \u001b[38;5;129;01mor\u001b[39;00m _global_backward_hooks\n\u001b[1;32m   1500\u001b[0m         \u001b[38;5;129;01mor\u001b[39;00m _global_forward_hooks \u001b[38;5;129;01mor\u001b[39;00m _global_forward_pre_hooks):\n\u001b[0;32m-> 1501\u001b[0m     \u001b[38;5;28;01mreturn\u001b[39;00m \u001b[43mforward_call\u001b[49m\u001b[43m(\u001b[49m\u001b[38;5;241;43m*\u001b[39;49m\u001b[43margs\u001b[49m\u001b[43m,\u001b[49m\u001b[43m \u001b[49m\u001b[38;5;241;43m*\u001b[39;49m\u001b[38;5;241;43m*\u001b[39;49m\u001b[43mkwargs\u001b[49m\u001b[43m)\u001b[49m\n\u001b[1;32m   1502\u001b[0m \u001b[38;5;66;03m# Do not call functions when jit is used\u001b[39;00m\n\u001b[1;32m   1503\u001b[0m full_backward_hooks, non_full_backward_hooks \u001b[38;5;241m=\u001b[39m [], []\n",
      "File \u001b[0;32m~/.local/lib/python3.8/site-packages/torch/nn/modules/container.py:217\u001b[0m, in \u001b[0;36mSequential.forward\u001b[0;34m(self, input)\u001b[0m\n\u001b[1;32m    215\u001b[0m \u001b[38;5;28;01mdef\u001b[39;00m \u001b[38;5;21mforward\u001b[39m(\u001b[38;5;28mself\u001b[39m, \u001b[38;5;28minput\u001b[39m):\n\u001b[1;32m    216\u001b[0m     \u001b[38;5;28;01mfor\u001b[39;00m module \u001b[38;5;129;01min\u001b[39;00m \u001b[38;5;28mself\u001b[39m:\n\u001b[0;32m--> 217\u001b[0m         \u001b[38;5;28minput\u001b[39m \u001b[38;5;241m=\u001b[39m \u001b[43mmodule\u001b[49m\u001b[43m(\u001b[49m\u001b[38;5;28;43minput\u001b[39;49m\u001b[43m)\u001b[49m\n\u001b[1;32m    218\u001b[0m     \u001b[38;5;28;01mreturn\u001b[39;00m \u001b[38;5;28minput\u001b[39m\n",
      "    \u001b[0;31m[... skipping similar frames: Module._call_impl at line 1501 (1 times)]\u001b[0m\n",
      "File \u001b[0;32m~/.local/lib/python3.8/site-packages/torch/nn/modules/container.py:217\u001b[0m, in \u001b[0;36mSequential.forward\u001b[0;34m(self, input)\u001b[0m\n\u001b[1;32m    215\u001b[0m \u001b[38;5;28;01mdef\u001b[39;00m \u001b[38;5;21mforward\u001b[39m(\u001b[38;5;28mself\u001b[39m, \u001b[38;5;28minput\u001b[39m):\n\u001b[1;32m    216\u001b[0m     \u001b[38;5;28;01mfor\u001b[39;00m module \u001b[38;5;129;01min\u001b[39;00m \u001b[38;5;28mself\u001b[39m:\n\u001b[0;32m--> 217\u001b[0m         \u001b[38;5;28minput\u001b[39m \u001b[38;5;241m=\u001b[39m \u001b[43mmodule\u001b[49m\u001b[43m(\u001b[49m\u001b[38;5;28;43minput\u001b[39;49m\u001b[43m)\u001b[49m\n\u001b[1;32m    218\u001b[0m     \u001b[38;5;28;01mreturn\u001b[39;00m \u001b[38;5;28minput\u001b[39m\n",
      "File \u001b[0;32m~/.local/lib/python3.8/site-packages/torch/nn/modules/module.py:1501\u001b[0m, in \u001b[0;36mModule._call_impl\u001b[0;34m(self, *args, **kwargs)\u001b[0m\n\u001b[1;32m   1496\u001b[0m \u001b[38;5;66;03m# If we don't have any hooks, we want to skip the rest of the logic in\u001b[39;00m\n\u001b[1;32m   1497\u001b[0m \u001b[38;5;66;03m# this function, and just call forward.\u001b[39;00m\n\u001b[1;32m   1498\u001b[0m \u001b[38;5;28;01mif\u001b[39;00m \u001b[38;5;129;01mnot\u001b[39;00m (\u001b[38;5;28mself\u001b[39m\u001b[38;5;241m.\u001b[39m_backward_hooks \u001b[38;5;129;01mor\u001b[39;00m \u001b[38;5;28mself\u001b[39m\u001b[38;5;241m.\u001b[39m_backward_pre_hooks \u001b[38;5;129;01mor\u001b[39;00m \u001b[38;5;28mself\u001b[39m\u001b[38;5;241m.\u001b[39m_forward_hooks \u001b[38;5;129;01mor\u001b[39;00m \u001b[38;5;28mself\u001b[39m\u001b[38;5;241m.\u001b[39m_forward_pre_hooks\n\u001b[1;32m   1499\u001b[0m         \u001b[38;5;129;01mor\u001b[39;00m _global_backward_pre_hooks \u001b[38;5;129;01mor\u001b[39;00m _global_backward_hooks\n\u001b[1;32m   1500\u001b[0m         \u001b[38;5;129;01mor\u001b[39;00m _global_forward_hooks \u001b[38;5;129;01mor\u001b[39;00m _global_forward_pre_hooks):\n\u001b[0;32m-> 1501\u001b[0m     \u001b[38;5;28;01mreturn\u001b[39;00m \u001b[43mforward_call\u001b[49m\u001b[43m(\u001b[49m\u001b[38;5;241;43m*\u001b[39;49m\u001b[43margs\u001b[49m\u001b[43m,\u001b[49m\u001b[43m \u001b[49m\u001b[38;5;241;43m*\u001b[39;49m\u001b[38;5;241;43m*\u001b[39;49m\u001b[43mkwargs\u001b[49m\u001b[43m)\u001b[49m\n\u001b[1;32m   1502\u001b[0m \u001b[38;5;66;03m# Do not call functions when jit is used\u001b[39;00m\n\u001b[1;32m   1503\u001b[0m full_backward_hooks, non_full_backward_hooks \u001b[38;5;241m=\u001b[39m [], []\n",
      "File \u001b[0;32m~/.local/lib/python3.8/site-packages/torch/nn/modules/instancenorm.py:74\u001b[0m, in \u001b[0;36m_InstanceNorm.forward\u001b[0;34m(self, input)\u001b[0m\n\u001b[1;32m     71\u001b[0m \u001b[38;5;28;01mif\u001b[39;00m \u001b[38;5;28minput\u001b[39m\u001b[38;5;241m.\u001b[39mdim() \u001b[38;5;241m==\u001b[39m \u001b[38;5;28mself\u001b[39m\u001b[38;5;241m.\u001b[39m_get_no_batch_dim():\n\u001b[1;32m     72\u001b[0m     \u001b[38;5;28;01mreturn\u001b[39;00m \u001b[38;5;28mself\u001b[39m\u001b[38;5;241m.\u001b[39m_handle_no_batch_input(\u001b[38;5;28minput\u001b[39m)\n\u001b[0;32m---> 74\u001b[0m \u001b[38;5;28;01mreturn\u001b[39;00m \u001b[38;5;28;43mself\u001b[39;49m\u001b[38;5;241;43m.\u001b[39;49m\u001b[43m_apply_instance_norm\u001b[49m\u001b[43m(\u001b[49m\u001b[38;5;28;43minput\u001b[39;49m\u001b[43m)\u001b[49m\n",
      "File \u001b[0;32m~/.local/lib/python3.8/site-packages/torch/nn/modules/instancenorm.py:34\u001b[0m, in \u001b[0;36m_InstanceNorm._apply_instance_norm\u001b[0;34m(self, input)\u001b[0m\n\u001b[1;32m     33\u001b[0m \u001b[38;5;28;01mdef\u001b[39;00m \u001b[38;5;21m_apply_instance_norm\u001b[39m(\u001b[38;5;28mself\u001b[39m, \u001b[38;5;28minput\u001b[39m):\n\u001b[0;32m---> 34\u001b[0m     \u001b[38;5;28;01mreturn\u001b[39;00m \u001b[43mF\u001b[49m\u001b[38;5;241;43m.\u001b[39;49m\u001b[43minstance_norm\u001b[49m\u001b[43m(\u001b[49m\n\u001b[1;32m     35\u001b[0m \u001b[43m        \u001b[49m\u001b[38;5;28;43minput\u001b[39;49m\u001b[43m,\u001b[49m\u001b[43m \u001b[49m\u001b[38;5;28;43mself\u001b[39;49m\u001b[38;5;241;43m.\u001b[39;49m\u001b[43mrunning_mean\u001b[49m\u001b[43m,\u001b[49m\u001b[43m \u001b[49m\u001b[38;5;28;43mself\u001b[39;49m\u001b[38;5;241;43m.\u001b[39;49m\u001b[43mrunning_var\u001b[49m\u001b[43m,\u001b[49m\u001b[43m \u001b[49m\u001b[38;5;28;43mself\u001b[39;49m\u001b[38;5;241;43m.\u001b[39;49m\u001b[43mweight\u001b[49m\u001b[43m,\u001b[49m\u001b[43m \u001b[49m\u001b[38;5;28;43mself\u001b[39;49m\u001b[38;5;241;43m.\u001b[39;49m\u001b[43mbias\u001b[49m\u001b[43m,\u001b[49m\n\u001b[1;32m     36\u001b[0m \u001b[43m        \u001b[49m\u001b[38;5;28;43mself\u001b[39;49m\u001b[38;5;241;43m.\u001b[39;49m\u001b[43mtraining\u001b[49m\u001b[43m \u001b[49m\u001b[38;5;129;43;01mor\u001b[39;49;00m\u001b[43m \u001b[49m\u001b[38;5;129;43;01mnot\u001b[39;49;00m\u001b[43m \u001b[49m\u001b[38;5;28;43mself\u001b[39;49m\u001b[38;5;241;43m.\u001b[39;49m\u001b[43mtrack_running_stats\u001b[49m\u001b[43m,\u001b[49m\u001b[43m \u001b[49m\u001b[38;5;28;43mself\u001b[39;49m\u001b[38;5;241;43m.\u001b[39;49m\u001b[43mmomentum\u001b[49m\u001b[43m,\u001b[49m\u001b[43m \u001b[49m\u001b[38;5;28;43mself\u001b[39;49m\u001b[38;5;241;43m.\u001b[39;49m\u001b[43meps\u001b[49m\u001b[43m)\u001b[49m\n",
      "File \u001b[0;32m~/.local/lib/python3.8/site-packages/torch/nn/functional.py:2495\u001b[0m, in \u001b[0;36minstance_norm\u001b[0;34m(input, running_mean, running_var, weight, bias, use_input_stats, momentum, eps)\u001b[0m\n\u001b[1;32m   2493\u001b[0m \u001b[38;5;28;01mif\u001b[39;00m use_input_stats:\n\u001b[1;32m   2494\u001b[0m     _verify_spatial_size(\u001b[38;5;28minput\u001b[39m\u001b[38;5;241m.\u001b[39msize())\n\u001b[0;32m-> 2495\u001b[0m \u001b[38;5;28;01mreturn\u001b[39;00m \u001b[43mtorch\u001b[49m\u001b[38;5;241;43m.\u001b[39;49m\u001b[43minstance_norm\u001b[49m\u001b[43m(\u001b[49m\n\u001b[1;32m   2496\u001b[0m \u001b[43m    \u001b[49m\u001b[38;5;28;43minput\u001b[39;49m\u001b[43m,\u001b[49m\u001b[43m \u001b[49m\u001b[43mweight\u001b[49m\u001b[43m,\u001b[49m\u001b[43m \u001b[49m\u001b[43mbias\u001b[49m\u001b[43m,\u001b[49m\u001b[43m \u001b[49m\u001b[43mrunning_mean\u001b[49m\u001b[43m,\u001b[49m\u001b[43m \u001b[49m\u001b[43mrunning_var\u001b[49m\u001b[43m,\u001b[49m\u001b[43m \u001b[49m\u001b[43muse_input_stats\u001b[49m\u001b[43m,\u001b[49m\u001b[43m \u001b[49m\u001b[43mmomentum\u001b[49m\u001b[43m,\u001b[49m\u001b[43m \u001b[49m\u001b[43meps\u001b[49m\u001b[43m,\u001b[49m\u001b[43m \u001b[49m\u001b[43mtorch\u001b[49m\u001b[38;5;241;43m.\u001b[39;49m\u001b[43mbackends\u001b[49m\u001b[38;5;241;43m.\u001b[39;49m\u001b[43mcudnn\u001b[49m\u001b[38;5;241;43m.\u001b[39;49m\u001b[43menabled\u001b[49m\n\u001b[1;32m   2497\u001b[0m \u001b[43m\u001b[49m\u001b[43m)\u001b[49m\n",
      "\u001b[0;31mOutOfMemoryError\u001b[0m: CUDA out of memory. Tried to allocate 228.00 MiB (GPU 1; 23.70 GiB total capacity; 9.83 GiB already allocated; 91.81 MiB free; 10.04 GiB reserved in total by PyTorch) If reserved memory is >> allocated memory try setting max_split_size_mb to avoid fragmentation.  See documentation for Memory Management and PYTORCH_CUDA_ALLOC_CONF"
     ]
    }
   ],
   "source": [
    "\n",
    "if __name__ == \"__main__\":\n",
    "    # Cargar el modelo\n",
    "    device = torch.device(\"cuda:1\" if torch.cuda.is_available() else \"cpu\")\n",
    "    # model = UNETR(in_channels=1, out_channels=1, img_size=(112, 160, 208), feature_size=32, norm_name='batch')\n",
    "    # model.to(device)\n",
    "    # model.load_state_dict(torch.load(\"/home/paulagmtz/TFM_PAULA_24/MONAI-UNET/UNETR.pth\"))\n",
    "\n",
    "\n",
    "    # Realizar la validación\n",
    "    loss_evolution, average_metric, average_accuracy = validate_model_one_label(model, val_dataloader, device)"
   ]
  },
  {
   "cell_type": "markdown",
   "metadata": {},
   "source": [
    "## 2. UNET 200 epochs dice CE loss with surface points"
   ]
  },
  {
   "cell_type": "code",
   "execution_count": 21,
   "metadata": {},
   "outputs": [
    {
     "data": {
      "text/plain": [
       "UNet(\n",
       "  (model): Sequential(\n",
       "    (0): Convolution(\n",
       "      (conv): Conv3d(1, 64, kernel_size=(3, 3, 3), stride=(2, 2, 2), padding=(1, 1, 1))\n",
       "      (adn): ADN(\n",
       "        (N): InstanceNorm3d(64, eps=1e-05, momentum=0.1, affine=False, track_running_stats=False)\n",
       "        (D): Dropout(p=0.0, inplace=False)\n",
       "        (A): PReLU(num_parameters=1)\n",
       "      )\n",
       "    )\n",
       "    (1): SkipConnection(\n",
       "      (submodule): Sequential(\n",
       "        (0): Convolution(\n",
       "          (conv): Conv3d(64, 128, kernel_size=(3, 3, 3), stride=(2, 2, 2), padding=(1, 1, 1))\n",
       "          (adn): ADN(\n",
       "            (N): InstanceNorm3d(128, eps=1e-05, momentum=0.1, affine=False, track_running_stats=False)\n",
       "            (D): Dropout(p=0.0, inplace=False)\n",
       "            (A): PReLU(num_parameters=1)\n",
       "          )\n",
       "        )\n",
       "        (1): SkipConnection(\n",
       "          (submodule): Sequential(\n",
       "            (0): Convolution(\n",
       "              (conv): Conv3d(128, 256, kernel_size=(3, 3, 3), stride=(2, 2, 2), padding=(1, 1, 1))\n",
       "              (adn): ADN(\n",
       "                (N): InstanceNorm3d(256, eps=1e-05, momentum=0.1, affine=False, track_running_stats=False)\n",
       "                (D): Dropout(p=0.0, inplace=False)\n",
       "                (A): PReLU(num_parameters=1)\n",
       "              )\n",
       "            )\n",
       "            (1): SkipConnection(\n",
       "              (submodule): Convolution(\n",
       "                (conv): Conv3d(256, 512, kernel_size=(3, 3, 3), stride=(1, 1, 1), padding=(1, 1, 1))\n",
       "                (adn): ADN(\n",
       "                  (N): InstanceNorm3d(512, eps=1e-05, momentum=0.1, affine=False, track_running_stats=False)\n",
       "                  (D): Dropout(p=0.0, inplace=False)\n",
       "                  (A): PReLU(num_parameters=1)\n",
       "                )\n",
       "              )\n",
       "            )\n",
       "            (2): Convolution(\n",
       "              (conv): ConvTranspose3d(768, 128, kernel_size=(3, 3, 3), stride=(2, 2, 2), padding=(1, 1, 1), output_padding=(1, 1, 1))\n",
       "              (adn): ADN(\n",
       "                (N): InstanceNorm3d(128, eps=1e-05, momentum=0.1, affine=False, track_running_stats=False)\n",
       "                (D): Dropout(p=0.0, inplace=False)\n",
       "                (A): PReLU(num_parameters=1)\n",
       "              )\n",
       "            )\n",
       "          )\n",
       "        )\n",
       "        (2): Convolution(\n",
       "          (conv): ConvTranspose3d(256, 64, kernel_size=(3, 3, 3), stride=(2, 2, 2), padding=(1, 1, 1), output_padding=(1, 1, 1))\n",
       "          (adn): ADN(\n",
       "            (N): InstanceNorm3d(64, eps=1e-05, momentum=0.1, affine=False, track_running_stats=False)\n",
       "            (D): Dropout(p=0.0, inplace=False)\n",
       "            (A): PReLU(num_parameters=1)\n",
       "          )\n",
       "        )\n",
       "      )\n",
       "    )\n",
       "    (2): Convolution(\n",
       "      (conv): ConvTranspose3d(128, 1, kernel_size=(3, 3, 3), stride=(2, 2, 2), padding=(1, 1, 1), output_padding=(1, 1, 1))\n",
       "    )\n",
       "  )\n",
       ")"
      ]
     },
     "execution_count": 21,
     "metadata": {},
     "output_type": "execute_result"
    }
   ],
   "source": [
    "device = torch.device(\"cuda:1\" if torch.cuda.is_available() else \"cpu\")\n",
    "\n",
    "model = UNet(spatial_dims=3 ,in_channels=1,out_channels=1,channels=(64,128,256,512), strides=(2,2,2),).to(device)\n",
    "# Load the saved model parameters\n",
    "model.load_state_dict(torch.load(\"/home/paulagmtz/TFM_PAULA_24/DATA_TFM/models_result/UNET_model_SIGMA2_200_sp_diceCEloss.pth\"))\n",
    "\n",
    "# Set the model to evaluation mode\n",
    "model.eval()"
   ]
  },
  {
   "cell_type": "code",
   "execution_count": 22,
   "metadata": {},
   "outputs": [
    {
     "data": {
      "application/vnd.jupyter.widget-view+json": {
       "model_id": "6fc420c7d79f45ebbda09d87e9d58751",
       "version_major": 2,
       "version_minor": 0
      },
      "text/plain": [
       "interactive(children=(IntSlider(value=22, description='i', max=111), Output()), _dom_classes=('widget-interact…"
      ]
     },
     "metadata": {},
     "output_type": "display_data"
    },
    {
     "data": {
      "application/vnd.jupyter.widget-view+json": {
       "model_id": "d4b563633e3c4c80be87e028a04a907f",
       "version_major": 2,
       "version_minor": 0
      },
      "text/plain": [
       "interactive(children=(IntSlider(value=22, description='i', max=111), Output()), _dom_classes=('widget-interact…"
      ]
     },
     "metadata": {},
     "output_type": "display_data"
    },
    {
     "data": {
      "application/vnd.jupyter.widget-view+json": {
       "model_id": "410586a6ee874cc4ac4a33259cc96974",
       "version_major": 2,
       "version_minor": 0
      },
      "text/plain": [
       "interactive(children=(IntSlider(value=22, description='i', max=111), Output()), _dom_classes=('widget-interact…"
      ]
     },
     "metadata": {},
     "output_type": "display_data"
    },
    {
     "data": {
      "application/vnd.jupyter.widget-view+json": {
       "model_id": "19ef90601d87427496309dcfea6a4d21",
       "version_major": 2,
       "version_minor": 0
      },
      "text/plain": [
       "interactive(children=(IntSlider(value=22, description='i', max=111), Output()), _dom_classes=('widget-interact…"
      ]
     },
     "metadata": {},
     "output_type": "display_data"
    },
    {
     "data": {
      "application/vnd.jupyter.widget-view+json": {
       "model_id": "3ab4bc24889e430ebc03678bd854e841",
       "version_major": 2,
       "version_minor": 0
      },
      "text/plain": [
       "interactive(children=(IntSlider(value=22, description='i', max=111), Output()), _dom_classes=('widget-interact…"
      ]
     },
     "metadata": {},
     "output_type": "display_data"
    },
    {
     "data": {
      "application/vnd.jupyter.widget-view+json": {
       "model_id": "86677b07df5948938bdb43e6b886caa4",
       "version_major": 2,
       "version_minor": 0
      },
      "text/plain": [
       "interactive(children=(IntSlider(value=22, description='i', max=111), Output()), _dom_classes=('widget-interact…"
      ]
     },
     "metadata": {},
     "output_type": "display_data"
    },
    {
     "data": {
      "application/vnd.jupyter.widget-view+json": {
       "model_id": "a13c1fe9e1ce4c468c643852b6dba7cf",
       "version_major": 2,
       "version_minor": 0
      },
      "text/plain": [
       "interactive(children=(IntSlider(value=22, description='i', max=111), Output()), _dom_classes=('widget-interact…"
      ]
     },
     "metadata": {},
     "output_type": "display_data"
    },
    {
     "name": "stdout",
     "output_type": "stream",
     "text": [
      "Average Metric: tensor([11.7106,  9.9990], device='cuda:1')\n",
      "Average ACCURACY: 0.9999591708183289\n"
     ]
    },
    {
     "data": {
      "image/png": "[encoded data removed]",
      "text/plain": [
       "<Figure size 1000x500 with 1 Axes>"
      ]
     },
     "metadata": {},
     "output_type": "display_data"
    }
   ],
   "source": [
    "\n",
    "if __name__ == \"__main__\":\n",
    "    # Cargar el modelo\n",
    "    device = torch.device(\"cuda:1\" if torch.cuda.is_available() else \"cpu\")\n",
    "\n",
    "    # Realizar la validación\n",
    "    loss_evolution, average_metric, average_accuracy = validate_model_one_label(model, val_dataloader, device)"
   ]
  },
  {
   "cell_type": "markdown",
   "metadata": {},
   "source": [
    "## 3. UNET 200 epochs DICE FOCALL loss "
   ]
  },
  {
   "cell_type": "code",
   "execution_count": 23,
   "metadata": {},
   "outputs": [
    {
     "data": {
      "text/plain": [
       "<All keys matched successfully>"
      ]
     },
     "execution_count": 23,
     "metadata": {},
     "output_type": "execute_result"
    }
   ],
   "source": [
    "device = torch.device(\"cuda:1\" if torch.cuda.is_available() else \"cpu\")\n",
    "\n",
    "model = UNet(spatial_dims=3 ,in_channels=1,out_channels=1,channels=(64,128,256,512), strides=(2,2,2),).to(device)\n",
    "# Load the saved model parameters\n",
    "model.load_state_dict(torch.load(\"/home/paulagmtz/TFM_PAULA_24/DATA_TFM/models_result/UNET_model_SIGMA2_200_sp_dicefocalllosss.pth\"))\n",
    "\n",
    "# Set the model to evaluation mode\n",
    "# model.eval()"
   ]
  },
  {
   "cell_type": "code",
   "execution_count": 24,
   "metadata": {},
   "outputs": [
    {
     "data": {
      "application/vnd.jupyter.widget-view+json": {
       "model_id": "f330c19f22a946369b41e01477cd8349",
       "version_major": 2,
       "version_minor": 0
      },
      "text/plain": [
       "interactive(children=(IntSlider(value=22, description='i', max=111), Output()), _dom_classes=('widget-interact…"
      ]
     },
     "metadata": {},
     "output_type": "display_data"
    },
    {
     "data": {
      "application/vnd.jupyter.widget-view+json": {
       "model_id": "5344af0b5e864e76b146aa3cd51f1f2e",
       "version_major": 2,
       "version_minor": 0
      },
      "text/plain": [
       "interactive(children=(IntSlider(value=22, description='i', max=111), Output()), _dom_classes=('widget-interact…"
      ]
     },
     "metadata": {},
     "output_type": "display_data"
    },
    {
     "data": {
      "application/vnd.jupyter.widget-view+json": {
       "model_id": "d3e8d203b4b440528fefda06b74cd02c",
       "version_major": 2,
       "version_minor": 0
      },
      "text/plain": [
       "interactive(children=(IntSlider(value=22, description='i', max=111), Output()), _dom_classes=('widget-interact…"
      ]
     },
     "metadata": {},
     "output_type": "display_data"
    },
    {
     "data": {
      "application/vnd.jupyter.widget-view+json": {
       "model_id": "6c04732fbaf74d26a7005e7c0dbdc305",
       "version_major": 2,
       "version_minor": 0
      },
      "text/plain": [
       "interactive(children=(IntSlider(value=22, description='i', max=111), Output()), _dom_classes=('widget-interact…"
      ]
     },
     "metadata": {},
     "output_type": "display_data"
    },
    {
     "data": {
      "application/vnd.jupyter.widget-view+json": {
       "model_id": "44a73eada9d44a9cbc454fd390381fe4",
       "version_major": 2,
       "version_minor": 0
      },
      "text/plain": [
       "interactive(children=(IntSlider(value=22, description='i', max=111), Output()), _dom_classes=('widget-interact…"
      ]
     },
     "metadata": {},
     "output_type": "display_data"
    },
    {
     "data": {
      "application/vnd.jupyter.widget-view+json": {
       "model_id": "bee8dc99de904e07adc614b424228b69",
       "version_major": 2,
       "version_minor": 0
      },
      "text/plain": [
       "interactive(children=(IntSlider(value=22, description='i', max=111), Output()), _dom_classes=('widget-interact…"
      ]
     },
     "metadata": {},
     "output_type": "display_data"
    },
    {
     "data": {
      "application/vnd.jupyter.widget-view+json": {
       "model_id": "f5f7998091f240e3b0d9d4b4ca7aed2d",
       "version_major": 2,
       "version_minor": 0
      },
      "text/plain": [
       "interactive(children=(IntSlider(value=22, description='i', max=111), Output()), _dom_classes=('widget-interact…"
      ]
     },
     "metadata": {},
     "output_type": "display_data"
    },
    {
     "name": "stdout",
     "output_type": "stream",
     "text": [
      "Average Metric: tensor([11.9350, 10.1460], device='cuda:1')\n",
      "Average ACCURACY: 0.9999605417251587\n"
     ]
    },
    {
     "data": {
      "image/png": "[encoded data removed]",
      "text/plain": [
       "<Figure size 1000x500 with 1 Axes>"
      ]
     },
     "metadata": {},
     "output_type": "display_data"
    }
   ],
   "source": [
    "\n",
    "if __name__ == \"__main__\":\n",
    "    # Cargar el modelo\n",
    "    device = torch.device(\"cuda:1\" if torch.cuda.is_available() else \"cpu\")\n",
    "\n",
    "    # Realizar la validación\n",
    "    loss_evolution, average_metric, average_accuracy = validate_model_one_label(model, val_dataloader, device)"
   ]
  },
  {
   "cell_type": "markdown",
   "metadata": {},
   "source": [
    "# EVALUATION ATTENTION UNET ONE LABEL SIGMA 2"
   ]
  },
  {
   "cell_type": "code",
   "execution_count": 25,
   "metadata": {},
   "outputs": [
    {
     "data": {
      "text/plain": [
       "<All keys matched successfully>"
      ]
     },
     "execution_count": 25,
     "metadata": {},
     "output_type": "execute_result"
    }
   ],
   "source": [
    "device = torch.device(\"cuda:1\" if torch.cuda.is_available() else \"cpu\")\n",
    "\n",
    "\n",
    "model = AttentionUnet(\n",
    "    spatial_dims=3 ,\n",
    "    in_channels=1,\n",
    "    out_channels=1,\n",
    "    channels=(64,128), \n",
    "    strides=(2,2),\n",
    "        \n",
    ").to(device)\n",
    "# Load the saved model parameters\n",
    "model.load_state_dict(torch.load(\"/home/paulagmtz/TFM_PAULA_24/DATA_TFM/models_result/ATTENTION_UNET_model_SIGMA2_300_sp_dicefocalllosss.pth\"))\n",
    "\n",
    "# Set the model to evaluation mode\n",
    "# model.eval()"
   ]
  },
  {
   "cell_type": "code",
   "execution_count": 26,
   "metadata": {},
   "outputs": [
    {
     "ename": "OutOfMemoryError",
     "evalue": "CUDA out of memory. Tried to allocate 1.78 GiB (GPU 1; 23.70 GiB total capacity; 9.19 GiB already allocated; 575.81 MiB free; 9.57 GiB reserved in total by PyTorch) If reserved memory is >> allocated memory try setting max_split_size_mb to avoid fragmentation.  See documentation for Memory Management and PYTORCH_CUDA_ALLOC_CONF",
     "output_type": "error",
     "traceback": [
      "\u001b[0;31m---------------------------------------------------------------------------\u001b[0m",
      "\u001b[0;31mOutOfMemoryError\u001b[0m                          Traceback (most recent call last)",
      "Cell \u001b[0;32mIn[26], line 6\u001b[0m\n\u001b[1;32m      3\u001b[0m device \u001b[38;5;241m=\u001b[39m torch\u001b[38;5;241m.\u001b[39mdevice(\u001b[38;5;124m\"\u001b[39m\u001b[38;5;124mcuda:1\u001b[39m\u001b[38;5;124m\"\u001b[39m \u001b[38;5;28;01mif\u001b[39;00m torch\u001b[38;5;241m.\u001b[39mcuda\u001b[38;5;241m.\u001b[39mis_available() \u001b[38;5;28;01melse\u001b[39;00m \u001b[38;5;124m\"\u001b[39m\u001b[38;5;124mcpu\u001b[39m\u001b[38;5;124m\"\u001b[39m)\n\u001b[1;32m      5\u001b[0m \u001b[38;5;66;03m# Realizar la validación\u001b[39;00m\n\u001b[0;32m----> 6\u001b[0m loss_evolution, average_metric, average_accuracy \u001b[38;5;241m=\u001b[39m \u001b[43mvalidate_model_one_label\u001b[49m\u001b[43m(\u001b[49m\u001b[43mmodel\u001b[49m\u001b[43m,\u001b[49m\u001b[43m \u001b[49m\u001b[43mval_dataloader\u001b[49m\u001b[43m,\u001b[49m\u001b[43m \u001b[49m\u001b[43mdevice\u001b[49m\u001b[43m)\u001b[49m\n",
      "Cell \u001b[0;32mIn[17], line 45\u001b[0m, in \u001b[0;36mvalidate_model_one_label\u001b[0;34m(model, val_dataloader, device)\u001b[0m\n\u001b[1;32m     42\u001b[0m inputs, targets \u001b[38;5;241m=\u001b[39m batch[\u001b[38;5;241m0\u001b[39m]\u001b[38;5;241m.\u001b[39mto(device), batch[\u001b[38;5;241m1\u001b[39m]\u001b[38;5;241m.\u001b[39mto(device)\n\u001b[1;32m     44\u001b[0m \u001b[38;5;66;03m# Realizar predicciones\u001b[39;00m\n\u001b[0;32m---> 45\u001b[0m outputs \u001b[38;5;241m=\u001b[39m \u001b[43mmodel\u001b[49m\u001b[43m(\u001b[49m\u001b[43minputs\u001b[49m\u001b[43m)\u001b[49m\n\u001b[1;32m     46\u001b[0m out \u001b[38;5;241m=\u001b[39m  nn\u001b[38;5;241m.\u001b[39mfunctional\u001b[38;5;241m.\u001b[39msigmoid(outputs)\n\u001b[1;32m     48\u001b[0m \u001b[38;5;66;03m# Calcular la pérdida\u001b[39;00m\n",
      "File \u001b[0;32m~/.local/lib/python3.8/site-packages/torch/nn/modules/module.py:1501\u001b[0m, in \u001b[0;36mModule._call_impl\u001b[0;34m(self, *args, **kwargs)\u001b[0m\n\u001b[1;32m   1496\u001b[0m \u001b[38;5;66;03m# If we don't have any hooks, we want to skip the rest of the logic in\u001b[39;00m\n\u001b[1;32m   1497\u001b[0m \u001b[38;5;66;03m# this function, and just call forward.\u001b[39;00m\n\u001b[1;32m   1498\u001b[0m \u001b[38;5;28;01mif\u001b[39;00m \u001b[38;5;129;01mnot\u001b[39;00m (\u001b[38;5;28mself\u001b[39m\u001b[38;5;241m.\u001b[39m_backward_hooks \u001b[38;5;129;01mor\u001b[39;00m \u001b[38;5;28mself\u001b[39m\u001b[38;5;241m.\u001b[39m_backward_pre_hooks \u001b[38;5;129;01mor\u001b[39;00m \u001b[38;5;28mself\u001b[39m\u001b[38;5;241m.\u001b[39m_forward_hooks \u001b[38;5;129;01mor\u001b[39;00m \u001b[38;5;28mself\u001b[39m\u001b[38;5;241m.\u001b[39m_forward_pre_hooks\n\u001b[1;32m   1499\u001b[0m         \u001b[38;5;129;01mor\u001b[39;00m _global_backward_pre_hooks \u001b[38;5;129;01mor\u001b[39;00m _global_backward_hooks\n\u001b[1;32m   1500\u001b[0m         \u001b[38;5;129;01mor\u001b[39;00m _global_forward_hooks \u001b[38;5;129;01mor\u001b[39;00m _global_forward_pre_hooks):\n\u001b[0;32m-> 1501\u001b[0m     \u001b[38;5;28;01mreturn\u001b[39;00m \u001b[43mforward_call\u001b[49m\u001b[43m(\u001b[49m\u001b[38;5;241;43m*\u001b[39;49m\u001b[43margs\u001b[49m\u001b[43m,\u001b[49m\u001b[43m \u001b[49m\u001b[38;5;241;43m*\u001b[39;49m\u001b[38;5;241;43m*\u001b[39;49m\u001b[43mkwargs\u001b[49m\u001b[43m)\u001b[49m\n\u001b[1;32m   1502\u001b[0m \u001b[38;5;66;03m# Do not call functions when jit is used\u001b[39;00m\n\u001b[1;32m   1503\u001b[0m full_backward_hooks, non_full_backward_hooks \u001b[38;5;241m=\u001b[39m [], []\n",
      "File \u001b[0;32m~/.local/lib/python3.8/site-packages/monai/networks/nets/attentionunet.py:277\u001b[0m, in \u001b[0;36mAttentionUnet.forward\u001b[0;34m(self, x)\u001b[0m\n\u001b[1;32m    276\u001b[0m \u001b[38;5;28;01mdef\u001b[39;00m \u001b[38;5;21mforward\u001b[39m(\u001b[38;5;28mself\u001b[39m, x: torch\u001b[38;5;241m.\u001b[39mTensor) \u001b[38;5;241m-\u001b[39m\u001b[38;5;241m>\u001b[39m torch\u001b[38;5;241m.\u001b[39mTensor:\n\u001b[0;32m--> 277\u001b[0m     x_m: torch\u001b[38;5;241m.\u001b[39mTensor \u001b[38;5;241m=\u001b[39m \u001b[38;5;28;43mself\u001b[39;49m\u001b[38;5;241;43m.\u001b[39;49m\u001b[43mmodel\u001b[49m\u001b[43m(\u001b[49m\u001b[43mx\u001b[49m\u001b[43m)\u001b[49m\n\u001b[1;32m    278\u001b[0m     \u001b[38;5;28;01mreturn\u001b[39;00m x_m\n",
      "File \u001b[0;32m~/.local/lib/python3.8/site-packages/torch/nn/modules/module.py:1501\u001b[0m, in \u001b[0;36mModule._call_impl\u001b[0;34m(self, *args, **kwargs)\u001b[0m\n\u001b[1;32m   1496\u001b[0m \u001b[38;5;66;03m# If we don't have any hooks, we want to skip the rest of the logic in\u001b[39;00m\n\u001b[1;32m   1497\u001b[0m \u001b[38;5;66;03m# this function, and just call forward.\u001b[39;00m\n\u001b[1;32m   1498\u001b[0m \u001b[38;5;28;01mif\u001b[39;00m \u001b[38;5;129;01mnot\u001b[39;00m (\u001b[38;5;28mself\u001b[39m\u001b[38;5;241m.\u001b[39m_backward_hooks \u001b[38;5;129;01mor\u001b[39;00m \u001b[38;5;28mself\u001b[39m\u001b[38;5;241m.\u001b[39m_backward_pre_hooks \u001b[38;5;129;01mor\u001b[39;00m \u001b[38;5;28mself\u001b[39m\u001b[38;5;241m.\u001b[39m_forward_hooks \u001b[38;5;129;01mor\u001b[39;00m \u001b[38;5;28mself\u001b[39m\u001b[38;5;241m.\u001b[39m_forward_pre_hooks\n\u001b[1;32m   1499\u001b[0m         \u001b[38;5;129;01mor\u001b[39;00m _global_backward_pre_hooks \u001b[38;5;129;01mor\u001b[39;00m _global_backward_hooks\n\u001b[1;32m   1500\u001b[0m         \u001b[38;5;129;01mor\u001b[39;00m _global_forward_hooks \u001b[38;5;129;01mor\u001b[39;00m _global_forward_pre_hooks):\n\u001b[0;32m-> 1501\u001b[0m     \u001b[38;5;28;01mreturn\u001b[39;00m \u001b[43mforward_call\u001b[49m\u001b[43m(\u001b[49m\u001b[38;5;241;43m*\u001b[39;49m\u001b[43margs\u001b[49m\u001b[43m,\u001b[49m\u001b[43m \u001b[49m\u001b[38;5;241;43m*\u001b[39;49m\u001b[38;5;241;43m*\u001b[39;49m\u001b[43mkwargs\u001b[49m\u001b[43m)\u001b[49m\n\u001b[1;32m   1502\u001b[0m \u001b[38;5;66;03m# Do not call functions when jit is used\u001b[39;00m\n\u001b[1;32m   1503\u001b[0m full_backward_hooks, non_full_backward_hooks \u001b[38;5;241m=\u001b[39m [], []\n",
      "File \u001b[0;32m~/.local/lib/python3.8/site-packages/torch/nn/modules/container.py:217\u001b[0m, in \u001b[0;36mSequential.forward\u001b[0;34m(self, input)\u001b[0m\n\u001b[1;32m    215\u001b[0m \u001b[38;5;28;01mdef\u001b[39;00m \u001b[38;5;21mforward\u001b[39m(\u001b[38;5;28mself\u001b[39m, \u001b[38;5;28minput\u001b[39m):\n\u001b[1;32m    216\u001b[0m     \u001b[38;5;28;01mfor\u001b[39;00m module \u001b[38;5;129;01min\u001b[39;00m \u001b[38;5;28mself\u001b[39m:\n\u001b[0;32m--> 217\u001b[0m         \u001b[38;5;28minput\u001b[39m \u001b[38;5;241m=\u001b[39m \u001b[43mmodule\u001b[49m\u001b[43m(\u001b[49m\u001b[38;5;28;43minput\u001b[39;49m\u001b[43m)\u001b[49m\n\u001b[1;32m    218\u001b[0m     \u001b[38;5;28;01mreturn\u001b[39;00m \u001b[38;5;28minput\u001b[39m\n",
      "File \u001b[0;32m~/.local/lib/python3.8/site-packages/torch/nn/modules/module.py:1501\u001b[0m, in \u001b[0;36mModule._call_impl\u001b[0;34m(self, *args, **kwargs)\u001b[0m\n\u001b[1;32m   1496\u001b[0m \u001b[38;5;66;03m# If we don't have any hooks, we want to skip the rest of the logic in\u001b[39;00m\n\u001b[1;32m   1497\u001b[0m \u001b[38;5;66;03m# this function, and just call forward.\u001b[39;00m\n\u001b[1;32m   1498\u001b[0m \u001b[38;5;28;01mif\u001b[39;00m \u001b[38;5;129;01mnot\u001b[39;00m (\u001b[38;5;28mself\u001b[39m\u001b[38;5;241m.\u001b[39m_backward_hooks \u001b[38;5;129;01mor\u001b[39;00m \u001b[38;5;28mself\u001b[39m\u001b[38;5;241m.\u001b[39m_backward_pre_hooks \u001b[38;5;129;01mor\u001b[39;00m \u001b[38;5;28mself\u001b[39m\u001b[38;5;241m.\u001b[39m_forward_hooks \u001b[38;5;129;01mor\u001b[39;00m \u001b[38;5;28mself\u001b[39m\u001b[38;5;241m.\u001b[39m_forward_pre_hooks\n\u001b[1;32m   1499\u001b[0m         \u001b[38;5;129;01mor\u001b[39;00m _global_backward_pre_hooks \u001b[38;5;129;01mor\u001b[39;00m _global_backward_hooks\n\u001b[1;32m   1500\u001b[0m         \u001b[38;5;129;01mor\u001b[39;00m _global_forward_hooks \u001b[38;5;129;01mor\u001b[39;00m _global_forward_pre_hooks):\n\u001b[0;32m-> 1501\u001b[0m     \u001b[38;5;28;01mreturn\u001b[39;00m \u001b[43mforward_call\u001b[49m\u001b[43m(\u001b[49m\u001b[38;5;241;43m*\u001b[39;49m\u001b[43margs\u001b[49m\u001b[43m,\u001b[49m\u001b[43m \u001b[49m\u001b[38;5;241;43m*\u001b[39;49m\u001b[38;5;241;43m*\u001b[39;49m\u001b[43mkwargs\u001b[49m\u001b[43m)\u001b[49m\n\u001b[1;32m   1502\u001b[0m \u001b[38;5;66;03m# Do not call functions when jit is used\u001b[39;00m\n\u001b[1;32m   1503\u001b[0m full_backward_hooks, non_full_backward_hooks \u001b[38;5;241m=\u001b[39m [], []\n",
      "File \u001b[0;32m~/.local/lib/python3.8/site-packages/monai/networks/nets/attentionunet.py:65\u001b[0m, in \u001b[0;36mConvBlock.forward\u001b[0;34m(self, x)\u001b[0m\n\u001b[1;32m     64\u001b[0m \u001b[38;5;28;01mdef\u001b[39;00m \u001b[38;5;21mforward\u001b[39m(\u001b[38;5;28mself\u001b[39m, x: torch\u001b[38;5;241m.\u001b[39mTensor) \u001b[38;5;241m-\u001b[39m\u001b[38;5;241m>\u001b[39m torch\u001b[38;5;241m.\u001b[39mTensor:\n\u001b[0;32m---> 65\u001b[0m     x_c: torch\u001b[38;5;241m.\u001b[39mTensor \u001b[38;5;241m=\u001b[39m \u001b[38;5;28;43mself\u001b[39;49m\u001b[38;5;241;43m.\u001b[39;49m\u001b[43mconv\u001b[49m\u001b[43m(\u001b[49m\u001b[43mx\u001b[49m\u001b[43m)\u001b[49m\n\u001b[1;32m     66\u001b[0m     \u001b[38;5;28;01mreturn\u001b[39;00m x_c\n",
      "File \u001b[0;32m~/.local/lib/python3.8/site-packages/torch/nn/modules/module.py:1501\u001b[0m, in \u001b[0;36mModule._call_impl\u001b[0;34m(self, *args, **kwargs)\u001b[0m\n\u001b[1;32m   1496\u001b[0m \u001b[38;5;66;03m# If we don't have any hooks, we want to skip the rest of the logic in\u001b[39;00m\n\u001b[1;32m   1497\u001b[0m \u001b[38;5;66;03m# this function, and just call forward.\u001b[39;00m\n\u001b[1;32m   1498\u001b[0m \u001b[38;5;28;01mif\u001b[39;00m \u001b[38;5;129;01mnot\u001b[39;00m (\u001b[38;5;28mself\u001b[39m\u001b[38;5;241m.\u001b[39m_backward_hooks \u001b[38;5;129;01mor\u001b[39;00m \u001b[38;5;28mself\u001b[39m\u001b[38;5;241m.\u001b[39m_backward_pre_hooks \u001b[38;5;129;01mor\u001b[39;00m \u001b[38;5;28mself\u001b[39m\u001b[38;5;241m.\u001b[39m_forward_hooks \u001b[38;5;129;01mor\u001b[39;00m \u001b[38;5;28mself\u001b[39m\u001b[38;5;241m.\u001b[39m_forward_pre_hooks\n\u001b[1;32m   1499\u001b[0m         \u001b[38;5;129;01mor\u001b[39;00m _global_backward_pre_hooks \u001b[38;5;129;01mor\u001b[39;00m _global_backward_hooks\n\u001b[1;32m   1500\u001b[0m         \u001b[38;5;129;01mor\u001b[39;00m _global_forward_hooks \u001b[38;5;129;01mor\u001b[39;00m _global_forward_pre_hooks):\n\u001b[0;32m-> 1501\u001b[0m     \u001b[38;5;28;01mreturn\u001b[39;00m \u001b[43mforward_call\u001b[49m\u001b[43m(\u001b[49m\u001b[38;5;241;43m*\u001b[39;49m\u001b[43margs\u001b[49m\u001b[43m,\u001b[49m\u001b[43m \u001b[49m\u001b[38;5;241;43m*\u001b[39;49m\u001b[38;5;241;43m*\u001b[39;49m\u001b[43mkwargs\u001b[49m\u001b[43m)\u001b[49m\n\u001b[1;32m   1502\u001b[0m \u001b[38;5;66;03m# Do not call functions when jit is used\u001b[39;00m\n\u001b[1;32m   1503\u001b[0m full_backward_hooks, non_full_backward_hooks \u001b[38;5;241m=\u001b[39m [], []\n",
      "File \u001b[0;32m~/.local/lib/python3.8/site-packages/torch/nn/modules/container.py:217\u001b[0m, in \u001b[0;36mSequential.forward\u001b[0;34m(self, input)\u001b[0m\n\u001b[1;32m    215\u001b[0m \u001b[38;5;28;01mdef\u001b[39;00m \u001b[38;5;21mforward\u001b[39m(\u001b[38;5;28mself\u001b[39m, \u001b[38;5;28minput\u001b[39m):\n\u001b[1;32m    216\u001b[0m     \u001b[38;5;28;01mfor\u001b[39;00m module \u001b[38;5;129;01min\u001b[39;00m \u001b[38;5;28mself\u001b[39m:\n\u001b[0;32m--> 217\u001b[0m         \u001b[38;5;28minput\u001b[39m \u001b[38;5;241m=\u001b[39m \u001b[43mmodule\u001b[49m\u001b[43m(\u001b[49m\u001b[38;5;28;43minput\u001b[39;49m\u001b[43m)\u001b[49m\n\u001b[1;32m    218\u001b[0m     \u001b[38;5;28;01mreturn\u001b[39;00m \u001b[38;5;28minput\u001b[39m\n",
      "File \u001b[0;32m~/.local/lib/python3.8/site-packages/torch/nn/modules/module.py:1501\u001b[0m, in \u001b[0;36mModule._call_impl\u001b[0;34m(self, *args, **kwargs)\u001b[0m\n\u001b[1;32m   1496\u001b[0m \u001b[38;5;66;03m# If we don't have any hooks, we want to skip the rest of the logic in\u001b[39;00m\n\u001b[1;32m   1497\u001b[0m \u001b[38;5;66;03m# this function, and just call forward.\u001b[39;00m\n\u001b[1;32m   1498\u001b[0m \u001b[38;5;28;01mif\u001b[39;00m \u001b[38;5;129;01mnot\u001b[39;00m (\u001b[38;5;28mself\u001b[39m\u001b[38;5;241m.\u001b[39m_backward_hooks \u001b[38;5;129;01mor\u001b[39;00m \u001b[38;5;28mself\u001b[39m\u001b[38;5;241m.\u001b[39m_backward_pre_hooks \u001b[38;5;129;01mor\u001b[39;00m \u001b[38;5;28mself\u001b[39m\u001b[38;5;241m.\u001b[39m_forward_hooks \u001b[38;5;129;01mor\u001b[39;00m \u001b[38;5;28mself\u001b[39m\u001b[38;5;241m.\u001b[39m_forward_pre_hooks\n\u001b[1;32m   1499\u001b[0m         \u001b[38;5;129;01mor\u001b[39;00m _global_backward_pre_hooks \u001b[38;5;129;01mor\u001b[39;00m _global_backward_hooks\n\u001b[1;32m   1500\u001b[0m         \u001b[38;5;129;01mor\u001b[39;00m _global_forward_hooks \u001b[38;5;129;01mor\u001b[39;00m _global_forward_pre_hooks):\n\u001b[0;32m-> 1501\u001b[0m     \u001b[38;5;28;01mreturn\u001b[39;00m \u001b[43mforward_call\u001b[49m\u001b[43m(\u001b[49m\u001b[38;5;241;43m*\u001b[39;49m\u001b[43margs\u001b[49m\u001b[43m,\u001b[49m\u001b[43m \u001b[49m\u001b[38;5;241;43m*\u001b[39;49m\u001b[38;5;241;43m*\u001b[39;49m\u001b[43mkwargs\u001b[49m\u001b[43m)\u001b[49m\n\u001b[1;32m   1502\u001b[0m \u001b[38;5;66;03m# Do not call functions when jit is used\u001b[39;00m\n\u001b[1;32m   1503\u001b[0m full_backward_hooks, non_full_backward_hooks \u001b[38;5;241m=\u001b[39m [], []\n",
      "File \u001b[0;32m~/.local/lib/python3.8/site-packages/torch/nn/modules/container.py:217\u001b[0m, in \u001b[0;36mSequential.forward\u001b[0;34m(self, input)\u001b[0m\n\u001b[1;32m    215\u001b[0m \u001b[38;5;28;01mdef\u001b[39;00m \u001b[38;5;21mforward\u001b[39m(\u001b[38;5;28mself\u001b[39m, \u001b[38;5;28minput\u001b[39m):\n\u001b[1;32m    216\u001b[0m     \u001b[38;5;28;01mfor\u001b[39;00m module \u001b[38;5;129;01min\u001b[39;00m \u001b[38;5;28mself\u001b[39m:\n\u001b[0;32m--> 217\u001b[0m         \u001b[38;5;28minput\u001b[39m \u001b[38;5;241m=\u001b[39m \u001b[43mmodule\u001b[49m\u001b[43m(\u001b[49m\u001b[38;5;28;43minput\u001b[39;49m\u001b[43m)\u001b[49m\n\u001b[1;32m    218\u001b[0m     \u001b[38;5;28;01mreturn\u001b[39;00m \u001b[38;5;28minput\u001b[39m\n",
      "    \u001b[0;31m[... skipping similar frames: Module._call_impl at line 1501 (1 times)]\u001b[0m\n",
      "File \u001b[0;32m~/.local/lib/python3.8/site-packages/torch/nn/modules/container.py:217\u001b[0m, in \u001b[0;36mSequential.forward\u001b[0;34m(self, input)\u001b[0m\n\u001b[1;32m    215\u001b[0m \u001b[38;5;28;01mdef\u001b[39;00m \u001b[38;5;21mforward\u001b[39m(\u001b[38;5;28mself\u001b[39m, \u001b[38;5;28minput\u001b[39m):\n\u001b[1;32m    216\u001b[0m     \u001b[38;5;28;01mfor\u001b[39;00m module \u001b[38;5;129;01min\u001b[39;00m \u001b[38;5;28mself\u001b[39m:\n\u001b[0;32m--> 217\u001b[0m         \u001b[38;5;28minput\u001b[39m \u001b[38;5;241m=\u001b[39m \u001b[43mmodule\u001b[49m\u001b[43m(\u001b[49m\u001b[38;5;28;43minput\u001b[39;49m\u001b[43m)\u001b[49m\n\u001b[1;32m    218\u001b[0m     \u001b[38;5;28;01mreturn\u001b[39;00m \u001b[38;5;28minput\u001b[39m\n",
      "File \u001b[0;32m~/.local/lib/python3.8/site-packages/torch/nn/modules/module.py:1501\u001b[0m, in \u001b[0;36mModule._call_impl\u001b[0;34m(self, *args, **kwargs)\u001b[0m\n\u001b[1;32m   1496\u001b[0m \u001b[38;5;66;03m# If we don't have any hooks, we want to skip the rest of the logic in\u001b[39;00m\n\u001b[1;32m   1497\u001b[0m \u001b[38;5;66;03m# this function, and just call forward.\u001b[39;00m\n\u001b[1;32m   1498\u001b[0m \u001b[38;5;28;01mif\u001b[39;00m \u001b[38;5;129;01mnot\u001b[39;00m (\u001b[38;5;28mself\u001b[39m\u001b[38;5;241m.\u001b[39m_backward_hooks \u001b[38;5;129;01mor\u001b[39;00m \u001b[38;5;28mself\u001b[39m\u001b[38;5;241m.\u001b[39m_backward_pre_hooks \u001b[38;5;129;01mor\u001b[39;00m \u001b[38;5;28mself\u001b[39m\u001b[38;5;241m.\u001b[39m_forward_hooks \u001b[38;5;129;01mor\u001b[39;00m \u001b[38;5;28mself\u001b[39m\u001b[38;5;241m.\u001b[39m_forward_pre_hooks\n\u001b[1;32m   1499\u001b[0m         \u001b[38;5;129;01mor\u001b[39;00m _global_backward_pre_hooks \u001b[38;5;129;01mor\u001b[39;00m _global_backward_hooks\n\u001b[1;32m   1500\u001b[0m         \u001b[38;5;129;01mor\u001b[39;00m _global_forward_hooks \u001b[38;5;129;01mor\u001b[39;00m _global_forward_pre_hooks):\n\u001b[0;32m-> 1501\u001b[0m     \u001b[38;5;28;01mreturn\u001b[39;00m \u001b[43mforward_call\u001b[49m\u001b[43m(\u001b[49m\u001b[38;5;241;43m*\u001b[39;49m\u001b[43margs\u001b[49m\u001b[43m,\u001b[49m\u001b[43m \u001b[49m\u001b[38;5;241;43m*\u001b[39;49m\u001b[38;5;241;43m*\u001b[39;49m\u001b[43mkwargs\u001b[49m\u001b[43m)\u001b[49m\n\u001b[1;32m   1502\u001b[0m \u001b[38;5;66;03m# Do not call functions when jit is used\u001b[39;00m\n\u001b[1;32m   1503\u001b[0m full_backward_hooks, non_full_backward_hooks \u001b[38;5;241m=\u001b[39m [], []\n",
      "File \u001b[0;32m~/.local/lib/python3.8/site-packages/torch/nn/modules/batchnorm.py:171\u001b[0m, in \u001b[0;36m_BatchNorm.forward\u001b[0;34m(self, input)\u001b[0m\n\u001b[1;32m    164\u001b[0m     bn_training \u001b[38;5;241m=\u001b[39m (\u001b[38;5;28mself\u001b[39m\u001b[38;5;241m.\u001b[39mrunning_mean \u001b[38;5;129;01mis\u001b[39;00m \u001b[38;5;28;01mNone\u001b[39;00m) \u001b[38;5;129;01mand\u001b[39;00m (\u001b[38;5;28mself\u001b[39m\u001b[38;5;241m.\u001b[39mrunning_var \u001b[38;5;129;01mis\u001b[39;00m \u001b[38;5;28;01mNone\u001b[39;00m)\n\u001b[1;32m    166\u001b[0m \u001b[38;5;250m\u001b[39m\u001b[38;5;124mr\u001b[39m\u001b[38;5;124;03m\"\"\"\u001b[39;00m\n\u001b[1;32m    167\u001b[0m \u001b[38;5;124;03mBuffers are only updated if they are to be tracked and we are in training mode. Thus they only need to be\u001b[39;00m\n\u001b[1;32m    168\u001b[0m \u001b[38;5;124;03mpassed when the update should occur (i.e. in training mode when they are tracked), or when buffer stats are\u001b[39;00m\n\u001b[1;32m    169\u001b[0m \u001b[38;5;124;03mused for normalization (i.e. in eval mode when buffers are not None).\u001b[39;00m\n\u001b[1;32m    170\u001b[0m \u001b[38;5;124;03m\"\"\"\u001b[39;00m\n\u001b[0;32m--> 171\u001b[0m \u001b[38;5;28;01mreturn\u001b[39;00m \u001b[43mF\u001b[49m\u001b[38;5;241;43m.\u001b[39;49m\u001b[43mbatch_norm\u001b[49m\u001b[43m(\u001b[49m\n\u001b[1;32m    172\u001b[0m \u001b[43m    \u001b[49m\u001b[38;5;28;43minput\u001b[39;49m\u001b[43m,\u001b[49m\n\u001b[1;32m    173\u001b[0m \u001b[43m    \u001b[49m\u001b[38;5;66;43;03m# If buffers are not to be tracked, ensure that they won't be updated\u001b[39;49;00m\n\u001b[1;32m    174\u001b[0m \u001b[43m    \u001b[49m\u001b[38;5;28;43mself\u001b[39;49m\u001b[38;5;241;43m.\u001b[39;49m\u001b[43mrunning_mean\u001b[49m\n\u001b[1;32m    175\u001b[0m \u001b[43m    \u001b[49m\u001b[38;5;28;43;01mif\u001b[39;49;00m\u001b[43m \u001b[49m\u001b[38;5;129;43;01mnot\u001b[39;49;00m\u001b[43m \u001b[49m\u001b[38;5;28;43mself\u001b[39;49m\u001b[38;5;241;43m.\u001b[39;49m\u001b[43mtraining\u001b[49m\u001b[43m \u001b[49m\u001b[38;5;129;43;01mor\u001b[39;49;00m\u001b[43m \u001b[49m\u001b[38;5;28;43mself\u001b[39;49m\u001b[38;5;241;43m.\u001b[39;49m\u001b[43mtrack_running_stats\u001b[49m\n\u001b[1;32m    176\u001b[0m \u001b[43m    \u001b[49m\u001b[38;5;28;43;01melse\u001b[39;49;00m\u001b[43m \u001b[49m\u001b[38;5;28;43;01mNone\u001b[39;49;00m\u001b[43m,\u001b[49m\n\u001b[1;32m    177\u001b[0m \u001b[43m    \u001b[49m\u001b[38;5;28;43mself\u001b[39;49m\u001b[38;5;241;43m.\u001b[39;49m\u001b[43mrunning_var\u001b[49m\u001b[43m \u001b[49m\u001b[38;5;28;43;01mif\u001b[39;49;00m\u001b[43m \u001b[49m\u001b[38;5;129;43;01mnot\u001b[39;49;00m\u001b[43m \u001b[49m\u001b[38;5;28;43mself\u001b[39;49m\u001b[38;5;241;43m.\u001b[39;49m\u001b[43mtraining\u001b[49m\u001b[43m \u001b[49m\u001b[38;5;129;43;01mor\u001b[39;49;00m\u001b[43m \u001b[49m\u001b[38;5;28;43mself\u001b[39;49m\u001b[38;5;241;43m.\u001b[39;49m\u001b[43mtrack_running_stats\u001b[49m\u001b[43m \u001b[49m\u001b[38;5;28;43;01melse\u001b[39;49;00m\u001b[43m \u001b[49m\u001b[38;5;28;43;01mNone\u001b[39;49;00m\u001b[43m,\u001b[49m\n\u001b[1;32m    178\u001b[0m \u001b[43m    \u001b[49m\u001b[38;5;28;43mself\u001b[39;49m\u001b[38;5;241;43m.\u001b[39;49m\u001b[43mweight\u001b[49m\u001b[43m,\u001b[49m\n\u001b[1;32m    179\u001b[0m \u001b[43m    \u001b[49m\u001b[38;5;28;43mself\u001b[39;49m\u001b[38;5;241;43m.\u001b[39;49m\u001b[43mbias\u001b[49m\u001b[43m,\u001b[49m\n\u001b[1;32m    180\u001b[0m \u001b[43m    \u001b[49m\u001b[43mbn_training\u001b[49m\u001b[43m,\u001b[49m\n\u001b[1;32m    181\u001b[0m \u001b[43m    \u001b[49m\u001b[43mexponential_average_factor\u001b[49m\u001b[43m,\u001b[49m\n\u001b[1;32m    182\u001b[0m \u001b[43m    \u001b[49m\u001b[38;5;28;43mself\u001b[39;49m\u001b[38;5;241;43m.\u001b[39;49m\u001b[43meps\u001b[49m\u001b[43m,\u001b[49m\n\u001b[1;32m    183\u001b[0m \u001b[43m\u001b[49m\u001b[43m)\u001b[49m\n",
      "File \u001b[0;32m~/.local/lib/python3.8/site-packages/torch/nn/functional.py:2450\u001b[0m, in \u001b[0;36mbatch_norm\u001b[0;34m(input, running_mean, running_var, weight, bias, training, momentum, eps)\u001b[0m\n\u001b[1;32m   2447\u001b[0m \u001b[38;5;28;01mif\u001b[39;00m training:\n\u001b[1;32m   2448\u001b[0m     _verify_batch_size(\u001b[38;5;28minput\u001b[39m\u001b[38;5;241m.\u001b[39msize())\n\u001b[0;32m-> 2450\u001b[0m \u001b[38;5;28;01mreturn\u001b[39;00m \u001b[43mtorch\u001b[49m\u001b[38;5;241;43m.\u001b[39;49m\u001b[43mbatch_norm\u001b[49m\u001b[43m(\u001b[49m\n\u001b[1;32m   2451\u001b[0m \u001b[43m    \u001b[49m\u001b[38;5;28;43minput\u001b[39;49m\u001b[43m,\u001b[49m\u001b[43m \u001b[49m\u001b[43mweight\u001b[49m\u001b[43m,\u001b[49m\u001b[43m \u001b[49m\u001b[43mbias\u001b[49m\u001b[43m,\u001b[49m\u001b[43m \u001b[49m\u001b[43mrunning_mean\u001b[49m\u001b[43m,\u001b[49m\u001b[43m \u001b[49m\u001b[43mrunning_var\u001b[49m\u001b[43m,\u001b[49m\u001b[43m \u001b[49m\u001b[43mtraining\u001b[49m\u001b[43m,\u001b[49m\u001b[43m \u001b[49m\u001b[43mmomentum\u001b[49m\u001b[43m,\u001b[49m\u001b[43m \u001b[49m\u001b[43meps\u001b[49m\u001b[43m,\u001b[49m\u001b[43m \u001b[49m\u001b[43mtorch\u001b[49m\u001b[38;5;241;43m.\u001b[39;49m\u001b[43mbackends\u001b[49m\u001b[38;5;241;43m.\u001b[39;49m\u001b[43mcudnn\u001b[49m\u001b[38;5;241;43m.\u001b[39;49m\u001b[43menabled\u001b[49m\n\u001b[1;32m   2452\u001b[0m \u001b[43m\u001b[49m\u001b[43m)\u001b[49m\n",
      "\u001b[0;31mOutOfMemoryError\u001b[0m: CUDA out of memory. Tried to allocate 1.78 GiB (GPU 1; 23.70 GiB total capacity; 9.19 GiB already allocated; 575.81 MiB free; 9.57 GiB reserved in total by PyTorch) If reserved memory is >> allocated memory try setting max_split_size_mb to avoid fragmentation.  See documentation for Memory Management and PYTORCH_CUDA_ALLOC_CONF"
     ]
    }
   ],
   "source": [
    "\n",
    "if __name__ == \"__main__\":\n",
    "    # Cargar el modelo\n",
    "    device = torch.device(\"cuda:1\" if torch.cuda.is_available() else \"cpu\")\n",
    "\n",
    "    # Realizar la validación\n",
    "    loss_evolution, average_metric, average_accuracy = validate_model_one_label(model, val_dataloader, device)"
   ]
  },
  {
   "cell_type": "code",
   "execution_count": null,
   "metadata": {},
   "outputs": [],
   "source": []
  },
  {
   "cell_type": "code",
   "execution_count": null,
   "metadata": {},
   "outputs": [],
   "source": []
  }
 ],
 "metadata": {
  "kernelspec": {
   "display_name": "Python 3 (ipykernel)",
   "language": "python",
   "name": "python3"
  },
  "language_info": {
   "codemirror_mode": {
    "name": "ipython",
    "version": 3
   },
   "file_extension": ".py",
   "mimetype": "text/x-python",
   "name": "python",
   "nbconvert_exporter": "python",
   "pygments_lexer": "ipython3",
   "version": "3.8.10"
  }
 },
 "nbformat": 4,
 "nbformat_minor": 4
}
