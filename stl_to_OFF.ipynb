{
 "cells": [
  {
   "cell_type": "markdown",
   "metadata": {},
   "source": [
    "Generate stl mesh from the binary masks"
   ]
  },
  {
   "cell_type": "code",
   "execution_count": 10,
   "metadata": {},
   "outputs": [],
   "source": [
    "import meshlib.mrmeshpy as mr\n",
    "import meshlib.mrmeshnumpy as mrn\n",
    "import os\n",
    "import SimpleITK as sitk\n",
    "\n",
    "path = \"/home/paulagmtz/TFM_PAULA_24/DATA_TFM/BINARY_MASKS/\"\n",
    "im_list = os.listdir(path)\n",
    "for i in range(len(im_list)):\n",
    "    inputData = path + im_list[i]\n",
    "    name = os.path.splitext(im_list[i])[0]\n",
    "    im = sitk.ReadImage(inputData, sitk.sitkFloat32)\n",
    "    im_arr = sitk.GetArrayFromImage(im)\n",
    "    #convert 3D array to SimpleVolume data\n",
    "    simpleVolume = mrn.simpleVolumeFrom3Darray(im_arr)\n",
    "\n",
    "    #convert SimpleVolume to FloatGrid data\n",
    "    floatGrid = mr.simpleVolumeToDenseGrid(simpleVolume )\n",
    "\n",
    "    #make mesh by iso-value = 0.5 and voxel size = (0.1, 0.1, 0.1)\n",
    "    my_mesh = mr.gridToMesh(floatGrid , mr.Vector3f(0.1, 0.1, 0.1), 0.5)\n",
    "    # print(f\"/home/paulagmtz/TFM_PAULA_24/DATA_TFM/stl/{str(im_list[i])}_mesh.stl\")\n",
    "\n",
    "    #save mesh\n",
    "    mr.saveMesh(my_mesh,f\"/home/paulagmtz/TFM_PAULA_24/DATA_TFM/stl/{name}_mesh.stl\")"
   ]
  },
  {
   "cell_type": "markdown",
   "metadata": {},
   "source": [
    "Tengo stl y quiero pasarlo a OFF para que los archivos que generen sean como los del modelnet40. en estos archivos tengo descrito:\n",
    "\n",
    "        OFF\n",
    "        num_vertices num_faces num_edges\n",
    "        vertices\n",
    "        faces\n",
    "\n",
    "Ejemplo:\n",
    "\n",
    "\n",
    "        OFF\n",
    "        8 6 12\n",
    "        1.0 0.0 0.0\n",
    "        0.0 1.0 0.0 \n",
    "        ..\n",
    "        4 0 1 5 4\n",
    "        4 1 2 6 5\n",
    "        ..."
   ]
  },
  {
   "cell_type": "markdown",
   "metadata": {},
   "source": [
    "# Convert stl to off"
   ]
  },
  {
   "cell_type": "code",
   "execution_count": 13,
   "metadata": {},
   "outputs": [],
   "source": [
    "from stl import mesh\n",
    "import numpy as np\n",
    "\n",
    "def convert_to_off(stl_filename, off_filename):\n",
    "    stl_mesh = mesh.Mesh.from_file(stl_filename)\n",
    "\n",
    "    # Obtener vértices y caras\n",
    "    vertices = stl_mesh.vectors.reshape((-1, 3))\n",
    "    faces = np.arange(len(vertices)).reshape((-1, 3))\n",
    "\n",
    "    # Escribir en formato OFF\n",
    "    with open(off_filename, 'w') as off_file:\n",
    "        off_file.write('OFF\\n')\n",
    "        off_file.write(f'{len(vertices)} {len(faces)} 0\\n')\n",
    "\n",
    "        for vertex in vertices:\n",
    "            off_file.write(f'{vertex[0]} {vertex[1]} {vertex[2]}\\n')\n",
    "\n",
    "        for face in faces:\n",
    "            off_file.write(f'3 {face[0]} {face[1]} {face[2]}\\n')\n",
    "\n",
    "\n",
    "stl_folder = \"/home/paulagmtz/TFM_PAULA_24/DATA_TFM/stl/\"\n",
    "off_folder = \"/home/paulagmtz/TFM_PAULA_24/DATA_TFM/off/\"\n",
    "for i in os.listdir(stl_folder):\n",
    "    \n",
    "    stl_filename = stl_folder + i\n",
    "    name = os.path.splitext(i)[0]\n",
    "    \n",
    "    off_filename = off_folder+name+\".off\"\n",
    "    \n",
    "    convert_to_off(stl_filename, off_filename)\n"
   ]
  }
 ],
 "metadata": {
  "kernelspec": {
   "display_name": ".venv",
   "language": "python",
   "name": "python3"
  },
  "language_info": {
   "codemirror_mode": {
    "name": "ipython",
    "version": 3
   },
   "file_extension": ".py",
   "mimetype": "text/x-python",
   "name": "python",
   "nbconvert_exporter": "python",
   "pygments_lexer": "ipython3",
   "version": "3.11.5"
  }
 },
 "nbformat": 4,
 "nbformat_minor": 2
}
